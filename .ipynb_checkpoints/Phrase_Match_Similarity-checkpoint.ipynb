{
 "cells": [
  {
   "cell_type": "markdown",
   "id": "86232535",
   "metadata": {},
   "source": [
    "## Todo 04/12/2022\n",
    "\n",
    "1. Need to figure out a way to account for words that have never been seen before\n",
    "    * So we need to figure out a way to bin words that are similar to each other\n",
    "    * here is what we can do: https://www.analyticsvidhya.com/blog/2020/05/what-is-tokenization-nlp/\n",
    "    * https://neptune.ai/blog/wasserstein-distance-and-textual-similarity\n",
    "    * Remove stop words (preprocessing)\n",
    "    * "
   ]
  },
  {
   "cell_type": "markdown",
   "id": "ea4d9b4a",
   "metadata": {},
   "source": [
    "__Imports__"
   ]
  },
  {
   "cell_type": "code",
   "execution_count": 1,
   "id": "3af5ed51",
   "metadata": {},
   "outputs": [],
   "source": [
    "import pandas as pd\n",
    "import numpy as np\n",
    "from sklearn.preprocessing import LabelEncoder\n",
    "from sklearn.model_selection import train_test_split\n",
    "import nltk\n",
    "from nltk.tokenize import word_tokenize\n",
    "#nltk.download()"
   ]
  },
  {
   "cell_type": "markdown",
   "id": "b6b0ce0b",
   "metadata": {},
   "source": [
    "__Read in Data__"
   ]
  },
  {
   "cell_type": "code",
   "execution_count": 2,
   "id": "eca625d9",
   "metadata": {
    "scrolled": true
   },
   "outputs": [
    {
     "data": {
      "text/html": [
       "<div>\n",
       "<style scoped>\n",
       "    .dataframe tbody tr th:only-of-type {\n",
       "        vertical-align: middle;\n",
       "    }\n",
       "\n",
       "    .dataframe tbody tr th {\n",
       "        vertical-align: top;\n",
       "    }\n",
       "\n",
       "    .dataframe thead th {\n",
       "        text-align: right;\n",
       "    }\n",
       "</style>\n",
       "<table border=\"1\" class=\"dataframe\">\n",
       "  <thead>\n",
       "    <tr style=\"text-align: right;\">\n",
       "      <th></th>\n",
       "      <th>id</th>\n",
       "      <th>anchor</th>\n",
       "      <th>target</th>\n",
       "      <th>context</th>\n",
       "      <th>score</th>\n",
       "    </tr>\n",
       "  </thead>\n",
       "  <tbody>\n",
       "    <tr>\n",
       "      <th>0</th>\n",
       "      <td>37d61fd2272659b1</td>\n",
       "      <td>abatement</td>\n",
       "      <td>abatement of pollution</td>\n",
       "      <td>A47</td>\n",
       "      <td>0.50</td>\n",
       "    </tr>\n",
       "    <tr>\n",
       "      <th>1</th>\n",
       "      <td>7b9652b17b68b7a4</td>\n",
       "      <td>abatement</td>\n",
       "      <td>act of abating</td>\n",
       "      <td>A47</td>\n",
       "      <td>0.75</td>\n",
       "    </tr>\n",
       "    <tr>\n",
       "      <th>2</th>\n",
       "      <td>36d72442aefd8232</td>\n",
       "      <td>abatement</td>\n",
       "      <td>active catalyst</td>\n",
       "      <td>A47</td>\n",
       "      <td>0.25</td>\n",
       "    </tr>\n",
       "    <tr>\n",
       "      <th>3</th>\n",
       "      <td>5296b0c19e1ce60e</td>\n",
       "      <td>abatement</td>\n",
       "      <td>eliminating process</td>\n",
       "      <td>A47</td>\n",
       "      <td>0.50</td>\n",
       "    </tr>\n",
       "    <tr>\n",
       "      <th>4</th>\n",
       "      <td>54c1e3b9184cb5b6</td>\n",
       "      <td>abatement</td>\n",
       "      <td>forest region</td>\n",
       "      <td>A47</td>\n",
       "      <td>0.00</td>\n",
       "    </tr>\n",
       "  </tbody>\n",
       "</table>\n",
       "</div>"
      ],
      "text/plain": [
       "                 id     anchor                  target context  score\n",
       "0  37d61fd2272659b1  abatement  abatement of pollution     A47   0.50\n",
       "1  7b9652b17b68b7a4  abatement          act of abating     A47   0.75\n",
       "2  36d72442aefd8232  abatement         active catalyst     A47   0.25\n",
       "3  5296b0c19e1ce60e  abatement     eliminating process     A47   0.50\n",
       "4  54c1e3b9184cb5b6  abatement           forest region     A47   0.00"
      ]
     },
     "execution_count": 2,
     "metadata": {},
     "output_type": "execute_result"
    }
   ],
   "source": [
    "df_1 = pd.read_csv(\"data/train.csv\")\n",
    "df_1.head()"
   ]
  },
  {
   "cell_type": "code",
   "execution_count": 3,
   "id": "4378a096",
   "metadata": {
    "scrolled": true
   },
   "outputs": [
    {
     "data": {
      "text/html": [
       "<div>\n",
       "<style scoped>\n",
       "    .dataframe tbody tr th:only-of-type {\n",
       "        vertical-align: middle;\n",
       "    }\n",
       "\n",
       "    .dataframe tbody tr th {\n",
       "        vertical-align: top;\n",
       "    }\n",
       "\n",
       "    .dataframe thead th {\n",
       "        text-align: right;\n",
       "    }\n",
       "</style>\n",
       "<table border=\"1\" class=\"dataframe\">\n",
       "  <thead>\n",
       "    <tr style=\"text-align: right;\">\n",
       "      <th></th>\n",
       "      <th>score</th>\n",
       "    </tr>\n",
       "  </thead>\n",
       "  <tbody>\n",
       "    <tr>\n",
       "      <th>count</th>\n",
       "      <td>36473.000000</td>\n",
       "    </tr>\n",
       "    <tr>\n",
       "      <th>mean</th>\n",
       "      <td>0.362062</td>\n",
       "    </tr>\n",
       "    <tr>\n",
       "      <th>std</th>\n",
       "      <td>0.258335</td>\n",
       "    </tr>\n",
       "    <tr>\n",
       "      <th>min</th>\n",
       "      <td>0.000000</td>\n",
       "    </tr>\n",
       "    <tr>\n",
       "      <th>25%</th>\n",
       "      <td>0.250000</td>\n",
       "    </tr>\n",
       "    <tr>\n",
       "      <th>50%</th>\n",
       "      <td>0.250000</td>\n",
       "    </tr>\n",
       "    <tr>\n",
       "      <th>75%</th>\n",
       "      <td>0.500000</td>\n",
       "    </tr>\n",
       "    <tr>\n",
       "      <th>max</th>\n",
       "      <td>1.000000</td>\n",
       "    </tr>\n",
       "  </tbody>\n",
       "</table>\n",
       "</div>"
      ],
      "text/plain": [
       "              score\n",
       "count  36473.000000\n",
       "mean       0.362062\n",
       "std        0.258335\n",
       "min        0.000000\n",
       "25%        0.250000\n",
       "50%        0.250000\n",
       "75%        0.500000\n",
       "max        1.000000"
      ]
     },
     "execution_count": 3,
     "metadata": {},
     "output_type": "execute_result"
    }
   ],
   "source": [
    "df_1.describe()"
   ]
  },
  {
   "cell_type": "code",
   "execution_count": 4,
   "id": "42f5c48c",
   "metadata": {},
   "outputs": [
    {
     "data": {
      "text/plain": [
       "id         False\n",
       "anchor     False\n",
       "target     False\n",
       "context    False\n",
       "score      False\n",
       "dtype: bool"
      ]
     },
     "execution_count": 4,
     "metadata": {},
     "output_type": "execute_result"
    }
   ],
   "source": [
    "df_1.isnull().any()"
   ]
  },
  {
   "cell_type": "markdown",
   "id": "4c7cbe60",
   "metadata": {},
   "source": [
    "__This is the amount of words in each row with respect to the column__\n",
    "* Must be applied to anchor and target"
   ]
  },
  {
   "cell_type": "markdown",
   "id": "95f3aa80",
   "metadata": {},
   "source": [
    "These are the unique amount of words in __anchor__ column"
   ]
  },
  {
   "cell_type": "code",
   "execution_count": 5,
   "id": "cd2e5c25",
   "metadata": {},
   "outputs": [
    {
     "data": {
      "text/plain": [
       "array([1, 2, 3, 4, 5], dtype=int64)"
      ]
     },
     "execution_count": 5,
     "metadata": {},
     "output_type": "execute_result"
    }
   ],
   "source": [
    "np.unique(np.array(df_1['anchor'].apply(lambda x : len(x.split()))))"
   ]
  },
  {
   "cell_type": "markdown",
   "id": "41935907",
   "metadata": {},
   "source": [
    "These are the unique amount of words in __target__ column"
   ]
  },
  {
   "cell_type": "code",
   "execution_count": 6,
   "id": "820b9ae5",
   "metadata": {},
   "outputs": [
    {
     "data": {
      "text/plain": [
       "array([ 1,  2,  3,  4,  5,  6,  7,  8,  9, 10, 11, 12, 13, 15],\n",
       "      dtype=int64)"
      ]
     },
     "execution_count": 6,
     "metadata": {},
     "output_type": "execute_result"
    }
   ],
   "source": [
    "np.unique(np.array(df_1['target'].apply(lambda x : len(x.split()))))"
   ]
  },
  {
   "cell_type": "markdown",
   "id": "660666cb",
   "metadata": {},
   "source": [
    "We can probably drop __context__ because its a label"
   ]
  },
  {
   "cell_type": "code",
   "execution_count": 7,
   "id": "38223c85",
   "metadata": {
    "scrolled": true
   },
   "outputs": [
    {
     "data": {
      "text/plain": [
       "array([1], dtype=int64)"
      ]
     },
     "execution_count": 7,
     "metadata": {},
     "output_type": "execute_result"
    }
   ],
   "source": [
    "np.unique(np.array(df_1['context'].apply(lambda x : len(x.split()))))"
   ]
  },
  {
   "cell_type": "markdown",
   "id": "e59c8e8a",
   "metadata": {},
   "source": [
    "__Tokenization__"
   ]
  },
  {
   "cell_type": "code",
   "execution_count": 8,
   "id": "3466058d",
   "metadata": {},
   "outputs": [],
   "source": [
    "from nltk.tokenize import word_tokenize\n",
    "df_1['target'] = df_1['target'].apply(lambda x : word_tokenize(x))\n",
    "df_1['anchor'] = df_1['anchor'].apply(lambda x : word_tokenize(x))"
   ]
  },
  {
   "cell_type": "code",
   "execution_count": 9,
   "id": "e692e41e",
   "metadata": {},
   "outputs": [
    {
     "data": {
      "text/html": [
       "<div>\n",
       "<style scoped>\n",
       "    .dataframe tbody tr th:only-of-type {\n",
       "        vertical-align: middle;\n",
       "    }\n",
       "\n",
       "    .dataframe tbody tr th {\n",
       "        vertical-align: top;\n",
       "    }\n",
       "\n",
       "    .dataframe thead th {\n",
       "        text-align: right;\n",
       "    }\n",
       "</style>\n",
       "<table border=\"1\" class=\"dataframe\">\n",
       "  <thead>\n",
       "    <tr style=\"text-align: right;\">\n",
       "      <th></th>\n",
       "      <th>id</th>\n",
       "      <th>anchor</th>\n",
       "      <th>target</th>\n",
       "      <th>context</th>\n",
       "      <th>score</th>\n",
       "    </tr>\n",
       "  </thead>\n",
       "  <tbody>\n",
       "    <tr>\n",
       "      <th>0</th>\n",
       "      <td>37d61fd2272659b1</td>\n",
       "      <td>[abatement]</td>\n",
       "      <td>[abatement, of, pollution]</td>\n",
       "      <td>A47</td>\n",
       "      <td>0.50</td>\n",
       "    </tr>\n",
       "    <tr>\n",
       "      <th>1</th>\n",
       "      <td>7b9652b17b68b7a4</td>\n",
       "      <td>[abatement]</td>\n",
       "      <td>[act, of, abating]</td>\n",
       "      <td>A47</td>\n",
       "      <td>0.75</td>\n",
       "    </tr>\n",
       "    <tr>\n",
       "      <th>2</th>\n",
       "      <td>36d72442aefd8232</td>\n",
       "      <td>[abatement]</td>\n",
       "      <td>[active, catalyst]</td>\n",
       "      <td>A47</td>\n",
       "      <td>0.25</td>\n",
       "    </tr>\n",
       "    <tr>\n",
       "      <th>3</th>\n",
       "      <td>5296b0c19e1ce60e</td>\n",
       "      <td>[abatement]</td>\n",
       "      <td>[eliminating, process]</td>\n",
       "      <td>A47</td>\n",
       "      <td>0.50</td>\n",
       "    </tr>\n",
       "    <tr>\n",
       "      <th>4</th>\n",
       "      <td>54c1e3b9184cb5b6</td>\n",
       "      <td>[abatement]</td>\n",
       "      <td>[forest, region]</td>\n",
       "      <td>A47</td>\n",
       "      <td>0.00</td>\n",
       "    </tr>\n",
       "  </tbody>\n",
       "</table>\n",
       "</div>"
      ],
      "text/plain": [
       "                 id       anchor                      target context  score\n",
       "0  37d61fd2272659b1  [abatement]  [abatement, of, pollution]     A47   0.50\n",
       "1  7b9652b17b68b7a4  [abatement]          [act, of, abating]     A47   0.75\n",
       "2  36d72442aefd8232  [abatement]          [active, catalyst]     A47   0.25\n",
       "3  5296b0c19e1ce60e  [abatement]      [eliminating, process]     A47   0.50\n",
       "4  54c1e3b9184cb5b6  [abatement]            [forest, region]     A47   0.00"
      ]
     },
     "execution_count": 9,
     "metadata": {},
     "output_type": "execute_result"
    }
   ],
   "source": [
    "df_1.head()"
   ]
  },
  {
   "cell_type": "markdown",
   "id": "99099c08",
   "metadata": {},
   "source": [
    "__Stopwords Removal__"
   ]
  },
  {
   "cell_type": "code",
   "execution_count": 10,
   "id": "65e47800",
   "metadata": {},
   "outputs": [],
   "source": [
    "from nltk.corpus import stopwords\n",
    "stop_words = set(stopwords.words('english'))\n",
    "df_1['target'] = df_1['target'].apply(lambda x : [w for w in x if not w in stop_words])\n",
    "df_1['anchor'] = df_1['anchor'].apply(lambda x : [w for w in x if not w in stop_words])"
   ]
  },
  {
   "cell_type": "code",
   "execution_count": 11,
   "id": "756f8d9e",
   "metadata": {},
   "outputs": [
    {
     "data": {
      "text/html": [
       "<div>\n",
       "<style scoped>\n",
       "    .dataframe tbody tr th:only-of-type {\n",
       "        vertical-align: middle;\n",
       "    }\n",
       "\n",
       "    .dataframe tbody tr th {\n",
       "        vertical-align: top;\n",
       "    }\n",
       "\n",
       "    .dataframe thead th {\n",
       "        text-align: right;\n",
       "    }\n",
       "</style>\n",
       "<table border=\"1\" class=\"dataframe\">\n",
       "  <thead>\n",
       "    <tr style=\"text-align: right;\">\n",
       "      <th></th>\n",
       "      <th>id</th>\n",
       "      <th>anchor</th>\n",
       "      <th>target</th>\n",
       "      <th>context</th>\n",
       "      <th>score</th>\n",
       "    </tr>\n",
       "  </thead>\n",
       "  <tbody>\n",
       "    <tr>\n",
       "      <th>0</th>\n",
       "      <td>37d61fd2272659b1</td>\n",
       "      <td>[abatement]</td>\n",
       "      <td>[abatement, pollution]</td>\n",
       "      <td>A47</td>\n",
       "      <td>0.50</td>\n",
       "    </tr>\n",
       "    <tr>\n",
       "      <th>1</th>\n",
       "      <td>7b9652b17b68b7a4</td>\n",
       "      <td>[abatement]</td>\n",
       "      <td>[act, abating]</td>\n",
       "      <td>A47</td>\n",
       "      <td>0.75</td>\n",
       "    </tr>\n",
       "    <tr>\n",
       "      <th>2</th>\n",
       "      <td>36d72442aefd8232</td>\n",
       "      <td>[abatement]</td>\n",
       "      <td>[active, catalyst]</td>\n",
       "      <td>A47</td>\n",
       "      <td>0.25</td>\n",
       "    </tr>\n",
       "    <tr>\n",
       "      <th>3</th>\n",
       "      <td>5296b0c19e1ce60e</td>\n",
       "      <td>[abatement]</td>\n",
       "      <td>[eliminating, process]</td>\n",
       "      <td>A47</td>\n",
       "      <td>0.50</td>\n",
       "    </tr>\n",
       "    <tr>\n",
       "      <th>4</th>\n",
       "      <td>54c1e3b9184cb5b6</td>\n",
       "      <td>[abatement]</td>\n",
       "      <td>[forest, region]</td>\n",
       "      <td>A47</td>\n",
       "      <td>0.00</td>\n",
       "    </tr>\n",
       "  </tbody>\n",
       "</table>\n",
       "</div>"
      ],
      "text/plain": [
       "                 id       anchor                  target context  score\n",
       "0  37d61fd2272659b1  [abatement]  [abatement, pollution]     A47   0.50\n",
       "1  7b9652b17b68b7a4  [abatement]          [act, abating]     A47   0.75\n",
       "2  36d72442aefd8232  [abatement]      [active, catalyst]     A47   0.25\n",
       "3  5296b0c19e1ce60e  [abatement]  [eliminating, process]     A47   0.50\n",
       "4  54c1e3b9184cb5b6  [abatement]        [forest, region]     A47   0.00"
      ]
     },
     "execution_count": 11,
     "metadata": {},
     "output_type": "execute_result"
    }
   ],
   "source": [
    "df_1.head()"
   ]
  },
  {
   "cell_type": "markdown",
   "id": "a0ba7445",
   "metadata": {},
   "source": [
    "__Stemming__"
   ]
  },
  {
   "cell_type": "code",
   "execution_count": 12,
   "id": "9dad7a01",
   "metadata": {},
   "outputs": [],
   "source": [
    "from nltk.stem.snowball import SnowballStemmer\n",
    "snowBallStemmer = SnowballStemmer(\"english\")\n",
    "df_1['target'] = df_1['target'].apply(lambda x : [snowBallStemmer.stem(word) for word in x])\n",
    "df_1['anchor'] = df_1['anchor'].apply(lambda x: [snowBallStemmer.stem(word) for word in x])"
   ]
  },
  {
   "cell_type": "code",
   "execution_count": 13,
   "id": "5eb4af99",
   "metadata": {},
   "outputs": [
    {
     "data": {
      "text/html": [
       "<div>\n",
       "<style scoped>\n",
       "    .dataframe tbody tr th:only-of-type {\n",
       "        vertical-align: middle;\n",
       "    }\n",
       "\n",
       "    .dataframe tbody tr th {\n",
       "        vertical-align: top;\n",
       "    }\n",
       "\n",
       "    .dataframe thead th {\n",
       "        text-align: right;\n",
       "    }\n",
       "</style>\n",
       "<table border=\"1\" class=\"dataframe\">\n",
       "  <thead>\n",
       "    <tr style=\"text-align: right;\">\n",
       "      <th></th>\n",
       "      <th>id</th>\n",
       "      <th>anchor</th>\n",
       "      <th>target</th>\n",
       "      <th>context</th>\n",
       "      <th>score</th>\n",
       "    </tr>\n",
       "  </thead>\n",
       "  <tbody>\n",
       "    <tr>\n",
       "      <th>0</th>\n",
       "      <td>37d61fd2272659b1</td>\n",
       "      <td>[abat]</td>\n",
       "      <td>[abat, pollut]</td>\n",
       "      <td>A47</td>\n",
       "      <td>0.50</td>\n",
       "    </tr>\n",
       "    <tr>\n",
       "      <th>1</th>\n",
       "      <td>7b9652b17b68b7a4</td>\n",
       "      <td>[abat]</td>\n",
       "      <td>[act, abat]</td>\n",
       "      <td>A47</td>\n",
       "      <td>0.75</td>\n",
       "    </tr>\n",
       "    <tr>\n",
       "      <th>2</th>\n",
       "      <td>36d72442aefd8232</td>\n",
       "      <td>[abat]</td>\n",
       "      <td>[activ, catalyst]</td>\n",
       "      <td>A47</td>\n",
       "      <td>0.25</td>\n",
       "    </tr>\n",
       "    <tr>\n",
       "      <th>3</th>\n",
       "      <td>5296b0c19e1ce60e</td>\n",
       "      <td>[abat]</td>\n",
       "      <td>[elimin, process]</td>\n",
       "      <td>A47</td>\n",
       "      <td>0.50</td>\n",
       "    </tr>\n",
       "    <tr>\n",
       "      <th>4</th>\n",
       "      <td>54c1e3b9184cb5b6</td>\n",
       "      <td>[abat]</td>\n",
       "      <td>[forest, region]</td>\n",
       "      <td>A47</td>\n",
       "      <td>0.00</td>\n",
       "    </tr>\n",
       "  </tbody>\n",
       "</table>\n",
       "</div>"
      ],
      "text/plain": [
       "                 id  anchor             target context  score\n",
       "0  37d61fd2272659b1  [abat]     [abat, pollut]     A47   0.50\n",
       "1  7b9652b17b68b7a4  [abat]        [act, abat]     A47   0.75\n",
       "2  36d72442aefd8232  [abat]  [activ, catalyst]     A47   0.25\n",
       "3  5296b0c19e1ce60e  [abat]  [elimin, process]     A47   0.50\n",
       "4  54c1e3b9184cb5b6  [abat]   [forest, region]     A47   0.00"
      ]
     },
     "execution_count": 13,
     "metadata": {},
     "output_type": "execute_result"
    }
   ],
   "source": [
    "df_1.head()"
   ]
  },
  {
   "cell_type": "markdown",
   "id": "149808d5",
   "metadata": {},
   "source": [
    "__Need to convert array to just strings__"
   ]
  },
  {
   "cell_type": "code",
   "execution_count": 14,
   "id": "3478312b",
   "metadata": {},
   "outputs": [],
   "source": [
    "df_1['anchor'] = df_1['anchor'].apply(lambda x : ','.join(map(str,x)))\n",
    "df_1['target'] = df_1['target'].apply(lambda x : ','.join(map(str,x)))"
   ]
  },
  {
   "cell_type": "code",
   "execution_count": 15,
   "id": "35e5a075",
   "metadata": {
    "scrolled": true
   },
   "outputs": [
    {
     "data": {
      "text/html": [
       "<div>\n",
       "<style scoped>\n",
       "    .dataframe tbody tr th:only-of-type {\n",
       "        vertical-align: middle;\n",
       "    }\n",
       "\n",
       "    .dataframe tbody tr th {\n",
       "        vertical-align: top;\n",
       "    }\n",
       "\n",
       "    .dataframe thead th {\n",
       "        text-align: right;\n",
       "    }\n",
       "</style>\n",
       "<table border=\"1\" class=\"dataframe\">\n",
       "  <thead>\n",
       "    <tr style=\"text-align: right;\">\n",
       "      <th></th>\n",
       "      <th>id</th>\n",
       "      <th>anchor</th>\n",
       "      <th>target</th>\n",
       "      <th>context</th>\n",
       "      <th>score</th>\n",
       "    </tr>\n",
       "  </thead>\n",
       "  <tbody>\n",
       "    <tr>\n",
       "      <th>0</th>\n",
       "      <td>37d61fd2272659b1</td>\n",
       "      <td>abat</td>\n",
       "      <td>abat,pollut</td>\n",
       "      <td>A47</td>\n",
       "      <td>0.50</td>\n",
       "    </tr>\n",
       "    <tr>\n",
       "      <th>1</th>\n",
       "      <td>7b9652b17b68b7a4</td>\n",
       "      <td>abat</td>\n",
       "      <td>act,abat</td>\n",
       "      <td>A47</td>\n",
       "      <td>0.75</td>\n",
       "    </tr>\n",
       "    <tr>\n",
       "      <th>2</th>\n",
       "      <td>36d72442aefd8232</td>\n",
       "      <td>abat</td>\n",
       "      <td>activ,catalyst</td>\n",
       "      <td>A47</td>\n",
       "      <td>0.25</td>\n",
       "    </tr>\n",
       "    <tr>\n",
       "      <th>3</th>\n",
       "      <td>5296b0c19e1ce60e</td>\n",
       "      <td>abat</td>\n",
       "      <td>elimin,process</td>\n",
       "      <td>A47</td>\n",
       "      <td>0.50</td>\n",
       "    </tr>\n",
       "    <tr>\n",
       "      <th>4</th>\n",
       "      <td>54c1e3b9184cb5b6</td>\n",
       "      <td>abat</td>\n",
       "      <td>forest,region</td>\n",
       "      <td>A47</td>\n",
       "      <td>0.00</td>\n",
       "    </tr>\n",
       "  </tbody>\n",
       "</table>\n",
       "</div>"
      ],
      "text/plain": [
       "                 id anchor          target context  score\n",
       "0  37d61fd2272659b1   abat     abat,pollut     A47   0.50\n",
       "1  7b9652b17b68b7a4   abat        act,abat     A47   0.75\n",
       "2  36d72442aefd8232   abat  activ,catalyst     A47   0.25\n",
       "3  5296b0c19e1ce60e   abat  elimin,process     A47   0.50\n",
       "4  54c1e3b9184cb5b6   abat   forest,region     A47   0.00"
      ]
     },
     "execution_count": 15,
     "metadata": {},
     "output_type": "execute_result"
    }
   ],
   "source": [
    "df_1.head()"
   ]
  },
  {
   "cell_type": "markdown",
   "id": "ef1ae9a1",
   "metadata": {},
   "source": [
    "These the the unique words in the __anchor__ column 10 are shown below"
   ]
  },
  {
   "cell_type": "code",
   "execution_count": 16,
   "id": "67ae06d6",
   "metadata": {},
   "outputs": [
    {
     "data": {
      "text/plain": [
       "array(['abat', 'abnorm,posit', 'absorb,properti', 'acan', 'accept,inform',\n",
       "       'achiev,authent', 'acid,absorpt', 'ack', 'acoustoopt,modul',\n",
       "       'acryl,group'], dtype=object)"
      ]
     },
     "execution_count": 16,
     "metadata": {},
     "output_type": "execute_result"
    }
   ],
   "source": [
    "np.unique(np.array(df_1['anchor']))[:10]"
   ]
  },
  {
   "cell_type": "markdown",
   "id": "dc40341b",
   "metadata": {},
   "source": [
    "These the the unique words in the __target__ column 10 are shown below"
   ]
  },
  {
   "cell_type": "code",
   "execution_count": 17,
   "id": "f1d4ad65",
   "metadata": {
    "scrolled": true
   },
   "outputs": [
    {
     "data": {
      "text/plain": [
       "array(['', '1,amino,2,methoxyethan', '1,azabicyclo', '1,bromopropan',\n",
       "       '1,methoxi,2,aminoethan', '10,bit,dac',\n",
       "       '111444,hexafluoro,2,buten', '12,dibromopropan',\n",
       "       '120,degre,interv', '12cao7al2o3'], dtype=object)"
      ]
     },
     "execution_count": 17,
     "metadata": {},
     "output_type": "execute_result"
    }
   ],
   "source": [
    "np.unique(np.array(df_1['target']))[:10]"
   ]
  },
  {
   "cell_type": "markdown",
   "id": "24e0a5c8",
   "metadata": {},
   "source": [
    "We have the issue of words going together, we need to seperate these so we can\n",
    "we need to seperate the lengths"
   ]
  },
  {
   "cell_type": "code",
   "execution_count": 18,
   "id": "5c00118e",
   "metadata": {},
   "outputs": [],
   "source": [
    "anchor_set = set()\n",
    "target_set = set()"
   ]
  },
  {
   "cell_type": "code",
   "execution_count": 19,
   "id": "93cc6b55",
   "metadata": {},
   "outputs": [],
   "source": [
    "def separator_anchor(arr):\n",
    "    for i in arr:\n",
    "        anchor_set.add(i)"
   ]
  },
  {
   "cell_type": "code",
   "execution_count": 20,
   "id": "96b7f2a2",
   "metadata": {},
   "outputs": [],
   "source": [
    "def separator_target(arr):\n",
    "    for i in arr:\n",
    "        target_set.add(i)"
   ]
  },
  {
   "cell_type": "code",
   "execution_count": 21,
   "id": "0013967a",
   "metadata": {},
   "outputs": [],
   "source": [
    "df_1['anchor'] = df_1['anchor'].apply(lambda x: x.split(','))\n",
    "df_1['target'] = df_1['target'].apply(lambda x: x.split(','))"
   ]
  },
  {
   "cell_type": "code",
   "execution_count": 22,
   "id": "7c48e719",
   "metadata": {},
   "outputs": [
    {
     "data": {
      "text/plain": [
       "0        None\n",
       "1        None\n",
       "2        None\n",
       "3        None\n",
       "4        None\n",
       "         ... \n",
       "36468    None\n",
       "36469    None\n",
       "36470    None\n",
       "36471    None\n",
       "36472    None\n",
       "Name: target, Length: 36473, dtype: object"
      ]
     },
     "execution_count": 22,
     "metadata": {},
     "output_type": "execute_result"
    }
   ],
   "source": [
    "df_1['anchor'].apply(lambda x: separator_anchor(x))\n",
    "df_1['target'].apply(lambda x: separator_target(x))"
   ]
  },
  {
   "cell_type": "markdown",
   "id": "3b0d9a65",
   "metadata": {},
   "source": [
    "__list comprehension__"
   ]
  },
  {
   "cell_type": "code",
   "execution_count": 23,
   "id": "726806fc",
   "metadata": {},
   "outputs": [],
   "source": [
    "anchor_arr = [i for i in anchor_set]\n",
    "target_arr = [i for i in target_set]"
   ]
  },
  {
   "cell_type": "markdown",
   "id": "c7bcf9ce",
   "metadata": {},
   "source": [
    "__Label Encoding__"
   ]
  },
  {
   "cell_type": "code",
   "execution_count": 24,
   "id": "fb16554f",
   "metadata": {},
   "outputs": [
    {
     "data": {
      "text/plain": [
       "LabelEncoder()"
      ]
     },
     "execution_count": 24,
     "metadata": {},
     "output_type": "execute_result"
    }
   ],
   "source": [
    "labelencoder_anchor = LabelEncoder()\n",
    "labelencoder_anchor.fit(anchor_arr)\n",
    "labelencoder_target = LabelEncoder()\n",
    "labelencoder_target.fit(target_arr)"
   ]
  },
  {
   "cell_type": "code",
   "execution_count": 25,
   "id": "53bd370a",
   "metadata": {},
   "outputs": [],
   "source": [
    "def encoding_anchor(arr):\n",
    "    temp = []\n",
    "    if len(arr) < 2:\n",
    "        for i in arr:\n",
    "            #print(labelencoder_anchor.transform([i]))\n",
    "            return labelencoder_anchor.transform([i])\n",
    "    if len(arr) > 1:\n",
    "        for i in arr:\n",
    "            #print(labelencoder_anchor.transform([i]))\n",
    "            temp.extend(labelencoder_anchor.transform([i]))\n",
    "        return temp"
   ]
  },
  {
   "cell_type": "code",
   "execution_count": 26,
   "id": "6a926b29",
   "metadata": {},
   "outputs": [],
   "source": [
    "def encoding_target(arr):\n",
    "    temp = []\n",
    "    if len(arr) < 2:\n",
    "        for i in arr:\n",
    "            #print(labelencoder_anchor.transform([i]))\n",
    "            return labelencoder_target.transform([i])\n",
    "    if len(arr) > 1:\n",
    "        for i in arr:\n",
    "            #print(labelencoder_anchor.transform([i]))\n",
    "            temp.extend(labelencoder_target.transform([i]))\n",
    "        return temp"
   ]
  },
  {
   "cell_type": "code",
   "execution_count": 27,
   "id": "bef04697",
   "metadata": {},
   "outputs": [],
   "source": [
    "df_1['anchor'] = df_1['anchor'].apply(lambda x: encoding_anchor(x))"
   ]
  },
  {
   "cell_type": "code",
   "execution_count": 28,
   "id": "2c137909",
   "metadata": {},
   "outputs": [],
   "source": [
    "df_1['target'] = df_1['target'].apply(lambda x: encoding_target(x))"
   ]
  },
  {
   "cell_type": "code",
   "execution_count": 29,
   "id": "59f572b6",
   "metadata": {},
   "outputs": [
    {
     "data": {
      "text/html": [
       "<div>\n",
       "<style scoped>\n",
       "    .dataframe tbody tr th:only-of-type {\n",
       "        vertical-align: middle;\n",
       "    }\n",
       "\n",
       "    .dataframe tbody tr th {\n",
       "        vertical-align: top;\n",
       "    }\n",
       "\n",
       "    .dataframe thead th {\n",
       "        text-align: right;\n",
       "    }\n",
       "</style>\n",
       "<table border=\"1\" class=\"dataframe\">\n",
       "  <thead>\n",
       "    <tr style=\"text-align: right;\">\n",
       "      <th></th>\n",
       "      <th>id</th>\n",
       "      <th>anchor</th>\n",
       "      <th>target</th>\n",
       "      <th>context</th>\n",
       "      <th>score</th>\n",
       "    </tr>\n",
       "  </thead>\n",
       "  <tbody>\n",
       "    <tr>\n",
       "      <th>0</th>\n",
       "      <td>37d61fd2272659b1</td>\n",
       "      <td>[0]</td>\n",
       "      <td>[35, 4113]</td>\n",
       "      <td>A47</td>\n",
       "      <td>0.50</td>\n",
       "    </tr>\n",
       "    <tr>\n",
       "      <th>1</th>\n",
       "      <td>7b9652b17b68b7a4</td>\n",
       "      <td>[0]</td>\n",
       "      <td>[84, 35]</td>\n",
       "      <td>A47</td>\n",
       "      <td>0.75</td>\n",
       "    </tr>\n",
       "    <tr>\n",
       "      <th>2</th>\n",
       "      <td>36d72442aefd8232</td>\n",
       "      <td>[0]</td>\n",
       "      <td>[86, 852]</td>\n",
       "      <td>A47</td>\n",
       "      <td>0.25</td>\n",
       "    </tr>\n",
       "    <tr>\n",
       "      <th>3</th>\n",
       "      <td>5296b0c19e1ce60e</td>\n",
       "      <td>[0]</td>\n",
       "      <td>[1798, 4260]</td>\n",
       "      <td>A47</td>\n",
       "      <td>0.50</td>\n",
       "    </tr>\n",
       "    <tr>\n",
       "      <th>4</th>\n",
       "      <td>54c1e3b9184cb5b6</td>\n",
       "      <td>[0]</td>\n",
       "      <td>[2177, 4500]</td>\n",
       "      <td>A47</td>\n",
       "      <td>0.00</td>\n",
       "    </tr>\n",
       "  </tbody>\n",
       "</table>\n",
       "</div>"
      ],
      "text/plain": [
       "                 id anchor        target context  score\n",
       "0  37d61fd2272659b1    [0]    [35, 4113]     A47   0.50\n",
       "1  7b9652b17b68b7a4    [0]      [84, 35]     A47   0.75\n",
       "2  36d72442aefd8232    [0]     [86, 852]     A47   0.25\n",
       "3  5296b0c19e1ce60e    [0]  [1798, 4260]     A47   0.50\n",
       "4  54c1e3b9184cb5b6    [0]  [2177, 4500]     A47   0.00"
      ]
     },
     "execution_count": 29,
     "metadata": {},
     "output_type": "execute_result"
    }
   ],
   "source": [
    "df_1.head()"
   ]
  },
  {
   "cell_type": "code",
   "execution_count": 30,
   "id": "8ad8dd26",
   "metadata": {},
   "outputs": [],
   "source": [
    "# count_vect = CountVectorizer(analyzer='word')\n",
    "# corpus =  np.array(df_1['target'])[0]\n",
    "# X_counts = count_vect.fit_transform(corpus)\n",
    "# df_1['target'].apply(lambda x: count_vect.fit_transform(x).toarray()[0])\n",
    "# print(X_counts.shape)\n",
    "# print(count_vect.get_feature_names())\n",
    "# print(X_counts.toarray()[0])\n",
    "# import pandas as pd\n",
    "# X_counts_df = pd.DataFrame(X_counts.toarray(), columns=count_vect.get_feature_names())\n",
    "# X_counts_df.head(10)"
   ]
  },
  {
   "cell_type": "markdown",
   "id": "315eaf9d",
   "metadata": {},
   "source": [
    "__Label Encoder__"
   ]
  },
  {
   "cell_type": "code",
   "execution_count": 31,
   "id": "16885290",
   "metadata": {},
   "outputs": [],
   "source": [
    "# labelencoder_anchor = LabelEncoder()\n",
    "# labelencoder_target = LabelEncoder()\n",
    "# labelencoder_context = LabelEncoder()\n",
    "# df_1['anchor'] = labelencoder_anchor.fit_transform(df_1['anchor'])\n",
    "# df_1['target'] = labelencoder_target.fit_transform(df_1['target'])\n",
    "# df_1['context'] = labelencoder_context.fit_transform(df_1['context'])"
   ]
  },
  {
   "cell_type": "markdown",
   "id": "251560f3",
   "metadata": {},
   "source": [
    "__Label Encoder Checkpoint__"
   ]
  },
  {
   "cell_type": "code",
   "execution_count": 32,
   "id": "1e9e5d1c",
   "metadata": {},
   "outputs": [],
   "source": [
    "# df_1.head()"
   ]
  },
  {
   "cell_type": "markdown",
   "id": "385e8bde",
   "metadata": {},
   "source": [
    "__Preparing test__\n",
    "* Will be used later for the competition"
   ]
  },
  {
   "cell_type": "code",
   "execution_count": 33,
   "id": "2c8afffb",
   "metadata": {},
   "outputs": [],
   "source": [
    "# test = pd.read_csv(\"test.csv\")\n",
    "# test['anchor'] = labelencoder_anchor.transform(test['anchor'])\n",
    "# test['target'] = labelencoder_target.transform(test['target'])\n",
    "# test['context'] = labelencoder_context.transform(test['context'])\n",
    "# test.head()\n",
    "# test_id = np.array(test['id'])\n",
    "# test.drop('id',axis=1,inplace=True)\n",
    "# x_test = test"
   ]
  },
  {
   "cell_type": "code",
   "execution_count": 34,
   "id": "b3c187be",
   "metadata": {},
   "outputs": [],
   "source": [
    "# df_1['merger'] = df_1['anchor'] + \",\"+ df_1['target']"
   ]
  },
  {
   "cell_type": "markdown",
   "id": "7425d052",
   "metadata": {},
   "source": [
    "__Spliting (70/30)__\n",
    "* Here we test/evaluate our models"
   ]
  },
  {
   "cell_type": "code",
   "execution_count": 35,
   "id": "26a82cdf",
   "metadata": {},
   "outputs": [],
   "source": [
    "# x = df_1.drop(['id','score'],axis=1).values\n",
    "x = df_1[['anchor','target']]\n",
    "y = df_1['score']"
   ]
  },
  {
   "cell_type": "code",
   "execution_count": 36,
   "id": "0be17aec",
   "metadata": {
    "scrolled": true
   },
   "outputs": [],
   "source": [
    "x_train, x_test, y_train, y_test = train_test_split(x, y, test_size=0.30, random_state=141)"
   ]
  },
  {
   "cell_type": "code",
   "execution_count": 37,
   "id": "6274fee9",
   "metadata": {},
   "outputs": [],
   "source": [
    "# from sklearn.feature_extraction.text import CountVectorizer\n",
    "# from sklearn.feature_extraction.text import TfidfTransformer\n",
    "# count_vect = CountVectorizer()\n",
    "# tf_transformer = TfidfTransformer(use_idf=False)\n",
    "# x_train_counts = count_vect.fit_transform(x_train)\n",
    "# x_train_tf = tf_transformer.fit_transform(x_train_counts)\n",
    "#df_1['target'] = df_1['target'].apply(lambda x: [\"\".join(tokens) for tokens in x ])\n",
    "\n",
    "#X_counts = count_vect.fit_transform(corpus)\n",
    "# print(X_counts.shape)\n",
    "# print(count_vect.get_feature_names())\n",
    "# print(X_counts.toarray())"
   ]
  },
  {
   "cell_type": "markdown",
   "id": "71f54947",
   "metadata": {},
   "source": [
    "__Random Forest Regressor__"
   ]
  },
  {
   "cell_type": "code",
   "execution_count": 41,
   "id": "06b2c254",
   "metadata": {},
   "outputs": [
    {
     "data": {
      "text/html": [
       "<div>\n",
       "<style scoped>\n",
       "    .dataframe tbody tr th:only-of-type {\n",
       "        vertical-align: middle;\n",
       "    }\n",
       "\n",
       "    .dataframe tbody tr th {\n",
       "        vertical-align: top;\n",
       "    }\n",
       "\n",
       "    .dataframe thead th {\n",
       "        text-align: right;\n",
       "    }\n",
       "</style>\n",
       "<table border=\"1\" class=\"dataframe\">\n",
       "  <thead>\n",
       "    <tr style=\"text-align: right;\">\n",
       "      <th></th>\n",
       "      <th>id</th>\n",
       "      <th>anchor</th>\n",
       "      <th>target</th>\n",
       "      <th>context</th>\n",
       "      <th>score</th>\n",
       "    </tr>\n",
       "  </thead>\n",
       "  <tbody>\n",
       "    <tr>\n",
       "      <th>0</th>\n",
       "      <td>37d61fd2272659b1</td>\n",
       "      <td>[0]</td>\n",
       "      <td>[35, 4113]</td>\n",
       "      <td>A47</td>\n",
       "      <td>0.50</td>\n",
       "    </tr>\n",
       "    <tr>\n",
       "      <th>1</th>\n",
       "      <td>7b9652b17b68b7a4</td>\n",
       "      <td>[0]</td>\n",
       "      <td>[84, 35]</td>\n",
       "      <td>A47</td>\n",
       "      <td>0.75</td>\n",
       "    </tr>\n",
       "    <tr>\n",
       "      <th>2</th>\n",
       "      <td>36d72442aefd8232</td>\n",
       "      <td>[0]</td>\n",
       "      <td>[86, 852]</td>\n",
       "      <td>A47</td>\n",
       "      <td>0.25</td>\n",
       "    </tr>\n",
       "    <tr>\n",
       "      <th>3</th>\n",
       "      <td>5296b0c19e1ce60e</td>\n",
       "      <td>[0]</td>\n",
       "      <td>[1798, 4260]</td>\n",
       "      <td>A47</td>\n",
       "      <td>0.50</td>\n",
       "    </tr>\n",
       "    <tr>\n",
       "      <th>4</th>\n",
       "      <td>54c1e3b9184cb5b6</td>\n",
       "      <td>[0]</td>\n",
       "      <td>[2177, 4500]</td>\n",
       "      <td>A47</td>\n",
       "      <td>0.00</td>\n",
       "    </tr>\n",
       "  </tbody>\n",
       "</table>\n",
       "</div>"
      ],
      "text/plain": [
       "                 id anchor        target context  score\n",
       "0  37d61fd2272659b1    [0]    [35, 4113]     A47   0.50\n",
       "1  7b9652b17b68b7a4    [0]      [84, 35]     A47   0.75\n",
       "2  36d72442aefd8232    [0]     [86, 852]     A47   0.25\n",
       "3  5296b0c19e1ce60e    [0]  [1798, 4260]     A47   0.50\n",
       "4  54c1e3b9184cb5b6    [0]  [2177, 4500]     A47   0.00"
      ]
     },
     "execution_count": 41,
     "metadata": {},
     "output_type": "execute_result"
    }
   ],
   "source": [
    "df_1.head()"
   ]
  },
  {
   "cell_type": "code",
   "execution_count": 42,
   "id": "b1b4c60f",
   "metadata": {},
   "outputs": [],
   "source": [
    "df_1.to_csv(\"data_file.csv\",index=None)"
   ]
  },
  {
   "cell_type": "code",
   "execution_count": 44,
   "id": "4ce1b10d",
   "metadata": {},
   "outputs": [],
   "source": [
    "df_1 = pd.read_csv(\"data_file.csv\")"
   ]
  },
  {
   "cell_type": "code",
   "execution_count": null,
   "id": "204f4a34",
   "metadata": {},
   "outputs": [],
   "source": [
    "from sklearn.ensemble import RandomForestRegressor\n",
    "regr = RandomForestRegressor(random_state=141)\n",
    "regr.fit(x_train, y_train)\n",
    "y_pred = np.round(regr.predict(x_test),decimals=2)\n",
    "from sklearn.metrics import mean_squared_error, mean_absolute_error\n",
    "mse = mean_squared_error(y_test, y_pred)\n",
    "rmse = mean_squared_error(y_test, y_pred,squared=False)\n",
    "mae = mean_absolute_error(y_test,y_pred)\n",
    "print(\"Mean Square Error: {} \\nRoot Mean Squared Error: {} \\nMean Absolute Error: {} \".format(mse,rmse,mae))"
   ]
  },
  {
   "cell_type": "markdown",
   "id": "5f87645c",
   "metadata": {},
   "source": [
    "__Feature Importance__\n",
    "* This is based on the gini index from the random forest model"
   ]
  },
  {
   "cell_type": "code",
   "execution_count": 39,
   "id": "0c2d9448",
   "metadata": {
    "scrolled": true
   },
   "outputs": [
    {
     "name": "stdout",
     "output_type": "stream",
     "text": [
      "ERROR! Session/line number was not unique in database. History logging moved to new session 305\n"
     ]
    }
   ],
   "source": [
    "# features = [df_1.columns[i] for i in range(1,3)]\n",
    "# feature_importance_nums = regr.feature_importances_\n",
    "# feature_importance_df = pd.DataFrame(feature_importance_nums).transpose()\n",
    "# feature_importance_df.columns = features\n",
    "# feature_importance_df.head()"
   ]
  },
  {
   "cell_type": "markdown",
   "id": "86839a72",
   "metadata": {},
   "source": [
    "__Lasso Regression__"
   ]
  },
  {
   "cell_type": "code",
   "execution_count": null,
   "id": "469d0933",
   "metadata": {},
   "outputs": [],
   "source": [
    "from sklearn.linear_model import Lasso\n",
    "lr = Lasso(alpha=0.5)\n",
    "lr.fit(x_train, y_train)\n",
    "y_pred = np.round(lr.predict(x_test),decimals=2)\n",
    "mse = mean_squared_error(y_test, y_pred)\n",
    "rmse = mean_squared_error(y_test, y_pred,squared=False)\n",
    "mae = mean_absolute_error(y_test,y_pred)\n",
    "print(\"Mean Square Error: {} \\nRoot Mean Squared Error: {} \\nMean Absolute Error: {} \".format(mse,rmse,mae))"
   ]
  },
  {
   "cell_type": "markdown",
   "id": "5d07ac68",
   "metadata": {},
   "source": [
    "__Prediction Submission__\n",
    "* Will be used later for competition"
   ]
  },
  {
   "cell_type": "code",
   "execution_count": 40,
   "id": "4e3e1c54",
   "metadata": {},
   "outputs": [
    {
     "name": "stdout",
     "output_type": "stream",
     "text": [
      "ERROR! Session/line number was not unique in database. History logging moved to new session 306\n"
     ]
    }
   ],
   "source": [
    "# pd.read_csv(\"sample_submission.csv\").head()\n",
    "\n",
    "# df_final.head()\n",
    "\n",
    "# df_final.to_csv(\"Michael_Woo_Submission.csv\",index=False)\n",
    "\n",
    "# pd.read_csv(\"Michael_Woo_Submission.csv\")"
   ]
  },
  {
   "cell_type": "code",
   "execution_count": null,
   "id": "639a3acf",
   "metadata": {},
   "outputs": [],
   "source": []
  }
 ],
 "metadata": {
  "kernelspec": {
   "display_name": "Python 3 (ipykernel)",
   "language": "python",
   "name": "python3"
  },
  "language_info": {
   "codemirror_mode": {
    "name": "ipython",
    "version": 3
   },
   "file_extension": ".py",
   "mimetype": "text/x-python",
   "name": "python",
   "nbconvert_exporter": "python",
   "pygments_lexer": "ipython3",
   "version": "3.8.12"
  }
 },
 "nbformat": 4,
 "nbformat_minor": 5
}
