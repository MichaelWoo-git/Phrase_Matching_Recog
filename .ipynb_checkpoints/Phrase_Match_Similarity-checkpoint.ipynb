{
 "cells": [
  {
   "cell_type": "markdown",
   "id": "ea4d9b4a",
   "metadata": {},
   "source": [
    "__Imports__"
   ]
  },
  {
   "cell_type": "code",
   "execution_count": 223,
   "id": "3af5ed51",
   "metadata": {},
   "outputs": [],
   "source": [
    "import pandas as pd\n",
    "import numpy as np\n",
    "from sklearn.preprocessing import LabelEncoder\n",
    "from sklearn.model_selection import train_test_split\n",
    "import nltk\n",
    "from nltk.tokenize import word_tokenize\n",
    "#nltk.download()"
   ]
  },
  {
   "cell_type": "markdown",
   "id": "b6b0ce0b",
   "metadata": {},
   "source": [
    "__Read in Data__"
   ]
  },
  {
   "cell_type": "code",
   "execution_count": 224,
   "id": "eca625d9",
   "metadata": {
    "scrolled": true
   },
   "outputs": [
    {
     "data": {
      "text/html": [
       "<div>\n",
       "<style scoped>\n",
       "    .dataframe tbody tr th:only-of-type {\n",
       "        vertical-align: middle;\n",
       "    }\n",
       "\n",
       "    .dataframe tbody tr th {\n",
       "        vertical-align: top;\n",
       "    }\n",
       "\n",
       "    .dataframe thead th {\n",
       "        text-align: right;\n",
       "    }\n",
       "</style>\n",
       "<table border=\"1\" class=\"dataframe\">\n",
       "  <thead>\n",
       "    <tr style=\"text-align: right;\">\n",
       "      <th></th>\n",
       "      <th>id</th>\n",
       "      <th>anchor</th>\n",
       "      <th>target</th>\n",
       "      <th>context</th>\n",
       "      <th>score</th>\n",
       "    </tr>\n",
       "  </thead>\n",
       "  <tbody>\n",
       "    <tr>\n",
       "      <th>0</th>\n",
       "      <td>37d61fd2272659b1</td>\n",
       "      <td>abatement</td>\n",
       "      <td>abatement of pollution</td>\n",
       "      <td>A47</td>\n",
       "      <td>0.50</td>\n",
       "    </tr>\n",
       "    <tr>\n",
       "      <th>1</th>\n",
       "      <td>7b9652b17b68b7a4</td>\n",
       "      <td>abatement</td>\n",
       "      <td>act of abating</td>\n",
       "      <td>A47</td>\n",
       "      <td>0.75</td>\n",
       "    </tr>\n",
       "    <tr>\n",
       "      <th>2</th>\n",
       "      <td>36d72442aefd8232</td>\n",
       "      <td>abatement</td>\n",
       "      <td>active catalyst</td>\n",
       "      <td>A47</td>\n",
       "      <td>0.25</td>\n",
       "    </tr>\n",
       "    <tr>\n",
       "      <th>3</th>\n",
       "      <td>5296b0c19e1ce60e</td>\n",
       "      <td>abatement</td>\n",
       "      <td>eliminating process</td>\n",
       "      <td>A47</td>\n",
       "      <td>0.50</td>\n",
       "    </tr>\n",
       "    <tr>\n",
       "      <th>4</th>\n",
       "      <td>54c1e3b9184cb5b6</td>\n",
       "      <td>abatement</td>\n",
       "      <td>forest region</td>\n",
       "      <td>A47</td>\n",
       "      <td>0.00</td>\n",
       "    </tr>\n",
       "  </tbody>\n",
       "</table>\n",
       "</div>"
      ],
      "text/plain": [
       "                 id     anchor                  target context  score\n",
       "0  37d61fd2272659b1  abatement  abatement of pollution     A47   0.50\n",
       "1  7b9652b17b68b7a4  abatement          act of abating     A47   0.75\n",
       "2  36d72442aefd8232  abatement         active catalyst     A47   0.25\n",
       "3  5296b0c19e1ce60e  abatement     eliminating process     A47   0.50\n",
       "4  54c1e3b9184cb5b6  abatement           forest region     A47   0.00"
      ]
     },
     "execution_count": 224,
     "metadata": {},
     "output_type": "execute_result"
    }
   ],
   "source": [
    "df_1 = pd.read_csv(\"data/train.csv\")\n",
    "df_1.head()"
   ]
  },
  {
   "cell_type": "code",
   "execution_count": 225,
   "id": "4378a096",
   "metadata": {
    "scrolled": true
   },
   "outputs": [
    {
     "data": {
      "text/html": [
       "<div>\n",
       "<style scoped>\n",
       "    .dataframe tbody tr th:only-of-type {\n",
       "        vertical-align: middle;\n",
       "    }\n",
       "\n",
       "    .dataframe tbody tr th {\n",
       "        vertical-align: top;\n",
       "    }\n",
       "\n",
       "    .dataframe thead th {\n",
       "        text-align: right;\n",
       "    }\n",
       "</style>\n",
       "<table border=\"1\" class=\"dataframe\">\n",
       "  <thead>\n",
       "    <tr style=\"text-align: right;\">\n",
       "      <th></th>\n",
       "      <th>score</th>\n",
       "    </tr>\n",
       "  </thead>\n",
       "  <tbody>\n",
       "    <tr>\n",
       "      <th>count</th>\n",
       "      <td>36473.000000</td>\n",
       "    </tr>\n",
       "    <tr>\n",
       "      <th>mean</th>\n",
       "      <td>0.362062</td>\n",
       "    </tr>\n",
       "    <tr>\n",
       "      <th>std</th>\n",
       "      <td>0.258335</td>\n",
       "    </tr>\n",
       "    <tr>\n",
       "      <th>min</th>\n",
       "      <td>0.000000</td>\n",
       "    </tr>\n",
       "    <tr>\n",
       "      <th>25%</th>\n",
       "      <td>0.250000</td>\n",
       "    </tr>\n",
       "    <tr>\n",
       "      <th>50%</th>\n",
       "      <td>0.250000</td>\n",
       "    </tr>\n",
       "    <tr>\n",
       "      <th>75%</th>\n",
       "      <td>0.500000</td>\n",
       "    </tr>\n",
       "    <tr>\n",
       "      <th>max</th>\n",
       "      <td>1.000000</td>\n",
       "    </tr>\n",
       "  </tbody>\n",
       "</table>\n",
       "</div>"
      ],
      "text/plain": [
       "              score\n",
       "count  36473.000000\n",
       "mean       0.362062\n",
       "std        0.258335\n",
       "min        0.000000\n",
       "25%        0.250000\n",
       "50%        0.250000\n",
       "75%        0.500000\n",
       "max        1.000000"
      ]
     },
     "execution_count": 225,
     "metadata": {},
     "output_type": "execute_result"
    }
   ],
   "source": [
    "df_1.describe()"
   ]
  },
  {
   "cell_type": "code",
   "execution_count": 226,
   "id": "42f5c48c",
   "metadata": {},
   "outputs": [
    {
     "data": {
      "text/plain": [
       "id         False\n",
       "anchor     False\n",
       "target     False\n",
       "context    False\n",
       "score      False\n",
       "dtype: bool"
      ]
     },
     "execution_count": 226,
     "metadata": {},
     "output_type": "execute_result"
    }
   ],
   "source": [
    "df_1.isnull().any()"
   ]
  },
  {
   "cell_type": "markdown",
   "id": "4c7cbe60",
   "metadata": {},
   "source": [
    "__This is the amount of words in each row with respect to the column__\n",
    "* Must be applied to anchor and target"
   ]
  },
  {
   "cell_type": "markdown",
   "id": "3d4d6035",
   "metadata": {},
   "source": [
    "These are the unique amount of words in __anchor__ column max is 5"
   ]
  },
  {
   "cell_type": "code",
   "execution_count": 227,
   "id": "7ef2e4f0",
   "metadata": {
    "scrolled": true
   },
   "outputs": [
    {
     "data": {
      "text/plain": [
       "array(['A01', 'A21', 'A22', 'A23', 'A24', 'A41', 'A43', 'A44', 'A45',\n",
       "       'A46', 'A47', 'A61', 'A62', 'A63', 'B01', 'B02', 'B03', 'B05',\n",
       "       'B07', 'B08', 'B21', 'B22', 'B23', 'B24', 'B25', 'B27', 'B28',\n",
       "       'B29', 'B31', 'B32', 'B41', 'B44', 'B60', 'B61', 'B62', 'B63',\n",
       "       'B64', 'B65', 'B66', 'B67', 'B81', 'C01', 'C02', 'C03', 'C04',\n",
       "       'C06', 'C07', 'C08', 'C09', 'C10', 'C11', 'C12', 'C13', 'C14',\n",
       "       'C21', 'C22', 'C23', 'C25', 'D01', 'D03', 'D04', 'D05', 'D06',\n",
       "       'D21', 'E01', 'E02', 'E03', 'E04', 'E05', 'E06', 'E21', 'F01',\n",
       "       'F02', 'F03', 'F04', 'F15', 'F16', 'F17', 'F21', 'F22', 'F23',\n",
       "       'F24', 'F25', 'F26', 'F27', 'F28', 'F41', 'F42', 'G01', 'G02',\n",
       "       'G03', 'G04', 'G05', 'G06', 'G07', 'G08', 'G09', 'G10', 'G11',\n",
       "       'G16', 'G21', 'H01', 'H02', 'H03', 'H04', 'H05'], dtype=object)"
      ]
     },
     "execution_count": 227,
     "metadata": {},
     "output_type": "execute_result"
    }
   ],
   "source": [
    "np.unique(np.array(df_1['context']))"
   ]
  },
  {
   "cell_type": "code",
   "execution_count": 228,
   "id": "cd2e5c25",
   "metadata": {},
   "outputs": [
    {
     "name": "stdout",
     "output_type": "stream",
     "text": [
      "[1 2 3 4 5]\n"
     ]
    }
   ],
   "source": [
    "print(np.unique(np.array(df_1['anchor'].apply(lambda x : len(x.split())))))"
   ]
  },
  {
   "cell_type": "markdown",
   "id": "67c67db1",
   "metadata": {},
   "source": [
    "These are the unique amount of words in __target__ column max is 15"
   ]
  },
  {
   "cell_type": "code",
   "execution_count": 229,
   "id": "fa585e91",
   "metadata": {},
   "outputs": [
    {
     "name": "stdout",
     "output_type": "stream",
     "text": [
      "[ 1  2  3  4  5  6  7  8  9 10 11 12 13 15]\n"
     ]
    }
   ],
   "source": [
    "print(np.unique(np.array(df_1['target'].apply(lambda x : len(x.split())))))"
   ]
  },
  {
   "cell_type": "markdown",
   "id": "7e896b0a",
   "metadata": {},
   "source": [
    "We can drop __context__ because its a label"
   ]
  },
  {
   "cell_type": "code",
   "execution_count": 230,
   "id": "c0b90f4e",
   "metadata": {
    "scrolled": true
   },
   "outputs": [
    {
     "name": "stdout",
     "output_type": "stream",
     "text": [
      "[1]\n"
     ]
    }
   ],
   "source": [
    "print(np.unique(np.array(df_1['context'].apply(lambda x : len(x.split())))))"
   ]
  },
  {
   "cell_type": "markdown",
   "id": "e59c8e8a",
   "metadata": {},
   "source": [
    "__Tokenization__"
   ]
  },
  {
   "cell_type": "code",
   "execution_count": 231,
   "id": "3466058d",
   "metadata": {},
   "outputs": [],
   "source": [
    "from nltk.tokenize import word_tokenize\n",
    "df_1['target'] = df_1['target'].apply(lambda x : word_tokenize(x))\n",
    "df_1['anchor'] = df_1['anchor'].apply(lambda x : word_tokenize(x))"
   ]
  },
  {
   "cell_type": "code",
   "execution_count": 232,
   "id": "a75c77a1",
   "metadata": {},
   "outputs": [
    {
     "data": {
      "text/html": [
       "<div>\n",
       "<style scoped>\n",
       "    .dataframe tbody tr th:only-of-type {\n",
       "        vertical-align: middle;\n",
       "    }\n",
       "\n",
       "    .dataframe tbody tr th {\n",
       "        vertical-align: top;\n",
       "    }\n",
       "\n",
       "    .dataframe thead th {\n",
       "        text-align: right;\n",
       "    }\n",
       "</style>\n",
       "<table border=\"1\" class=\"dataframe\">\n",
       "  <thead>\n",
       "    <tr style=\"text-align: right;\">\n",
       "      <th></th>\n",
       "      <th>id</th>\n",
       "      <th>anchor</th>\n",
       "      <th>target</th>\n",
       "      <th>context</th>\n",
       "      <th>score</th>\n",
       "    </tr>\n",
       "  </thead>\n",
       "  <tbody>\n",
       "    <tr>\n",
       "      <th>0</th>\n",
       "      <td>37d61fd2272659b1</td>\n",
       "      <td>[abatement]</td>\n",
       "      <td>[abatement, of, pollution]</td>\n",
       "      <td>A47</td>\n",
       "      <td>0.50</td>\n",
       "    </tr>\n",
       "    <tr>\n",
       "      <th>1</th>\n",
       "      <td>7b9652b17b68b7a4</td>\n",
       "      <td>[abatement]</td>\n",
       "      <td>[act, of, abating]</td>\n",
       "      <td>A47</td>\n",
       "      <td>0.75</td>\n",
       "    </tr>\n",
       "    <tr>\n",
       "      <th>2</th>\n",
       "      <td>36d72442aefd8232</td>\n",
       "      <td>[abatement]</td>\n",
       "      <td>[active, catalyst]</td>\n",
       "      <td>A47</td>\n",
       "      <td>0.25</td>\n",
       "    </tr>\n",
       "    <tr>\n",
       "      <th>3</th>\n",
       "      <td>5296b0c19e1ce60e</td>\n",
       "      <td>[abatement]</td>\n",
       "      <td>[eliminating, process]</td>\n",
       "      <td>A47</td>\n",
       "      <td>0.50</td>\n",
       "    </tr>\n",
       "    <tr>\n",
       "      <th>4</th>\n",
       "      <td>54c1e3b9184cb5b6</td>\n",
       "      <td>[abatement]</td>\n",
       "      <td>[forest, region]</td>\n",
       "      <td>A47</td>\n",
       "      <td>0.00</td>\n",
       "    </tr>\n",
       "  </tbody>\n",
       "</table>\n",
       "</div>"
      ],
      "text/plain": [
       "                 id       anchor                      target context  score\n",
       "0  37d61fd2272659b1  [abatement]  [abatement, of, pollution]     A47   0.50\n",
       "1  7b9652b17b68b7a4  [abatement]          [act, of, abating]     A47   0.75\n",
       "2  36d72442aefd8232  [abatement]          [active, catalyst]     A47   0.25\n",
       "3  5296b0c19e1ce60e  [abatement]      [eliminating, process]     A47   0.50\n",
       "4  54c1e3b9184cb5b6  [abatement]            [forest, region]     A47   0.00"
      ]
     },
     "execution_count": 232,
     "metadata": {},
     "output_type": "execute_result"
    }
   ],
   "source": [
    "df_1.head()"
   ]
  },
  {
   "cell_type": "markdown",
   "id": "99099c08",
   "metadata": {},
   "source": [
    "__Stopwords Removal__"
   ]
  },
  {
   "cell_type": "code",
   "execution_count": 233,
   "id": "65e47800",
   "metadata": {},
   "outputs": [],
   "source": [
    "from nltk.corpus import stopwords\n",
    "stop_words = set(stopwords.words('english'))\n",
    "df_1['target'] = df_1['target'].apply(lambda x : [w for w in x if not w in stop_words])\n",
    "df_1['anchor'] = df_1['anchor'].apply(lambda x : [w for w in x if not w in stop_words])"
   ]
  },
  {
   "cell_type": "code",
   "execution_count": 234,
   "id": "756f8d9e",
   "metadata": {},
   "outputs": [
    {
     "data": {
      "text/html": [
       "<div>\n",
       "<style scoped>\n",
       "    .dataframe tbody tr th:only-of-type {\n",
       "        vertical-align: middle;\n",
       "    }\n",
       "\n",
       "    .dataframe tbody tr th {\n",
       "        vertical-align: top;\n",
       "    }\n",
       "\n",
       "    .dataframe thead th {\n",
       "        text-align: right;\n",
       "    }\n",
       "</style>\n",
       "<table border=\"1\" class=\"dataframe\">\n",
       "  <thead>\n",
       "    <tr style=\"text-align: right;\">\n",
       "      <th></th>\n",
       "      <th>id</th>\n",
       "      <th>anchor</th>\n",
       "      <th>target</th>\n",
       "      <th>context</th>\n",
       "      <th>score</th>\n",
       "    </tr>\n",
       "  </thead>\n",
       "  <tbody>\n",
       "    <tr>\n",
       "      <th>0</th>\n",
       "      <td>37d61fd2272659b1</td>\n",
       "      <td>[abatement]</td>\n",
       "      <td>[abatement, pollution]</td>\n",
       "      <td>A47</td>\n",
       "      <td>0.50</td>\n",
       "    </tr>\n",
       "    <tr>\n",
       "      <th>1</th>\n",
       "      <td>7b9652b17b68b7a4</td>\n",
       "      <td>[abatement]</td>\n",
       "      <td>[act, abating]</td>\n",
       "      <td>A47</td>\n",
       "      <td>0.75</td>\n",
       "    </tr>\n",
       "    <tr>\n",
       "      <th>2</th>\n",
       "      <td>36d72442aefd8232</td>\n",
       "      <td>[abatement]</td>\n",
       "      <td>[active, catalyst]</td>\n",
       "      <td>A47</td>\n",
       "      <td>0.25</td>\n",
       "    </tr>\n",
       "    <tr>\n",
       "      <th>3</th>\n",
       "      <td>5296b0c19e1ce60e</td>\n",
       "      <td>[abatement]</td>\n",
       "      <td>[eliminating, process]</td>\n",
       "      <td>A47</td>\n",
       "      <td>0.50</td>\n",
       "    </tr>\n",
       "    <tr>\n",
       "      <th>4</th>\n",
       "      <td>54c1e3b9184cb5b6</td>\n",
       "      <td>[abatement]</td>\n",
       "      <td>[forest, region]</td>\n",
       "      <td>A47</td>\n",
       "      <td>0.00</td>\n",
       "    </tr>\n",
       "  </tbody>\n",
       "</table>\n",
       "</div>"
      ],
      "text/plain": [
       "                 id       anchor                  target context  score\n",
       "0  37d61fd2272659b1  [abatement]  [abatement, pollution]     A47   0.50\n",
       "1  7b9652b17b68b7a4  [abatement]          [act, abating]     A47   0.75\n",
       "2  36d72442aefd8232  [abatement]      [active, catalyst]     A47   0.25\n",
       "3  5296b0c19e1ce60e  [abatement]  [eliminating, process]     A47   0.50\n",
       "4  54c1e3b9184cb5b6  [abatement]        [forest, region]     A47   0.00"
      ]
     },
     "execution_count": 234,
     "metadata": {},
     "output_type": "execute_result"
    }
   ],
   "source": [
    "df_1.head()"
   ]
  },
  {
   "cell_type": "markdown",
   "id": "a0ba7445",
   "metadata": {},
   "source": [
    "__Stemming__"
   ]
  },
  {
   "cell_type": "code",
   "execution_count": 235,
   "id": "9dad7a01",
   "metadata": {},
   "outputs": [],
   "source": [
    "from nltk.stem.snowball import SnowballStemmer\n",
    "snowBallStemmer = SnowballStemmer(\"english\")\n",
    "df_1['target'] = df_1['target'].apply(lambda x : [snowBallStemmer.stem(word) for word in x])\n",
    "df_1['anchor'] = df_1['anchor'].apply(lambda x: [snowBallStemmer.stem(word) for word in x])"
   ]
  },
  {
   "cell_type": "code",
   "execution_count": 236,
   "id": "5eb4af99",
   "metadata": {},
   "outputs": [
    {
     "data": {
      "text/html": [
       "<div>\n",
       "<style scoped>\n",
       "    .dataframe tbody tr th:only-of-type {\n",
       "        vertical-align: middle;\n",
       "    }\n",
       "\n",
       "    .dataframe tbody tr th {\n",
       "        vertical-align: top;\n",
       "    }\n",
       "\n",
       "    .dataframe thead th {\n",
       "        text-align: right;\n",
       "    }\n",
       "</style>\n",
       "<table border=\"1\" class=\"dataframe\">\n",
       "  <thead>\n",
       "    <tr style=\"text-align: right;\">\n",
       "      <th></th>\n",
       "      <th>id</th>\n",
       "      <th>anchor</th>\n",
       "      <th>target</th>\n",
       "      <th>context</th>\n",
       "      <th>score</th>\n",
       "    </tr>\n",
       "  </thead>\n",
       "  <tbody>\n",
       "    <tr>\n",
       "      <th>0</th>\n",
       "      <td>37d61fd2272659b1</td>\n",
       "      <td>[abat]</td>\n",
       "      <td>[abat, pollut]</td>\n",
       "      <td>A47</td>\n",
       "      <td>0.50</td>\n",
       "    </tr>\n",
       "    <tr>\n",
       "      <th>1</th>\n",
       "      <td>7b9652b17b68b7a4</td>\n",
       "      <td>[abat]</td>\n",
       "      <td>[act, abat]</td>\n",
       "      <td>A47</td>\n",
       "      <td>0.75</td>\n",
       "    </tr>\n",
       "    <tr>\n",
       "      <th>2</th>\n",
       "      <td>36d72442aefd8232</td>\n",
       "      <td>[abat]</td>\n",
       "      <td>[activ, catalyst]</td>\n",
       "      <td>A47</td>\n",
       "      <td>0.25</td>\n",
       "    </tr>\n",
       "    <tr>\n",
       "      <th>3</th>\n",
       "      <td>5296b0c19e1ce60e</td>\n",
       "      <td>[abat]</td>\n",
       "      <td>[elimin, process]</td>\n",
       "      <td>A47</td>\n",
       "      <td>0.50</td>\n",
       "    </tr>\n",
       "    <tr>\n",
       "      <th>4</th>\n",
       "      <td>54c1e3b9184cb5b6</td>\n",
       "      <td>[abat]</td>\n",
       "      <td>[forest, region]</td>\n",
       "      <td>A47</td>\n",
       "      <td>0.00</td>\n",
       "    </tr>\n",
       "  </tbody>\n",
       "</table>\n",
       "</div>"
      ],
      "text/plain": [
       "                 id  anchor             target context  score\n",
       "0  37d61fd2272659b1  [abat]     [abat, pollut]     A47   0.50\n",
       "1  7b9652b17b68b7a4  [abat]        [act, abat]     A47   0.75\n",
       "2  36d72442aefd8232  [abat]  [activ, catalyst]     A47   0.25\n",
       "3  5296b0c19e1ce60e  [abat]  [elimin, process]     A47   0.50\n",
       "4  54c1e3b9184cb5b6  [abat]   [forest, region]     A47   0.00"
      ]
     },
     "execution_count": 236,
     "metadata": {},
     "output_type": "execute_result"
    }
   ],
   "source": [
    "df_1.head()"
   ]
  },
  {
   "cell_type": "markdown",
   "id": "149808d5",
   "metadata": {},
   "source": [
    "__Need to convert array to just strings__"
   ]
  },
  {
   "cell_type": "code",
   "execution_count": 237,
   "id": "3478312b",
   "metadata": {},
   "outputs": [],
   "source": [
    "df_1['anchor'] = df_1['anchor'].apply(lambda x : ','.join(map(str,x)))\n",
    "df_1['target'] = df_1['target'].apply(lambda x : ','.join(map(str,x)))"
   ]
  },
  {
   "cell_type": "code",
   "execution_count": 238,
   "id": "35e5a075",
   "metadata": {
    "scrolled": true
   },
   "outputs": [
    {
     "data": {
      "text/html": [
       "<div>\n",
       "<style scoped>\n",
       "    .dataframe tbody tr th:only-of-type {\n",
       "        vertical-align: middle;\n",
       "    }\n",
       "\n",
       "    .dataframe tbody tr th {\n",
       "        vertical-align: top;\n",
       "    }\n",
       "\n",
       "    .dataframe thead th {\n",
       "        text-align: right;\n",
       "    }\n",
       "</style>\n",
       "<table border=\"1\" class=\"dataframe\">\n",
       "  <thead>\n",
       "    <tr style=\"text-align: right;\">\n",
       "      <th></th>\n",
       "      <th>id</th>\n",
       "      <th>anchor</th>\n",
       "      <th>target</th>\n",
       "      <th>context</th>\n",
       "      <th>score</th>\n",
       "    </tr>\n",
       "  </thead>\n",
       "  <tbody>\n",
       "    <tr>\n",
       "      <th>0</th>\n",
       "      <td>37d61fd2272659b1</td>\n",
       "      <td>abat</td>\n",
       "      <td>abat,pollut</td>\n",
       "      <td>A47</td>\n",
       "      <td>0.50</td>\n",
       "    </tr>\n",
       "    <tr>\n",
       "      <th>1</th>\n",
       "      <td>7b9652b17b68b7a4</td>\n",
       "      <td>abat</td>\n",
       "      <td>act,abat</td>\n",
       "      <td>A47</td>\n",
       "      <td>0.75</td>\n",
       "    </tr>\n",
       "    <tr>\n",
       "      <th>2</th>\n",
       "      <td>36d72442aefd8232</td>\n",
       "      <td>abat</td>\n",
       "      <td>activ,catalyst</td>\n",
       "      <td>A47</td>\n",
       "      <td>0.25</td>\n",
       "    </tr>\n",
       "    <tr>\n",
       "      <th>3</th>\n",
       "      <td>5296b0c19e1ce60e</td>\n",
       "      <td>abat</td>\n",
       "      <td>elimin,process</td>\n",
       "      <td>A47</td>\n",
       "      <td>0.50</td>\n",
       "    </tr>\n",
       "    <tr>\n",
       "      <th>4</th>\n",
       "      <td>54c1e3b9184cb5b6</td>\n",
       "      <td>abat</td>\n",
       "      <td>forest,region</td>\n",
       "      <td>A47</td>\n",
       "      <td>0.00</td>\n",
       "    </tr>\n",
       "  </tbody>\n",
       "</table>\n",
       "</div>"
      ],
      "text/plain": [
       "                 id anchor          target context  score\n",
       "0  37d61fd2272659b1   abat     abat,pollut     A47   0.50\n",
       "1  7b9652b17b68b7a4   abat        act,abat     A47   0.75\n",
       "2  36d72442aefd8232   abat  activ,catalyst     A47   0.25\n",
       "3  5296b0c19e1ce60e   abat  elimin,process     A47   0.50\n",
       "4  54c1e3b9184cb5b6   abat   forest,region     A47   0.00"
      ]
     },
     "execution_count": 238,
     "metadata": {},
     "output_type": "execute_result"
    }
   ],
   "source": [
    "df_1.head()"
   ]
  },
  {
   "cell_type": "markdown",
   "id": "e482821f",
   "metadata": {},
   "source": [
    "__Spacy Similarity__"
   ]
  },
  {
   "cell_type": "code",
   "execution_count": 239,
   "id": "c2681e70",
   "metadata": {},
   "outputs": [],
   "source": [
    "import spacy\n",
    "nlp = spacy.load(\"en_core_web_lg\")"
   ]
  },
  {
   "cell_type": "code",
   "execution_count": 246,
   "id": "f5f47e0b",
   "metadata": {},
   "outputs": [
    {
     "name": "stderr",
     "output_type": "stream",
     "text": [
      "C:\\Users\\Michael\\AppData\\Local\\Temp\\ipykernel_13212\\4198768637.py:1: UserWarning: [W008] Evaluating Doc.similarity based on empty vectors.\n",
      "  df_1.apply(lambda x: nlp(x['anchor']).similarity(nlp(x['target'])),axis=1)\n"
     ]
    },
    {
     "data": {
      "text/plain": [
       "0        0.000000\n",
       "1        0.000000\n",
       "2        0.000000\n",
       "3        0.000000\n",
       "4        0.000000\n",
       "           ...   \n",
       "36468    0.862838\n",
       "36469    0.786789\n",
       "36470    0.709947\n",
       "36471    0.862838\n",
       "36472    0.862838\n",
       "Length: 36473, dtype: float64"
      ]
     },
     "execution_count": 246,
     "metadata": {},
     "output_type": "execute_result"
    }
   ],
   "source": [
    "df_1.apply(lambda x: nlp(x['anchor']).similarity(nlp(x['target'])),axis=1)"
   ]
  },
  {
   "cell_type": "markdown",
   "id": "6168528d",
   "metadata": {},
   "source": [
    "__Pytorch Transformation Similarity__"
   ]
  },
  {
   "cell_type": "code",
   "execution_count": 249,
   "id": "ae6a5c15",
   "metadata": {},
   "outputs": [
    {
     "name": "stderr",
     "output_type": "stream",
     "text": [
      "C:\\Users\\Michael\\miniconda3\\envs\\py3_base\\lib\\site-packages\\tqdm\\auto.py:22: TqdmWarning: IProgress not found. Please update jupyter and ipywidgets. See https://ipywidgets.readthedocs.io/en/stable/user_install.html\n",
      "  from .autonotebook import tqdm as notebook_tqdm\n",
      "Downloading: 100%|██████████████████████████████████████████████████████████████████████████████████████████████████████████████████████████████████████████████████████████████████████████████████████████| 690/690 [00:00<00:00, 691kB/s]\n",
      "Downloading: 100%|██████████████████████████████████████████████████████████████████████████████████████████████████████████████████████████████████████████████████████████████████████████████████████████| 190/190 [00:00<00:00, 191kB/s]\n",
      "Downloading: 100%|█████████████████████████████████████████████████████████████████████████████████████████████████████████████████████████████████████████████████████████████████████████████████████| 3.99k/3.99k [00:00<00:00, 3.99MB/s]\n",
      "Downloading: 100%|█████████████████████████████████████████████████████████████████████████████████████████████████████████████████████████████████████████████████████████████████████████████████████████████████| 550/550 [00:00<?, ?B/s]\n",
      "Downloading: 100%|██████████████████████████████████████████████████████████████████████████████████████████████████████████████████████████████████████████████████████████████████████████████████████████| 122/122 [00:00<00:00, 122kB/s]\n",
      "Downloading: 100%|██████████████████████████████████████████████████████████████████████████████████████████████████████████████████████████████████████████████████████████████████████████████████████████| 229/229 [00:00<00:00, 230kB/s]\n",
      "Downloading: 100%|███████████████████████████████████████████████████████████████████████████████████████████████████████████████████████████████████████████████████████████████████████████████████████| 265M/265M [00:05<00:00, 49.5MB/s]\n",
      "Downloading: 100%|███████████████████████████████████████████████████████████████████████████████████████████████████████████████████████████████████████████████████████████████████████████████████████████████| 53.0/53.0 [00:00<?, ?B/s]\n",
      "Downloading: 100%|██████████████████████████████████████████████████████████████████████████████████████████████████████████████████████████████████████████████████████████████████████████████████████████| 112/112 [00:00<00:00, 112kB/s]\n",
      "Downloading: 100%|███████████████████████████████████████████████████████████████████████████████████████████████████████████████████████████████████████████████████████████████████████████████████████| 466k/466k [00:00<00:00, 4.49MB/s]\n",
      "Downloading: 100%|██████████████████████████████████████████████████████████████████████████████████████████████████████████████████████████████████████████████████████████████████████████████████████████| 450/450 [00:00<00:00, 451kB/s]\n",
      "Downloading: 100%|███████████████████████████████████████████████████████████████████████████████████████████████████████████████████████████████████████████████████████████████████████████████████████| 232k/232k [00:00<00:00, 2.94MB/s]\n"
     ]
    }
   ],
   "source": [
    "from sentence_transformers import SentenceTransformer\n",
    "model = SentenceTransformer('distilbert-base-nli-mean-tokens')"
   ]
  },
  {
   "cell_type": "code",
   "execution_count": 254,
   "id": "a19075b8",
   "metadata": {
    "scrolled": true
   },
   "outputs": [],
   "source": [
    "temp = df_1[:100].apply(lambda x: model.encode(x['anchor']),axis=1)"
   ]
  },
  {
   "cell_type": "code",
   "execution_count": 257,
   "id": "f62c9bf7",
   "metadata": {},
   "outputs": [],
   "source": [
    "temp = pd.DataFrame(temp)"
   ]
  },
  {
   "cell_type": "code",
   "execution_count": null,
   "id": "d6199a7f",
   "metadata": {},
   "outputs": [],
   "source": []
  },
  {
   "cell_type": "code",
   "execution_count": 258,
   "id": "112e6ea3",
   "metadata": {},
   "outputs": [],
   "source": [
    "temp['target'] = df_1[:100].apply(lambda x: model.encode(x['target']),axis=1)"
   ]
  },
  {
   "cell_type": "code",
   "execution_count": 259,
   "id": "e4e6d6e8",
   "metadata": {},
   "outputs": [],
   "source": [
    "temp.columns = ['anchor','target']"
   ]
  },
  {
   "cell_type": "code",
   "execution_count": 263,
   "id": "dcc95445",
   "metadata": {},
   "outputs": [
    {
     "data": {
      "text/plain": [
       "0     [[tensor(0.9205)]]\n",
       "1     [[tensor(0.9576)]]\n",
       "2     [[tensor(0.6898)]]\n",
       "3     [[tensor(0.7896)]]\n",
       "4     [[tensor(0.5425)]]\n",
       "             ...        \n",
       "95    [[tensor(0.8591)]]\n",
       "96    [[tensor(0.7470)]]\n",
       "97    [[tensor(0.7983)]]\n",
       "98    [[tensor(0.7494)]]\n",
       "99    [[tensor(0.7367)]]\n",
       "Length: 100, dtype: object"
      ]
     },
     "execution_count": 263,
     "metadata": {},
     "output_type": "execute_result"
    }
   ],
   "source": [
    "from sentence_transformers import SentenceTransformer, util\n",
    "temp.apply(lambda x: util.pytorch_cos_sim(x['anchor'], x['target']),axis=1)"
   ]
  },
  {
   "cell_type": "markdown",
   "id": "ac561697",
   "metadata": {},
   "source": [
    "__Distance Similarity__"
   ]
  },
  {
   "cell_type": "code",
   "execution_count": 276,
   "id": "2ac7d10a",
   "metadata": {},
   "outputs": [],
   "source": [
    "from scipy.spatial import distance"
   ]
  },
  {
   "cell_type": "code",
   "execution_count": 277,
   "id": "726759f2",
   "metadata": {},
   "outputs": [
    {
     "data": {
      "text/plain": [
       "0     0.920499\n",
       "1     0.957552\n",
       "2     0.689799\n",
       "3     0.789611\n",
       "4     0.542545\n",
       "        ...   \n",
       "95    0.859058\n",
       "96    0.746962\n",
       "97    0.798343\n",
       "98    0.749439\n",
       "99    0.736678\n",
       "Length: 100, dtype: float64"
      ]
     },
     "execution_count": 277,
     "metadata": {},
     "output_type": "execute_result"
    }
   ],
   "source": [
    "temp.apply(lambda x: 1-distance.cosine(x['anchor'], x['target']),axis=1)"
   ]
  },
  {
   "cell_type": "markdown",
   "id": "d84967e2",
   "metadata": {},
   "source": [
    "__Sentence similarity with TFHub Universal Sentence Encoder__"
   ]
  },
  {
   "cell_type": "code",
   "execution_count": 307,
   "id": "bee886d6",
   "metadata": {},
   "outputs": [],
   "source": [
    "temp = df_1[:100]"
   ]
  },
  {
   "cell_type": "code",
   "execution_count": 282,
   "id": "c3100ed3",
   "metadata": {},
   "outputs": [],
   "source": [
    "import tensorflow_hub as hub\n",
    "embed = hub.load(\"https://tfhub.dev/google/universal-sentence-encoder/4\")"
   ]
  },
  {
   "cell_type": "code",
   "execution_count": 288,
   "id": "4f80cf21",
   "metadata": {},
   "outputs": [
    {
     "name": "stderr",
     "output_type": "stream",
     "text": [
      "C:\\Users\\Michael\\AppData\\Local\\Temp\\ipykernel_13212\\1395832121.py:1: SettingWithCopyWarning: \n",
      "A value is trying to be set on a copy of a slice from a DataFrame.\n",
      "Try using .loc[row_indexer,col_indexer] = value instead\n",
      "\n",
      "See the caveats in the documentation: https://pandas.pydata.org/pandas-docs/stable/user_guide/indexing.html#returning-a-view-versus-a-copy\n",
      "  temp['anchor'] = temp.apply(lambda x: embed([x['anchor']]),axis=1)\n",
      "C:\\Users\\Michael\\AppData\\Local\\Temp\\ipykernel_13212\\1395832121.py:2: SettingWithCopyWarning: \n",
      "A value is trying to be set on a copy of a slice from a DataFrame.\n",
      "Try using .loc[row_indexer,col_indexer] = value instead\n",
      "\n",
      "See the caveats in the documentation: https://pandas.pydata.org/pandas-docs/stable/user_guide/indexing.html#returning-a-view-versus-a-copy\n",
      "  temp['target'] = temp.apply(lambda x: embed([x['target']]),axis=1)\n"
     ]
    }
   ],
   "source": [
    "temp['anchor'] = temp.apply(lambda x: embed([x['anchor']]),axis=1)\n",
    "temp['target'] = temp.apply(lambda x: embed([x['target']]),axis=1)"
   ]
  },
  {
   "cell_type": "code",
   "execution_count": 293,
   "id": "ffa5f8e4",
   "metadata": {},
   "outputs": [],
   "source": [
    "from scipy.spatial import distance\n",
    "x = np.array(temp.apply(lambda x: 1 - distance.cosine(x['anchor'],x['target']),axis=1))"
   ]
  },
  {
   "cell_type": "markdown",
   "id": "3258a559",
   "metadata": {},
   "source": [
    "__bert Scoring__"
   ]
  },
  {
   "cell_type": "code",
   "execution_count": 305,
   "id": "c5fcba35",
   "metadata": {},
   "outputs": [],
   "source": [
    "from bert_score import BERTScorer"
   ]
  },
  {
   "cell_type": "code",
   "execution_count": 309,
   "id": "28f2a791",
   "metadata": {},
   "outputs": [
    {
     "name": "stderr",
     "output_type": "stream",
     "text": [
      "Downloading: 100%|██████████████████████████████████████████████████████████████████████████████████████████████████████████████████████████████████████████████████████████████████████████████████████████| 482/482 [00:00<00:00, 159kB/s]\n",
      "Downloading: 100%|███████████████████████████████████████████████████████████████████████████████████████████████████████████████████████████████████████████████████████████████████████████████████████| 878k/878k [00:00<00:00, 8.27MB/s]\n",
      "Downloading: 100%|███████████████████████████████████████████████████████████████████████████████████████████████████████████████████████████████████████████████████████████████████████████████████████| 446k/446k [00:00<00:00, 5.30MB/s]\n",
      "Downloading: 100%|█████████████████████████████████████████████████████████████████████████████████████████████████████████████████████████████████████████████████████████████████████████████████████| 1.33G/1.33G [00:35<00:00, 39.9MB/s]\n",
      "Some weights of the model checkpoint at roberta-large were not used when initializing RobertaModel: ['lm_head.layer_norm.weight', 'lm_head.decoder.weight', 'lm_head.dense.weight', 'lm_head.bias', 'lm_head.layer_norm.bias', 'lm_head.dense.bias']\n",
      "- This IS expected if you are initializing RobertaModel from the checkpoint of a model trained on another task or with another architecture (e.g. initializing a BertForSequenceClassification model from a BertForPreTraining model).\n",
      "- This IS NOT expected if you are initializing RobertaModel from the checkpoint of a model that you expect to be exactly identical (initializing a BertForSequenceClassification model from a BertForSequenceClassification model).\n"
     ]
    }
   ],
   "source": [
    "scorer = BERTScorer(lang=\"en\", rescale_with_baseline=True)"
   ]
  },
  {
   "cell_type": "code",
   "execution_count": 317,
   "id": "41969a58",
   "metadata": {},
   "outputs": [],
   "source": [
    "x = temp.apply(lambda x: scorer.score([x['anchor']],[x['target']])[2].mean(),axis=1)"
   ]
  },
  {
   "cell_type": "code",
   "execution_count": 323,
   "id": "e537878b",
   "metadata": {},
   "outputs": [
    {
     "data": {
      "text/plain": [
       "0.4112429916858673"
      ]
     },
     "execution_count": 323,
     "metadata": {},
     "output_type": "execute_result"
    }
   ],
   "source": [
    "float(x[0])"
   ]
  },
  {
   "cell_type": "markdown",
   "id": "db1f0f6f",
   "metadata": {},
   "source": [
    "These the the unique words in the __anchor__ column 10 are shown below"
   ]
  },
  {
   "cell_type": "code",
   "execution_count": 17,
   "id": "a7269653",
   "metadata": {},
   "outputs": [
    {
     "data": {
      "text/plain": [
       "array(['abat', 'abnorm,posit', 'absorb,properti', 'acan', 'accept,inform',\n",
       "       'achiev,authent', 'acid,absorpt', 'ack', 'acoustoopt,modul',\n",
       "       'acryl,group'], dtype=object)"
      ]
     },
     "execution_count": 17,
     "metadata": {},
     "output_type": "execute_result"
    }
   ],
   "source": [
    "np.unique(np.array(df_1['anchor']))[:10]"
   ]
  },
  {
   "cell_type": "markdown",
   "id": "c5f640a4",
   "metadata": {},
   "source": [
    "These the the unique words in the __target__ column 10 are shown below"
   ]
  },
  {
   "cell_type": "code",
   "execution_count": 18,
   "id": "020f2734",
   "metadata": {
    "scrolled": true
   },
   "outputs": [
    {
     "data": {
      "text/plain": [
       "array(['', '1,amino,2,methoxyethan', '1,azabicyclo', '1,bromopropan',\n",
       "       '1,methoxi,2,aminoethan', '10,bit,dac',\n",
       "       '111444,hexafluoro,2,buten', '12,dibromopropan',\n",
       "       '120,degre,interv', '12cao7al2o3'], dtype=object)"
      ]
     },
     "execution_count": 18,
     "metadata": {},
     "output_type": "execute_result"
    }
   ],
   "source": [
    "np.unique(np.array(df_1['target']))[:10]"
   ]
  },
  {
   "cell_type": "markdown",
   "id": "94f4add5",
   "metadata": {},
   "source": [
    "We have the issue of words going together, we need to seperate these so we can\n",
    "we need to seperate the lengths"
   ]
  },
  {
   "cell_type": "markdown",
   "id": "66dfd8fa",
   "metadata": {},
   "source": [
    "Sets are important here because sets can only contain unique values"
   ]
  },
  {
   "cell_type": "code",
   "execution_count": 19,
   "id": "552ee9b8",
   "metadata": {},
   "outputs": [],
   "source": [
    "anchor_set = set()\n",
    "target_set = set()"
   ]
  },
  {
   "cell_type": "markdown",
   "id": "ce96b1a3",
   "metadata": {},
   "source": [
    "These functions are not meant to return anything but to get the words into the set very quickly using a lambda function"
   ]
  },
  {
   "cell_type": "code",
   "execution_count": 20,
   "id": "8a440cdd",
   "metadata": {},
   "outputs": [],
   "source": [
    "def separator_anchor(arr):\n",
    "    for i in arr:\n",
    "        anchor_set.add(i)"
   ]
  },
  {
   "cell_type": "code",
   "execution_count": 21,
   "id": "0f6aaa72",
   "metadata": {},
   "outputs": [],
   "source": [
    "def separator_target(arr):\n",
    "    for i in arr:\n",
    "        target_set.add(i)"
   ]
  },
  {
   "cell_type": "code",
   "execution_count": 22,
   "id": "2aa15f7a",
   "metadata": {},
   "outputs": [],
   "source": [
    "df_1['anchor'] = df_1['anchor'].apply(lambda x: x.split(','))\n",
    "df_1['target'] = df_1['target'].apply(lambda x: x.split(','))"
   ]
  },
  {
   "cell_type": "code",
   "execution_count": 23,
   "id": "2a3d87bd",
   "metadata": {},
   "outputs": [
    {
     "data": {
      "text/plain": [
       "0        None\n",
       "1        None\n",
       "2        None\n",
       "3        None\n",
       "4        None\n",
       "         ... \n",
       "36468    None\n",
       "36469    None\n",
       "36470    None\n",
       "36471    None\n",
       "36472    None\n",
       "Name: target, Length: 36473, dtype: object"
      ]
     },
     "execution_count": 23,
     "metadata": {},
     "output_type": "execute_result"
    }
   ],
   "source": [
    "df_1['anchor'].apply(lambda x: separator_anchor(x))\n",
    "df_1['target'].apply(lambda x: separator_target(x))"
   ]
  },
  {
   "cell_type": "markdown",
   "id": "dc0ea4a3",
   "metadata": {},
   "source": [
    "__list comprehension__"
   ]
  },
  {
   "cell_type": "code",
   "execution_count": 24,
   "id": "009b642b",
   "metadata": {},
   "outputs": [],
   "source": [
    "anchor_arr = [i for i in anchor_set]\n",
    "target_arr = [i for i in target_set]"
   ]
  },
  {
   "cell_type": "markdown",
   "id": "28990339",
   "metadata": {},
   "source": [
    "__Label Encoding__"
   ]
  },
  {
   "cell_type": "code",
   "execution_count": 25,
   "id": "f2d5baa5",
   "metadata": {},
   "outputs": [],
   "source": [
    "labelencoder_anchor = LabelEncoder()\n",
    "labelencoder_anchor.fit(anchor_arr)\n",
    "labelencoder_target = LabelEncoder()\n",
    "labelencoder_target.fit(target_arr)\n",
    "labelencoder_context = LabelEncoder()\n",
    "df_1['context'] = labelencoder_context.fit_transform(df_1['context'])"
   ]
  },
  {
   "cell_type": "code",
   "execution_count": 26,
   "id": "e1a853bc",
   "metadata": {},
   "outputs": [],
   "source": [
    "def encoding_anchor(arr):\n",
    "    temp = []\n",
    "    if len(arr) < 2:\n",
    "        for i in arr:\n",
    "            return labelencoder_anchor.transform([i])\n",
    "    if len(arr) > 1:\n",
    "        for i in arr:\n",
    "            temp.extend(labelencoder_anchor.transform([i]))\n",
    "        return temp"
   ]
  },
  {
   "cell_type": "code",
   "execution_count": 27,
   "id": "c6389f21",
   "metadata": {},
   "outputs": [],
   "source": [
    "def encoding_target(arr):\n",
    "    temp = []\n",
    "    if len(arr) < 2:\n",
    "        for i in arr:\n",
    "            return labelencoder_target.transform([i])\n",
    "    if len(arr) > 1:\n",
    "        for i in arr:\n",
    "            temp.extend(labelencoder_target.transform([i]))\n",
    "        return temp"
   ]
  },
  {
   "cell_type": "code",
   "execution_count": 28,
   "id": "f0af8d73",
   "metadata": {},
   "outputs": [],
   "source": [
    "df_1['anchor'] = df_1['anchor'].apply(lambda x: encoding_anchor(x))"
   ]
  },
  {
   "cell_type": "code",
   "execution_count": 29,
   "id": "4628a52b",
   "metadata": {},
   "outputs": [],
   "source": [
    "df_1['target'] = df_1['target'].apply(lambda x: encoding_target(x))"
   ]
  },
  {
   "cell_type": "code",
   "execution_count": 30,
   "id": "eda81097",
   "metadata": {},
   "outputs": [
    {
     "data": {
      "text/html": [
       "<div>\n",
       "<style scoped>\n",
       "    .dataframe tbody tr th:only-of-type {\n",
       "        vertical-align: middle;\n",
       "    }\n",
       "\n",
       "    .dataframe tbody tr th {\n",
       "        vertical-align: top;\n",
       "    }\n",
       "\n",
       "    .dataframe thead th {\n",
       "        text-align: right;\n",
       "    }\n",
       "</style>\n",
       "<table border=\"1\" class=\"dataframe\">\n",
       "  <thead>\n",
       "    <tr style=\"text-align: right;\">\n",
       "      <th></th>\n",
       "      <th>id</th>\n",
       "      <th>anchor</th>\n",
       "      <th>target</th>\n",
       "      <th>context</th>\n",
       "      <th>score</th>\n",
       "    </tr>\n",
       "  </thead>\n",
       "  <tbody>\n",
       "    <tr>\n",
       "      <th>0</th>\n",
       "      <td>37d61fd2272659b1</td>\n",
       "      <td>[0]</td>\n",
       "      <td>[35, 4113]</td>\n",
       "      <td>10</td>\n",
       "      <td>0.50</td>\n",
       "    </tr>\n",
       "    <tr>\n",
       "      <th>1</th>\n",
       "      <td>7b9652b17b68b7a4</td>\n",
       "      <td>[0]</td>\n",
       "      <td>[84, 35]</td>\n",
       "      <td>10</td>\n",
       "      <td>0.75</td>\n",
       "    </tr>\n",
       "    <tr>\n",
       "      <th>2</th>\n",
       "      <td>36d72442aefd8232</td>\n",
       "      <td>[0]</td>\n",
       "      <td>[86, 852]</td>\n",
       "      <td>10</td>\n",
       "      <td>0.25</td>\n",
       "    </tr>\n",
       "    <tr>\n",
       "      <th>3</th>\n",
       "      <td>5296b0c19e1ce60e</td>\n",
       "      <td>[0]</td>\n",
       "      <td>[1798, 4260]</td>\n",
       "      <td>10</td>\n",
       "      <td>0.50</td>\n",
       "    </tr>\n",
       "    <tr>\n",
       "      <th>4</th>\n",
       "      <td>54c1e3b9184cb5b6</td>\n",
       "      <td>[0]</td>\n",
       "      <td>[2177, 4500]</td>\n",
       "      <td>10</td>\n",
       "      <td>0.00</td>\n",
       "    </tr>\n",
       "  </tbody>\n",
       "</table>\n",
       "</div>"
      ],
      "text/plain": [
       "                 id anchor        target  context  score\n",
       "0  37d61fd2272659b1    [0]    [35, 4113]       10   0.50\n",
       "1  7b9652b17b68b7a4    [0]      [84, 35]       10   0.75\n",
       "2  36d72442aefd8232    [0]     [86, 852]       10   0.25\n",
       "3  5296b0c19e1ce60e    [0]  [1798, 4260]       10   0.50\n",
       "4  54c1e3b9184cb5b6    [0]  [2177, 4500]       10   0.00"
      ]
     },
     "execution_count": 30,
     "metadata": {},
     "output_type": "execute_result"
    }
   ],
   "source": [
    "df_1.head()"
   ]
  },
  {
   "cell_type": "markdown",
   "id": "d577df2b",
   "metadata": {},
   "source": [
    "5 words max is anchor\n",
    "15 words max is target"
   ]
  },
  {
   "cell_type": "code",
   "execution_count": 31,
   "id": "02f78558",
   "metadata": {},
   "outputs": [],
   "source": [
    "l1 = []\n",
    "l2 = []\n",
    "l3 = []\n",
    "l4 = []\n",
    "l5 = []\n",
    "\n",
    "for i in np.array(df_1['anchor']):\n",
    "    if len(i) == 1:\n",
    "        l1.append(i[0])\n",
    "        l2.append(np.nan)\n",
    "        l3.append(np.nan)\n",
    "        l4.append(np.nan)\n",
    "        l5.append(np.nan)\n",
    "    if len(i) == 2:\n",
    "        l1.append(i[0])\n",
    "        l2.append(i[1])\n",
    "        l3.append(np.nan)\n",
    "        l4.append(np.nan)\n",
    "        l5.append(np.nan)\n",
    "    if len(i) == 3:\n",
    "        l1.append(i[0])\n",
    "        l2.append(i[1])\n",
    "        l3.append(i[2])\n",
    "        l4.append(np.nan)\n",
    "        l5.append(np.nan)\n",
    "    if len(i) == 4:\n",
    "        l1.append(i[0])\n",
    "        l2.append(i[1])\n",
    "        l3.append(i[2])\n",
    "        l4.append(i[3])\n",
    "        l5.append(np.nan)\n",
    "    if len(i) == 5:\n",
    "        l1.append(i[0])\n",
    "        l2.append(i[1])\n",
    "        l3.append(i[2])\n",
    "        l4.append(i[3])\n",
    "        l5.append(i[4])"
   ]
  },
  {
   "cell_type": "code",
   "execution_count": 32,
   "id": "cd1927f5",
   "metadata": {},
   "outputs": [],
   "source": [
    "df_1['anchor_1'] = np.array(l1)\n",
    "df_1['anchor_2'] = np.array(l2)\n",
    "df_1['anchor_3'] = np.array(l3)\n",
    "df_1['anchor_4'] = np.array(l4)\n",
    "df_1['anchor_5'] = np.array(l5)"
   ]
  },
  {
   "cell_type": "code",
   "execution_count": 33,
   "id": "9f8ecdcc",
   "metadata": {},
   "outputs": [
    {
     "data": {
      "text/html": [
       "<div>\n",
       "<style scoped>\n",
       "    .dataframe tbody tr th:only-of-type {\n",
       "        vertical-align: middle;\n",
       "    }\n",
       "\n",
       "    .dataframe tbody tr th {\n",
       "        vertical-align: top;\n",
       "    }\n",
       "\n",
       "    .dataframe thead th {\n",
       "        text-align: right;\n",
       "    }\n",
       "</style>\n",
       "<table border=\"1\" class=\"dataframe\">\n",
       "  <thead>\n",
       "    <tr style=\"text-align: right;\">\n",
       "      <th></th>\n",
       "      <th>id</th>\n",
       "      <th>anchor</th>\n",
       "      <th>target</th>\n",
       "      <th>context</th>\n",
       "      <th>score</th>\n",
       "      <th>anchor_1</th>\n",
       "      <th>anchor_2</th>\n",
       "      <th>anchor_3</th>\n",
       "      <th>anchor_4</th>\n",
       "      <th>anchor_5</th>\n",
       "    </tr>\n",
       "  </thead>\n",
       "  <tbody>\n",
       "    <tr>\n",
       "      <th>0</th>\n",
       "      <td>37d61fd2272659b1</td>\n",
       "      <td>[0]</td>\n",
       "      <td>[35, 4113]</td>\n",
       "      <td>10</td>\n",
       "      <td>0.50</td>\n",
       "      <td>0</td>\n",
       "      <td>NaN</td>\n",
       "      <td>NaN</td>\n",
       "      <td>NaN</td>\n",
       "      <td>NaN</td>\n",
       "    </tr>\n",
       "    <tr>\n",
       "      <th>1</th>\n",
       "      <td>7b9652b17b68b7a4</td>\n",
       "      <td>[0]</td>\n",
       "      <td>[84, 35]</td>\n",
       "      <td>10</td>\n",
       "      <td>0.75</td>\n",
       "      <td>0</td>\n",
       "      <td>NaN</td>\n",
       "      <td>NaN</td>\n",
       "      <td>NaN</td>\n",
       "      <td>NaN</td>\n",
       "    </tr>\n",
       "    <tr>\n",
       "      <th>2</th>\n",
       "      <td>36d72442aefd8232</td>\n",
       "      <td>[0]</td>\n",
       "      <td>[86, 852]</td>\n",
       "      <td>10</td>\n",
       "      <td>0.25</td>\n",
       "      <td>0</td>\n",
       "      <td>NaN</td>\n",
       "      <td>NaN</td>\n",
       "      <td>NaN</td>\n",
       "      <td>NaN</td>\n",
       "    </tr>\n",
       "    <tr>\n",
       "      <th>3</th>\n",
       "      <td>5296b0c19e1ce60e</td>\n",
       "      <td>[0]</td>\n",
       "      <td>[1798, 4260]</td>\n",
       "      <td>10</td>\n",
       "      <td>0.50</td>\n",
       "      <td>0</td>\n",
       "      <td>NaN</td>\n",
       "      <td>NaN</td>\n",
       "      <td>NaN</td>\n",
       "      <td>NaN</td>\n",
       "    </tr>\n",
       "    <tr>\n",
       "      <th>4</th>\n",
       "      <td>54c1e3b9184cb5b6</td>\n",
       "      <td>[0]</td>\n",
       "      <td>[2177, 4500]</td>\n",
       "      <td>10</td>\n",
       "      <td>0.00</td>\n",
       "      <td>0</td>\n",
       "      <td>NaN</td>\n",
       "      <td>NaN</td>\n",
       "      <td>NaN</td>\n",
       "      <td>NaN</td>\n",
       "    </tr>\n",
       "  </tbody>\n",
       "</table>\n",
       "</div>"
      ],
      "text/plain": [
       "                 id anchor        target  context  score  anchor_1  anchor_2  \\\n",
       "0  37d61fd2272659b1    [0]    [35, 4113]       10   0.50         0       NaN   \n",
       "1  7b9652b17b68b7a4    [0]      [84, 35]       10   0.75         0       NaN   \n",
       "2  36d72442aefd8232    [0]     [86, 852]       10   0.25         0       NaN   \n",
       "3  5296b0c19e1ce60e    [0]  [1798, 4260]       10   0.50         0       NaN   \n",
       "4  54c1e3b9184cb5b6    [0]  [2177, 4500]       10   0.00         0       NaN   \n",
       "\n",
       "   anchor_3  anchor_4  anchor_5  \n",
       "0       NaN       NaN       NaN  \n",
       "1       NaN       NaN       NaN  \n",
       "2       NaN       NaN       NaN  \n",
       "3       NaN       NaN       NaN  \n",
       "4       NaN       NaN       NaN  "
      ]
     },
     "execution_count": 33,
     "metadata": {},
     "output_type": "execute_result"
    }
   ],
   "source": [
    "df_1.head()"
   ]
  },
  {
   "cell_type": "markdown",
   "id": "5858c129",
   "metadata": {},
   "source": [
    "__Target Reformat Values__"
   ]
  },
  {
   "cell_type": "code",
   "execution_count": 34,
   "id": "8116a15b",
   "metadata": {},
   "outputs": [],
   "source": [
    "l1 = []\n",
    "l2 = []\n",
    "l3 = []\n",
    "l4 = []\n",
    "l5 = []\n",
    "l6 = []\n",
    "l7 = []\n",
    "l8 = []\n",
    "l9 = []\n",
    "l10 = []\n",
    "l11 = []\n",
    "l12 = []\n",
    "l13 = []\n",
    "l14 = []\n",
    "l15 = []\n",
    "for i in np.array(df_1['target']):\n",
    "    if len(i) == 1:\n",
    "        l1.append(i[0])\n",
    "        l2.append(np.nan)\n",
    "        l3.append(np.nan)\n",
    "        l4.append(np.nan)\n",
    "        l5.append(np.nan)\n",
    "        l6.append(np.nan)\n",
    "        l7.append(np.nan)\n",
    "        l8.append(np.nan)\n",
    "        l9.append(np.nan)\n",
    "        l10.append(np.nan)\n",
    "        l11.append(np.nan)\n",
    "        l12.append(np.nan)\n",
    "        l13.append(np.nan)\n",
    "        l14.append(np.nan)\n",
    "        l15.append(np.nan)\n",
    "        \n",
    "    if len(i) == 2:\n",
    "        l1.append(i[0])\n",
    "        l2.append(i[1])\n",
    "        l3.append(np.nan)\n",
    "        l4.append(np.nan)\n",
    "        l5.append(np.nan)\n",
    "        l6.append(np.nan)\n",
    "        l7.append(np.nan)\n",
    "        l8.append(np.nan)\n",
    "        l9.append(np.nan)\n",
    "        l10.append(np.nan)\n",
    "        l11.append(np.nan)\n",
    "        l12.append(np.nan)\n",
    "        l13.append(np.nan)\n",
    "        l14.append(np.nan)\n",
    "        l15.append(np.nan)\n",
    "    if len(i) == 3:\n",
    "        l1.append(i[0])\n",
    "        l2.append(i[1])\n",
    "        l3.append(i[2])\n",
    "        l4.append(np.nan)\n",
    "        l5.append(np.nan)\n",
    "        l6.append(np.nan)\n",
    "        l7.append(np.nan)\n",
    "        l8.append(np.nan)\n",
    "        l9.append(np.nan)\n",
    "        l10.append(np.nan)\n",
    "        l11.append(np.nan)\n",
    "        l12.append(np.nan)\n",
    "        l13.append(np.nan)\n",
    "        l14.append(np.nan)\n",
    "        l15.append(np.nan)\n",
    "    if len(i) == 4:\n",
    "        l1.append(i[0])\n",
    "        l2.append(i[1])\n",
    "        l3.append(i[2])\n",
    "        l4.append(i[3])\n",
    "        l5.append(np.nan)\n",
    "        l6.append(np.nan)\n",
    "        l7.append(np.nan)\n",
    "        l8.append(np.nan)\n",
    "        l9.append(np.nan)\n",
    "        l10.append(np.nan)\n",
    "        l11.append(np.nan)\n",
    "        l12.append(np.nan)\n",
    "        l13.append(np.nan)\n",
    "        l14.append(np.nan)\n",
    "        l15.append(np.nan)\n",
    "    if len(i) == 5:\n",
    "        l1.append(i[0])\n",
    "        l2.append(i[1])\n",
    "        l3.append(i[2])\n",
    "        l4.append(i[3])\n",
    "        l5.append(i[4])\n",
    "        l6.append(np.nan)\n",
    "        l7.append(np.nan)\n",
    "        l8.append(np.nan)\n",
    "        l9.append(np.nan)\n",
    "        l10.append(np.nan)\n",
    "        l11.append(np.nan)\n",
    "        l12.append(np.nan)\n",
    "        l13.append(np.nan)\n",
    "        l14.append(np.nan)\n",
    "        l15.append(np.nan)\n",
    "    if len(i) == 6:\n",
    "        l1.append(i[0])\n",
    "        l2.append(i[1])\n",
    "        l3.append(i[2])\n",
    "        l4.append(i[3])\n",
    "        l5.append(i[4])\n",
    "        l6.append(i[5])\n",
    "        l7.append(np.nan)\n",
    "        l8.append(np.nan)\n",
    "        l9.append(np.nan)\n",
    "        l10.append(np.nan)\n",
    "        l11.append(np.nan)\n",
    "        l12.append(np.nan)\n",
    "        l13.append(np.nan)\n",
    "        l14.append(np.nan)\n",
    "        l15.append(np.nan)\n",
    "    if len(i) == 7:\n",
    "        l1.append(i[0])\n",
    "        l2.append(i[1])\n",
    "        l3.append(i[2])\n",
    "        l4.append(i[3])\n",
    "        l5.append(i[4])\n",
    "        l6.append(i[5])\n",
    "        l7.append(i[6])\n",
    "        l8.append(np.nan)\n",
    "        l9.append(np.nan)\n",
    "        l10.append(np.nan)\n",
    "        l11.append(np.nan)\n",
    "        l12.append(np.nan)\n",
    "        l13.append(np.nan)\n",
    "        l14.append(np.nan)\n",
    "        l15.append(np.nan)\n",
    "    if len(i) == 8:\n",
    "        l1.append(i[0])\n",
    "        l2.append(i[1])\n",
    "        l3.append(i[2])\n",
    "        l4.append(i[3])\n",
    "        l5.append(i[4])\n",
    "        l6.append(i[5])\n",
    "        l7.append(i[6])\n",
    "        l8.append(i[7])\n",
    "        l9.append(np.nan)\n",
    "        l10.append(np.nan)\n",
    "        l11.append(np.nan)\n",
    "        l12.append(np.nan)\n",
    "        l13.append(np.nan)\n",
    "        l14.append(np.nan)\n",
    "        l15.append(np.nan)\n",
    "    if len(i) == 9:\n",
    "        l1.append(i[0])\n",
    "        l2.append(i[1])\n",
    "        l3.append(i[2])\n",
    "        l4.append(i[3])\n",
    "        l5.append(i[4])\n",
    "        l6.append(i[5])\n",
    "        l7.append(i[6])\n",
    "        l8.append(i[7])\n",
    "        l9.append(i[8])\n",
    "        l10.append(np.nan)\n",
    "        l11.append(np.nan)\n",
    "        l12.append(np.nan)\n",
    "        l13.append(np.nan)\n",
    "        l14.append(np.nan)\n",
    "        l15.append(np.nan)\n",
    "    if len(i) == 10:\n",
    "        l1.append(i[0])\n",
    "        l2.append(i[1])\n",
    "        l3.append(i[2])\n",
    "        l4.append(i[3])\n",
    "        l5.append(i[4])\n",
    "        l6.append(i[5])\n",
    "        l7.append(i[6])\n",
    "        l8.append(i[7])\n",
    "        l9.append(i[8])\n",
    "        l10.append(i[9])\n",
    "        l11.append(np.nan)\n",
    "        l12.append(np.nan)\n",
    "        l13.append(np.nan)\n",
    "        l14.append(np.nan)\n",
    "        l15.append(np.nan)\n",
    "    if len(i) == 11:\n",
    "        l1.append(i[0])\n",
    "        l2.append(i[1])\n",
    "        l3.append(i[2])\n",
    "        l4.append(i[3])\n",
    "        l5.append(i[4])\n",
    "        l6.append(i[5])\n",
    "        l7.append(i[6])\n",
    "        l8.append(i[7])\n",
    "        l9.append(i[8])\n",
    "        l10.append(i[9])\n",
    "        l11.append(i[10])\n",
    "        l12.append(np.nan)\n",
    "        l13.append(np.nan)\n",
    "        l14.append(np.nan)\n",
    "        l15.append(np.nan)\n",
    "    if len(i) == 12:\n",
    "        l1.append(i[0])\n",
    "        l2.append(i[1])\n",
    "        l3.append(i[2])\n",
    "        l4.append(i[3])\n",
    "        l5.append(i[4])\n",
    "        l6.append(i[5])\n",
    "        l7.append(i[6])\n",
    "        l8.append(i[7])\n",
    "        l9.append(i[8])\n",
    "        l10.append(i[9])\n",
    "        l11.append(i[10])\n",
    "        l12.append(i[11])\n",
    "        l13.append(np.nan)\n",
    "        l14.append(np.nan)\n",
    "        l15.append(np.nan)\n",
    "    if len(i) == 13:\n",
    "        l1.append(i[0])\n",
    "        l2.append(i[1])\n",
    "        l3.append(i[2])\n",
    "        l4.append(i[3])\n",
    "        l5.append(i[4])\n",
    "        l6.append(i[5])\n",
    "        l7.append(i[6])\n",
    "        l8.append(i[7])\n",
    "        l9.append(i[8])\n",
    "        l10.append(i[9])\n",
    "        l11.append(i[10])\n",
    "        l12.append(i[11])\n",
    "        l13.append(i[12])\n",
    "        l14.append(np.nan)\n",
    "        l15.append(np.nan)\n",
    "    if len(i) == 14:\n",
    "        l1.append(i[0])\n",
    "        l2.append(i[1])\n",
    "        l3.append(i[2])\n",
    "        l4.append(i[3])\n",
    "        l5.append(i[4])\n",
    "        l6.append(i[5])\n",
    "        l7.append(i[6])\n",
    "        l8.append(i[7])\n",
    "        l9.append(i[8])\n",
    "        l10.append(i[9])\n",
    "        l11.append(i[10])\n",
    "        l12.append(i[11])\n",
    "        l13.append(i[12])\n",
    "        l14.append(i[13])\n",
    "        l15.append(np.nan)\n",
    "    if len(i) == 15:\n",
    "        l1.append(i[0])\n",
    "        l2.append(i[1])\n",
    "        l3.append(i[2])\n",
    "        l4.append(i[3])\n",
    "        l5.append(i[4])\n",
    "        l6.append(i[5])\n",
    "        l7.append(i[6])\n",
    "        l8.append(i[7])\n",
    "        l9.append(i[8])\n",
    "        l10.append(i[9])\n",
    "        l11.append(i[10])\n",
    "        l12.append(i[11])\n",
    "        l13.append(i[12])\n",
    "        l14.append(i[13])\n",
    "        l15.append(i[14])"
   ]
  },
  {
   "cell_type": "code",
   "execution_count": 35,
   "id": "4c4936ff",
   "metadata": {},
   "outputs": [],
   "source": [
    "df_1['target_1'] = np.array(l1)\n",
    "df_1['target_2'] = np.array(l2)\n",
    "df_1['target_3'] = np.array(l3)\n",
    "df_1['target_4'] = np.array(l4)\n",
    "df_1['target_5'] = np.array(l5)\n",
    "df_1['target_6'] = np.array(l6)\n",
    "df_1['target_7'] = np.array(l7)\n",
    "df_1['target_8'] = np.array(l8)\n",
    "df_1['target_9'] = np.array(l9)\n",
    "df_1['target_10'] = np.array(l10)\n",
    "df_1['target_11'] = np.array(l11)\n",
    "df_1['target_12'] = np.array(l12)\n",
    "df_1['target_13'] = np.array(l13)\n",
    "df_1['target_14'] = np.array(l14)\n",
    "df_1['target_15'] = np.array(l15)"
   ]
  },
  {
   "cell_type": "markdown",
   "id": "5836105c",
   "metadata": {},
   "source": [
    "__Fill in null values__"
   ]
  },
  {
   "cell_type": "code",
   "execution_count": 36,
   "id": "dc8e47f1",
   "metadata": {},
   "outputs": [
    {
     "data": {
      "text/html": [
       "<div>\n",
       "<style scoped>\n",
       "    .dataframe tbody tr th:only-of-type {\n",
       "        vertical-align: middle;\n",
       "    }\n",
       "\n",
       "    .dataframe tbody tr th {\n",
       "        vertical-align: top;\n",
       "    }\n",
       "\n",
       "    .dataframe thead th {\n",
       "        text-align: right;\n",
       "    }\n",
       "</style>\n",
       "<table border=\"1\" class=\"dataframe\">\n",
       "  <thead>\n",
       "    <tr style=\"text-align: right;\">\n",
       "      <th></th>\n",
       "      <th>id</th>\n",
       "      <th>anchor</th>\n",
       "      <th>target</th>\n",
       "      <th>context</th>\n",
       "      <th>score</th>\n",
       "      <th>anchor_1</th>\n",
       "      <th>anchor_2</th>\n",
       "      <th>anchor_3</th>\n",
       "      <th>anchor_4</th>\n",
       "      <th>anchor_5</th>\n",
       "      <th>...</th>\n",
       "      <th>target_6</th>\n",
       "      <th>target_7</th>\n",
       "      <th>target_8</th>\n",
       "      <th>target_9</th>\n",
       "      <th>target_10</th>\n",
       "      <th>target_11</th>\n",
       "      <th>target_12</th>\n",
       "      <th>target_13</th>\n",
       "      <th>target_14</th>\n",
       "      <th>target_15</th>\n",
       "    </tr>\n",
       "  </thead>\n",
       "  <tbody>\n",
       "    <tr>\n",
       "      <th>0</th>\n",
       "      <td>37d61fd2272659b1</td>\n",
       "      <td>[0]</td>\n",
       "      <td>[35, 4113]</td>\n",
       "      <td>10</td>\n",
       "      <td>0.50</td>\n",
       "      <td>0</td>\n",
       "      <td>NaN</td>\n",
       "      <td>NaN</td>\n",
       "      <td>NaN</td>\n",
       "      <td>NaN</td>\n",
       "      <td>...</td>\n",
       "      <td>NaN</td>\n",
       "      <td>NaN</td>\n",
       "      <td>NaN</td>\n",
       "      <td>NaN</td>\n",
       "      <td>NaN</td>\n",
       "      <td>NaN</td>\n",
       "      <td>NaN</td>\n",
       "      <td>NaN</td>\n",
       "      <td>NaN</td>\n",
       "      <td>NaN</td>\n",
       "    </tr>\n",
       "    <tr>\n",
       "      <th>1</th>\n",
       "      <td>7b9652b17b68b7a4</td>\n",
       "      <td>[0]</td>\n",
       "      <td>[84, 35]</td>\n",
       "      <td>10</td>\n",
       "      <td>0.75</td>\n",
       "      <td>0</td>\n",
       "      <td>NaN</td>\n",
       "      <td>NaN</td>\n",
       "      <td>NaN</td>\n",
       "      <td>NaN</td>\n",
       "      <td>...</td>\n",
       "      <td>NaN</td>\n",
       "      <td>NaN</td>\n",
       "      <td>NaN</td>\n",
       "      <td>NaN</td>\n",
       "      <td>NaN</td>\n",
       "      <td>NaN</td>\n",
       "      <td>NaN</td>\n",
       "      <td>NaN</td>\n",
       "      <td>NaN</td>\n",
       "      <td>NaN</td>\n",
       "    </tr>\n",
       "    <tr>\n",
       "      <th>2</th>\n",
       "      <td>36d72442aefd8232</td>\n",
       "      <td>[0]</td>\n",
       "      <td>[86, 852]</td>\n",
       "      <td>10</td>\n",
       "      <td>0.25</td>\n",
       "      <td>0</td>\n",
       "      <td>NaN</td>\n",
       "      <td>NaN</td>\n",
       "      <td>NaN</td>\n",
       "      <td>NaN</td>\n",
       "      <td>...</td>\n",
       "      <td>NaN</td>\n",
       "      <td>NaN</td>\n",
       "      <td>NaN</td>\n",
       "      <td>NaN</td>\n",
       "      <td>NaN</td>\n",
       "      <td>NaN</td>\n",
       "      <td>NaN</td>\n",
       "      <td>NaN</td>\n",
       "      <td>NaN</td>\n",
       "      <td>NaN</td>\n",
       "    </tr>\n",
       "    <tr>\n",
       "      <th>3</th>\n",
       "      <td>5296b0c19e1ce60e</td>\n",
       "      <td>[0]</td>\n",
       "      <td>[1798, 4260]</td>\n",
       "      <td>10</td>\n",
       "      <td>0.50</td>\n",
       "      <td>0</td>\n",
       "      <td>NaN</td>\n",
       "      <td>NaN</td>\n",
       "      <td>NaN</td>\n",
       "      <td>NaN</td>\n",
       "      <td>...</td>\n",
       "      <td>NaN</td>\n",
       "      <td>NaN</td>\n",
       "      <td>NaN</td>\n",
       "      <td>NaN</td>\n",
       "      <td>NaN</td>\n",
       "      <td>NaN</td>\n",
       "      <td>NaN</td>\n",
       "      <td>NaN</td>\n",
       "      <td>NaN</td>\n",
       "      <td>NaN</td>\n",
       "    </tr>\n",
       "    <tr>\n",
       "      <th>4</th>\n",
       "      <td>54c1e3b9184cb5b6</td>\n",
       "      <td>[0]</td>\n",
       "      <td>[2177, 4500]</td>\n",
       "      <td>10</td>\n",
       "      <td>0.00</td>\n",
       "      <td>0</td>\n",
       "      <td>NaN</td>\n",
       "      <td>NaN</td>\n",
       "      <td>NaN</td>\n",
       "      <td>NaN</td>\n",
       "      <td>...</td>\n",
       "      <td>NaN</td>\n",
       "      <td>NaN</td>\n",
       "      <td>NaN</td>\n",
       "      <td>NaN</td>\n",
       "      <td>NaN</td>\n",
       "      <td>NaN</td>\n",
       "      <td>NaN</td>\n",
       "      <td>NaN</td>\n",
       "      <td>NaN</td>\n",
       "      <td>NaN</td>\n",
       "    </tr>\n",
       "  </tbody>\n",
       "</table>\n",
       "<p>5 rows × 25 columns</p>\n",
       "</div>"
      ],
      "text/plain": [
       "                 id anchor        target  context  score  anchor_1  anchor_2  \\\n",
       "0  37d61fd2272659b1    [0]    [35, 4113]       10   0.50         0       NaN   \n",
       "1  7b9652b17b68b7a4    [0]      [84, 35]       10   0.75         0       NaN   \n",
       "2  36d72442aefd8232    [0]     [86, 852]       10   0.25         0       NaN   \n",
       "3  5296b0c19e1ce60e    [0]  [1798, 4260]       10   0.50         0       NaN   \n",
       "4  54c1e3b9184cb5b6    [0]  [2177, 4500]       10   0.00         0       NaN   \n",
       "\n",
       "   anchor_3  anchor_4  anchor_5  ...  target_6  target_7  target_8  target_9  \\\n",
       "0       NaN       NaN       NaN  ...       NaN       NaN       NaN       NaN   \n",
       "1       NaN       NaN       NaN  ...       NaN       NaN       NaN       NaN   \n",
       "2       NaN       NaN       NaN  ...       NaN       NaN       NaN       NaN   \n",
       "3       NaN       NaN       NaN  ...       NaN       NaN       NaN       NaN   \n",
       "4       NaN       NaN       NaN  ...       NaN       NaN       NaN       NaN   \n",
       "\n",
       "   target_10  target_11  target_12  target_13  target_14  target_15  \n",
       "0        NaN        NaN        NaN        NaN        NaN        NaN  \n",
       "1        NaN        NaN        NaN        NaN        NaN        NaN  \n",
       "2        NaN        NaN        NaN        NaN        NaN        NaN  \n",
       "3        NaN        NaN        NaN        NaN        NaN        NaN  \n",
       "4        NaN        NaN        NaN        NaN        NaN        NaN  \n",
       "\n",
       "[5 rows x 25 columns]"
      ]
     },
     "execution_count": 36,
     "metadata": {},
     "output_type": "execute_result"
    }
   ],
   "source": [
    "df_1.head()"
   ]
  },
  {
   "cell_type": "code",
   "execution_count": 37,
   "id": "33798759",
   "metadata": {},
   "outputs": [],
   "source": [
    "df_1 = df_1.apply(lambda x: x.fillna(x.iloc[3]),axis=1,)"
   ]
  },
  {
   "cell_type": "code",
   "execution_count": 38,
   "id": "94a05604",
   "metadata": {},
   "outputs": [
    {
     "data": {
      "text/html": [
       "<div>\n",
       "<style scoped>\n",
       "    .dataframe tbody tr th:only-of-type {\n",
       "        vertical-align: middle;\n",
       "    }\n",
       "\n",
       "    .dataframe tbody tr th {\n",
       "        vertical-align: top;\n",
       "    }\n",
       "\n",
       "    .dataframe thead th {\n",
       "        text-align: right;\n",
       "    }\n",
       "</style>\n",
       "<table border=\"1\" class=\"dataframe\">\n",
       "  <thead>\n",
       "    <tr style=\"text-align: right;\">\n",
       "      <th></th>\n",
       "      <th>id</th>\n",
       "      <th>anchor</th>\n",
       "      <th>target</th>\n",
       "      <th>context</th>\n",
       "      <th>score</th>\n",
       "      <th>anchor_1</th>\n",
       "      <th>anchor_2</th>\n",
       "      <th>anchor_3</th>\n",
       "      <th>anchor_4</th>\n",
       "      <th>anchor_5</th>\n",
       "      <th>...</th>\n",
       "      <th>target_6</th>\n",
       "      <th>target_7</th>\n",
       "      <th>target_8</th>\n",
       "      <th>target_9</th>\n",
       "      <th>target_10</th>\n",
       "      <th>target_11</th>\n",
       "      <th>target_12</th>\n",
       "      <th>target_13</th>\n",
       "      <th>target_14</th>\n",
       "      <th>target_15</th>\n",
       "    </tr>\n",
       "  </thead>\n",
       "  <tbody>\n",
       "    <tr>\n",
       "      <th>0</th>\n",
       "      <td>37d61fd2272659b1</td>\n",
       "      <td>[0]</td>\n",
       "      <td>[35, 4113]</td>\n",
       "      <td>10</td>\n",
       "      <td>0.50</td>\n",
       "      <td>0</td>\n",
       "      <td>10.0</td>\n",
       "      <td>10.0</td>\n",
       "      <td>10.0</td>\n",
       "      <td>10.0</td>\n",
       "      <td>...</td>\n",
       "      <td>10.0</td>\n",
       "      <td>10.0</td>\n",
       "      <td>10.0</td>\n",
       "      <td>10.0</td>\n",
       "      <td>10.0</td>\n",
       "      <td>10.0</td>\n",
       "      <td>10.0</td>\n",
       "      <td>10.0</td>\n",
       "      <td>10.0</td>\n",
       "      <td>10.0</td>\n",
       "    </tr>\n",
       "    <tr>\n",
       "      <th>1</th>\n",
       "      <td>7b9652b17b68b7a4</td>\n",
       "      <td>[0]</td>\n",
       "      <td>[84, 35]</td>\n",
       "      <td>10</td>\n",
       "      <td>0.75</td>\n",
       "      <td>0</td>\n",
       "      <td>10.0</td>\n",
       "      <td>10.0</td>\n",
       "      <td>10.0</td>\n",
       "      <td>10.0</td>\n",
       "      <td>...</td>\n",
       "      <td>10.0</td>\n",
       "      <td>10.0</td>\n",
       "      <td>10.0</td>\n",
       "      <td>10.0</td>\n",
       "      <td>10.0</td>\n",
       "      <td>10.0</td>\n",
       "      <td>10.0</td>\n",
       "      <td>10.0</td>\n",
       "      <td>10.0</td>\n",
       "      <td>10.0</td>\n",
       "    </tr>\n",
       "    <tr>\n",
       "      <th>2</th>\n",
       "      <td>36d72442aefd8232</td>\n",
       "      <td>[0]</td>\n",
       "      <td>[86, 852]</td>\n",
       "      <td>10</td>\n",
       "      <td>0.25</td>\n",
       "      <td>0</td>\n",
       "      <td>10.0</td>\n",
       "      <td>10.0</td>\n",
       "      <td>10.0</td>\n",
       "      <td>10.0</td>\n",
       "      <td>...</td>\n",
       "      <td>10.0</td>\n",
       "      <td>10.0</td>\n",
       "      <td>10.0</td>\n",
       "      <td>10.0</td>\n",
       "      <td>10.0</td>\n",
       "      <td>10.0</td>\n",
       "      <td>10.0</td>\n",
       "      <td>10.0</td>\n",
       "      <td>10.0</td>\n",
       "      <td>10.0</td>\n",
       "    </tr>\n",
       "    <tr>\n",
       "      <th>3</th>\n",
       "      <td>5296b0c19e1ce60e</td>\n",
       "      <td>[0]</td>\n",
       "      <td>[1798, 4260]</td>\n",
       "      <td>10</td>\n",
       "      <td>0.50</td>\n",
       "      <td>0</td>\n",
       "      <td>10.0</td>\n",
       "      <td>10.0</td>\n",
       "      <td>10.0</td>\n",
       "      <td>10.0</td>\n",
       "      <td>...</td>\n",
       "      <td>10.0</td>\n",
       "      <td>10.0</td>\n",
       "      <td>10.0</td>\n",
       "      <td>10.0</td>\n",
       "      <td>10.0</td>\n",
       "      <td>10.0</td>\n",
       "      <td>10.0</td>\n",
       "      <td>10.0</td>\n",
       "      <td>10.0</td>\n",
       "      <td>10.0</td>\n",
       "    </tr>\n",
       "    <tr>\n",
       "      <th>4</th>\n",
       "      <td>54c1e3b9184cb5b6</td>\n",
       "      <td>[0]</td>\n",
       "      <td>[2177, 4500]</td>\n",
       "      <td>10</td>\n",
       "      <td>0.00</td>\n",
       "      <td>0</td>\n",
       "      <td>10.0</td>\n",
       "      <td>10.0</td>\n",
       "      <td>10.0</td>\n",
       "      <td>10.0</td>\n",
       "      <td>...</td>\n",
       "      <td>10.0</td>\n",
       "      <td>10.0</td>\n",
       "      <td>10.0</td>\n",
       "      <td>10.0</td>\n",
       "      <td>10.0</td>\n",
       "      <td>10.0</td>\n",
       "      <td>10.0</td>\n",
       "      <td>10.0</td>\n",
       "      <td>10.0</td>\n",
       "      <td>10.0</td>\n",
       "    </tr>\n",
       "  </tbody>\n",
       "</table>\n",
       "<p>5 rows × 25 columns</p>\n",
       "</div>"
      ],
      "text/plain": [
       "                 id anchor        target  context  score  anchor_1  anchor_2  \\\n",
       "0  37d61fd2272659b1    [0]    [35, 4113]       10   0.50         0      10.0   \n",
       "1  7b9652b17b68b7a4    [0]      [84, 35]       10   0.75         0      10.0   \n",
       "2  36d72442aefd8232    [0]     [86, 852]       10   0.25         0      10.0   \n",
       "3  5296b0c19e1ce60e    [0]  [1798, 4260]       10   0.50         0      10.0   \n",
       "4  54c1e3b9184cb5b6    [0]  [2177, 4500]       10   0.00         0      10.0   \n",
       "\n",
       "   anchor_3  anchor_4  anchor_5  ...  target_6  target_7  target_8  target_9  \\\n",
       "0      10.0      10.0      10.0  ...      10.0      10.0      10.0      10.0   \n",
       "1      10.0      10.0      10.0  ...      10.0      10.0      10.0      10.0   \n",
       "2      10.0      10.0      10.0  ...      10.0      10.0      10.0      10.0   \n",
       "3      10.0      10.0      10.0  ...      10.0      10.0      10.0      10.0   \n",
       "4      10.0      10.0      10.0  ...      10.0      10.0      10.0      10.0   \n",
       "\n",
       "   target_10  target_11  target_12  target_13  target_14  target_15  \n",
       "0       10.0       10.0       10.0       10.0       10.0       10.0  \n",
       "1       10.0       10.0       10.0       10.0       10.0       10.0  \n",
       "2       10.0       10.0       10.0       10.0       10.0       10.0  \n",
       "3       10.0       10.0       10.0       10.0       10.0       10.0  \n",
       "4       10.0       10.0       10.0       10.0       10.0       10.0  \n",
       "\n",
       "[5 rows x 25 columns]"
      ]
     },
     "execution_count": 38,
     "metadata": {},
     "output_type": "execute_result"
    }
   ],
   "source": [
    "df_1.head()"
   ]
  },
  {
   "cell_type": "markdown",
   "id": "7425d052",
   "metadata": {},
   "source": [
    "__Spliting (70/30)__\n",
    "* Here we test/evaluate our models"
   ]
  },
  {
   "cell_type": "code",
   "execution_count": 296,
   "id": "26a82cdf",
   "metadata": {},
   "outputs": [],
   "source": [
    "# x = df_1[df_1.columns[5:]].values\n",
    "# x = temp.values\n",
    "y = df_1['score'].values[:100]"
   ]
  },
  {
   "cell_type": "code",
   "execution_count": 297,
   "id": "0be17aec",
   "metadata": {
    "scrolled": true
   },
   "outputs": [],
   "source": [
    "x_train, x_test, y_train, y_test = train_test_split(x, y, \n",
    "test_size=0.20, \n",
    "random_state=141)"
   ]
  },
  {
   "cell_type": "code",
   "execution_count": 155,
   "id": "ee5d58ea",
   "metadata": {},
   "outputs": [],
   "source": [
    "def thresholder(val):\n",
    "    if val < 0.125:\n",
    "        return 0.00\n",
    "    elif val > 0.125 and val <= 0.375 :\n",
    "        return 0.25\n",
    "    elif val > 0.375 and val <=0.625:\n",
    "        return 0.50\n",
    "    elif val > 0.625 and val <=0.875:\n",
    "        return 0.75\n",
    "    elif val > 0.875:\n",
    "        return 1"
   ]
  },
  {
   "cell_type": "markdown",
   "id": "71f54947",
   "metadata": {},
   "source": [
    "__Random Forest Regressor__"
   ]
  },
  {
   "cell_type": "code",
   "execution_count": 299,
   "id": "204f4a34",
   "metadata": {},
   "outputs": [
    {
     "data": {
      "text/plain": [
       "Pipeline(steps=[('standardscaler', StandardScaler()),\n",
       "                ('randomforestregressor',\n",
       "                 RandomForestRegressor(random_state=141))])"
      ]
     },
     "execution_count": 299,
     "metadata": {},
     "output_type": "execute_result"
    }
   ],
   "source": [
    "from sklearn.ensemble import RandomForestRegressor\n",
    "from sklearn.multioutput import MultiOutputRegressor\n",
    "from sklearn.preprocessing import StandardScaler\n",
    "from sklearn.pipeline import make_pipeline\n",
    "from sklearn.metrics import mean_squared_error, mean_absolute_error,mean_absolute_percentage_error\n",
    "regr = RandomForestRegressor(random_state=141)\n",
    "pipe = make_pipeline(StandardScaler(),regr)\n",
    "pipe.fit(x_train.reshape(-1,1), y_train)"
   ]
  },
  {
   "cell_type": "code",
   "execution_count": 301,
   "id": "d8306107",
   "metadata": {},
   "outputs": [
    {
     "data": {
      "text/plain": [
       "-0.1715159574468086"
      ]
     },
     "execution_count": 301,
     "metadata": {},
     "output_type": "execute_result"
    }
   ],
   "source": [
    "pipe.score(x_test.reshape(-1,1),y_test)"
   ]
  },
  {
   "cell_type": "code",
   "execution_count": 303,
   "id": "11802786",
   "metadata": {},
   "outputs": [
    {
     "name": "stdout",
     "output_type": "stream",
     "text": [
      "Mean Square Error: 0.06882656250000001 \n",
      "Root Mean Squared Error: 0.26234817037669617 \n",
      "Mean Absolute Error: 0.21962499999999996 \n",
      "Mean Absolute Percentage Error: -0.1715159574468086 \n"
     ]
    }
   ],
   "source": [
    "from sklearn.metrics import r2_score\n",
    "y_pred = pipe.predict(x_test.reshape(-1,1))\n",
    "# y_pred = [thresholder(i) for i in y_pred]\n",
    "mse = mean_squared_error(y_test, y_pred)\n",
    "mape = r2_score(y_test,y_pred)\n",
    "rmse = mean_squared_error(y_test, y_pred,squared=False)\n",
    "mae = mean_absolute_error(y_test,y_pred)\n",
    "print(\"Mean Square Error: {} \\nRoot Mean Squared Error: {} \\nMean Absolute Error: {} \\nMean Absolute Percentage Error: {} \".format(mse,rmse,mae,mape))"
   ]
  },
  {
   "cell_type": "markdown",
   "id": "86839a72",
   "metadata": {},
   "source": [
    "__KNN Regression__"
   ]
  },
  {
   "cell_type": "code",
   "execution_count": 132,
   "id": "469d0933",
   "metadata": {},
   "outputs": [
    {
     "data": {
      "text/plain": [
       "Pipeline(steps=[('standardscaler', StandardScaler()),\n",
       "                ('kneighborsregressor', KNeighborsRegressor(n_neighbors=7))])"
      ]
     },
     "execution_count": 132,
     "metadata": {},
     "output_type": "execute_result"
    }
   ],
   "source": [
    "from sklearn.neighbors import KNeighborsRegressor\n",
    "knn_r = KNeighborsRegressor(n_neighbors=7)\n",
    "pipe = make_pipeline(StandardScaler(),knn_r)\n",
    "pipe.fit(x_train, y_train)"
   ]
  },
  {
   "cell_type": "code",
   "execution_count": 133,
   "id": "08a30663",
   "metadata": {},
   "outputs": [
    {
     "name": "stdout",
     "output_type": "stream",
     "text": [
      "Mean Square Error: 0.06241362549132059 \n",
      "Root Mean Squared Error: 0.2498271912569178 \n",
      "Mean Absolute Error: 0.19628414765494956 \n"
     ]
    }
   ],
   "source": [
    "y_pred = pipe.predict(x_test)\n",
    "mse = mean_squared_error(y_test, y_pred)\n",
    "rmse = mean_squared_error(y_test, y_pred,squared=False)\n",
    "mae = mean_absolute_error(y_test,y_pred)\n",
    "print(\"Mean Square Error: {} \\nRoot Mean Squared Error: {} \\nMean Absolute Error: {} \".format(mse,rmse,mae))"
   ]
  },
  {
   "cell_type": "code",
   "execution_count": 185,
   "id": "4e5c8ad2",
   "metadata": {},
   "outputs": [],
   "source": [
    "import mglearn "
   ]
  },
  {
   "cell_type": "code",
   "execution_count": 191,
   "id": "3720bc17",
   "metadata": {},
   "outputs": [],
   "source": [
    "from sklearn.neighbors import KNeighborsRegressor\n",
    "X, y = mglearn.datasets.make_wave(n_samples=40)\n",
    "# split the wave dataset into a training and a test set\n",
    "X_train, X_test, y_train, y_test = train_test_split(X, y, random_state=0)\n",
    "# instantiate the model and set the number of neighbors to consider to 3\n",
    "reg = KNeighborsRegressor(n_neighbors=3)"
   ]
  },
  {
   "cell_type": "code",
   "execution_count": 193,
   "id": "2515f045",
   "metadata": {},
   "outputs": [
    {
     "data": {
      "text/html": [
       "<div>\n",
       "<style scoped>\n",
       "    .dataframe tbody tr th:only-of-type {\n",
       "        vertical-align: middle;\n",
       "    }\n",
       "\n",
       "    .dataframe tbody tr th {\n",
       "        vertical-align: top;\n",
       "    }\n",
       "\n",
       "    .dataframe thead th {\n",
       "        text-align: right;\n",
       "    }\n",
       "</style>\n",
       "<table border=\"1\" class=\"dataframe\">\n",
       "  <thead>\n",
       "    <tr style=\"text-align: right;\">\n",
       "      <th></th>\n",
       "      <th>anchor_1</th>\n",
       "      <th>anchor_2</th>\n",
       "      <th>anchor_3</th>\n",
       "      <th>anchor_4</th>\n",
       "      <th>anchor_5</th>\n",
       "      <th>target_1</th>\n",
       "      <th>target_2</th>\n",
       "      <th>target_3</th>\n",
       "      <th>target_4</th>\n",
       "      <th>target_5</th>\n",
       "      <th>target_6</th>\n",
       "      <th>target_7</th>\n",
       "      <th>target_8</th>\n",
       "      <th>target_9</th>\n",
       "      <th>target_10</th>\n",
       "      <th>target_11</th>\n",
       "      <th>target_12</th>\n",
       "      <th>target_13</th>\n",
       "      <th>target_14</th>\n",
       "      <th>target_15</th>\n",
       "    </tr>\n",
       "  </thead>\n",
       "  <tbody>\n",
       "    <tr>\n",
       "      <th>32558</th>\n",
       "      <td>834</td>\n",
       "      <td>36.0</td>\n",
       "      <td>25.0</td>\n",
       "      <td>44.0</td>\n",
       "      <td>44.0</td>\n",
       "      <td>5309</td>\n",
       "      <td>194.0</td>\n",
       "      <td>130.0</td>\n",
       "      <td>44.0</td>\n",
       "      <td>44.0</td>\n",
       "      <td>44.0</td>\n",
       "      <td>44.0</td>\n",
       "      <td>44.0</td>\n",
       "      <td>44.0</td>\n",
       "      <td>44.0</td>\n",
       "      <td>44.0</td>\n",
       "      <td>44.0</td>\n",
       "      <td>44.0</td>\n",
       "      <td>44.0</td>\n",
       "      <td>44.0</td>\n",
       "    </tr>\n",
       "    <tr>\n",
       "      <th>17734</th>\n",
       "      <td>447</td>\n",
       "      <td>694.0</td>\n",
       "      <td>101.0</td>\n",
       "      <td>101.0</td>\n",
       "      <td>101.0</td>\n",
       "      <td>4965</td>\n",
       "      <td>101.0</td>\n",
       "      <td>101.0</td>\n",
       "      <td>101.0</td>\n",
       "      <td>101.0</td>\n",
       "      <td>101.0</td>\n",
       "      <td>101.0</td>\n",
       "      <td>101.0</td>\n",
       "      <td>101.0</td>\n",
       "      <td>101.0</td>\n",
       "      <td>101.0</td>\n",
       "      <td>101.0</td>\n",
       "      <td>101.0</td>\n",
       "      <td>101.0</td>\n",
       "      <td>101.0</td>\n",
       "    </tr>\n",
       "    <tr>\n",
       "      <th>2085</th>\n",
       "      <td>60</td>\n",
       "      <td>504.0</td>\n",
       "      <td>59.0</td>\n",
       "      <td>59.0</td>\n",
       "      <td>59.0</td>\n",
       "      <td>4332</td>\n",
       "      <td>59.0</td>\n",
       "      <td>59.0</td>\n",
       "      <td>59.0</td>\n",
       "      <td>59.0</td>\n",
       "      <td>59.0</td>\n",
       "      <td>59.0</td>\n",
       "      <td>59.0</td>\n",
       "      <td>59.0</td>\n",
       "      <td>59.0</td>\n",
       "      <td>59.0</td>\n",
       "      <td>59.0</td>\n",
       "      <td>59.0</td>\n",
       "      <td>59.0</td>\n",
       "      <td>59.0</td>\n",
       "    </tr>\n",
       "    <tr>\n",
       "      <th>4571</th>\n",
       "      <td>127</td>\n",
       "      <td>593.0</td>\n",
       "      <td>11.0</td>\n",
       "      <td>11.0</td>\n",
       "      <td>11.0</td>\n",
       "      <td>5551</td>\n",
       "      <td>3859.0</td>\n",
       "      <td>11.0</td>\n",
       "      <td>11.0</td>\n",
       "      <td>11.0</td>\n",
       "      <td>11.0</td>\n",
       "      <td>11.0</td>\n",
       "      <td>11.0</td>\n",
       "      <td>11.0</td>\n",
       "      <td>11.0</td>\n",
       "      <td>11.0</td>\n",
       "      <td>11.0</td>\n",
       "      <td>11.0</td>\n",
       "      <td>11.0</td>\n",
       "      <td>11.0</td>\n",
       "    </tr>\n",
       "    <tr>\n",
       "      <th>16762</th>\n",
       "      <td>421</td>\n",
       "      <td>331.0</td>\n",
       "      <td>184.0</td>\n",
       "      <td>88.0</td>\n",
       "      <td>88.0</td>\n",
       "      <td>2139</td>\n",
       "      <td>1113.0</td>\n",
       "      <td>88.0</td>\n",
       "      <td>88.0</td>\n",
       "      <td>88.0</td>\n",
       "      <td>88.0</td>\n",
       "      <td>88.0</td>\n",
       "      <td>88.0</td>\n",
       "      <td>88.0</td>\n",
       "      <td>88.0</td>\n",
       "      <td>88.0</td>\n",
       "      <td>88.0</td>\n",
       "      <td>88.0</td>\n",
       "      <td>88.0</td>\n",
       "      <td>88.0</td>\n",
       "    </tr>\n",
       "    <tr>\n",
       "      <th>...</th>\n",
       "      <td>...</td>\n",
       "      <td>...</td>\n",
       "      <td>...</td>\n",
       "      <td>...</td>\n",
       "      <td>...</td>\n",
       "      <td>...</td>\n",
       "      <td>...</td>\n",
       "      <td>...</td>\n",
       "      <td>...</td>\n",
       "      <td>...</td>\n",
       "      <td>...</td>\n",
       "      <td>...</td>\n",
       "      <td>...</td>\n",
       "      <td>...</td>\n",
       "      <td>...</td>\n",
       "      <td>...</td>\n",
       "      <td>...</td>\n",
       "      <td>...</td>\n",
       "      <td>...</td>\n",
       "      <td>...</td>\n",
       "    </tr>\n",
       "    <tr>\n",
       "      <th>18639</th>\n",
       "      <td>483</td>\n",
       "      <td>337.0</td>\n",
       "      <td>22.0</td>\n",
       "      <td>22.0</td>\n",
       "      <td>22.0</td>\n",
       "      <td>3130</td>\n",
       "      <td>3300.0</td>\n",
       "      <td>22.0</td>\n",
       "      <td>22.0</td>\n",
       "      <td>22.0</td>\n",
       "      <td>22.0</td>\n",
       "      <td>22.0</td>\n",
       "      <td>22.0</td>\n",
       "      <td>22.0</td>\n",
       "      <td>22.0</td>\n",
       "      <td>22.0</td>\n",
       "      <td>22.0</td>\n",
       "      <td>22.0</td>\n",
       "      <td>22.0</td>\n",
       "      <td>22.0</td>\n",
       "    </tr>\n",
       "    <tr>\n",
       "      <th>9656</th>\n",
       "      <td>249</td>\n",
       "      <td>237.0</td>\n",
       "      <td>613.0</td>\n",
       "      <td>89.0</td>\n",
       "      <td>89.0</td>\n",
       "      <td>4321</td>\n",
       "      <td>4919.0</td>\n",
       "      <td>2665.0</td>\n",
       "      <td>89.0</td>\n",
       "      <td>89.0</td>\n",
       "      <td>89.0</td>\n",
       "      <td>89.0</td>\n",
       "      <td>89.0</td>\n",
       "      <td>89.0</td>\n",
       "      <td>89.0</td>\n",
       "      <td>89.0</td>\n",
       "      <td>89.0</td>\n",
       "      <td>89.0</td>\n",
       "      <td>89.0</td>\n",
       "      <td>89.0</td>\n",
       "    </tr>\n",
       "    <tr>\n",
       "      <th>4930</th>\n",
       "      <td>135</td>\n",
       "      <td>329.0</td>\n",
       "      <td>595.0</td>\n",
       "      <td>14.0</td>\n",
       "      <td>14.0</td>\n",
       "      <td>1980</td>\n",
       "      <td>14.0</td>\n",
       "      <td>14.0</td>\n",
       "      <td>14.0</td>\n",
       "      <td>14.0</td>\n",
       "      <td>14.0</td>\n",
       "      <td>14.0</td>\n",
       "      <td>14.0</td>\n",
       "      <td>14.0</td>\n",
       "      <td>14.0</td>\n",
       "      <td>14.0</td>\n",
       "      <td>14.0</td>\n",
       "      <td>14.0</td>\n",
       "      <td>14.0</td>\n",
       "      <td>14.0</td>\n",
       "    </tr>\n",
       "    <tr>\n",
       "      <th>14147</th>\n",
       "      <td>345</td>\n",
       "      <td>483.0</td>\n",
       "      <td>34.0</td>\n",
       "      <td>34.0</td>\n",
       "      <td>34.0</td>\n",
       "      <td>4235</td>\n",
       "      <td>34.0</td>\n",
       "      <td>34.0</td>\n",
       "      <td>34.0</td>\n",
       "      <td>34.0</td>\n",
       "      <td>34.0</td>\n",
       "      <td>34.0</td>\n",
       "      <td>34.0</td>\n",
       "      <td>34.0</td>\n",
       "      <td>34.0</td>\n",
       "      <td>34.0</td>\n",
       "      <td>34.0</td>\n",
       "      <td>34.0</td>\n",
       "      <td>34.0</td>\n",
       "      <td>34.0</td>\n",
       "    </tr>\n",
       "    <tr>\n",
       "      <th>561</th>\n",
       "      <td>16</td>\n",
       "      <td>641.0</td>\n",
       "      <td>93.0</td>\n",
       "      <td>93.0</td>\n",
       "      <td>93.0</td>\n",
       "      <td>3707</td>\n",
       "      <td>4170.0</td>\n",
       "      <td>93.0</td>\n",
       "      <td>93.0</td>\n",
       "      <td>93.0</td>\n",
       "      <td>93.0</td>\n",
       "      <td>93.0</td>\n",
       "      <td>93.0</td>\n",
       "      <td>93.0</td>\n",
       "      <td>93.0</td>\n",
       "      <td>93.0</td>\n",
       "      <td>93.0</td>\n",
       "      <td>93.0</td>\n",
       "      <td>93.0</td>\n",
       "      <td>93.0</td>\n",
       "    </tr>\n",
       "  </tbody>\n",
       "</table>\n",
       "<p>29178 rows × 20 columns</p>\n",
       "</div>"
      ],
      "text/plain": [
       "       anchor_1  anchor_2  anchor_3  anchor_4  anchor_5  target_1  target_2  \\\n",
       "32558       834      36.0      25.0      44.0      44.0      5309     194.0   \n",
       "17734       447     694.0     101.0     101.0     101.0      4965     101.0   \n",
       "2085         60     504.0      59.0      59.0      59.0      4332      59.0   \n",
       "4571        127     593.0      11.0      11.0      11.0      5551    3859.0   \n",
       "16762       421     331.0     184.0      88.0      88.0      2139    1113.0   \n",
       "...         ...       ...       ...       ...       ...       ...       ...   \n",
       "18639       483     337.0      22.0      22.0      22.0      3130    3300.0   \n",
       "9656        249     237.0     613.0      89.0      89.0      4321    4919.0   \n",
       "4930        135     329.0     595.0      14.0      14.0      1980      14.0   \n",
       "14147       345     483.0      34.0      34.0      34.0      4235      34.0   \n",
       "561          16     641.0      93.0      93.0      93.0      3707    4170.0   \n",
       "\n",
       "       target_3  target_4  target_5  target_6  target_7  target_8  target_9  \\\n",
       "32558     130.0      44.0      44.0      44.0      44.0      44.0      44.0   \n",
       "17734     101.0     101.0     101.0     101.0     101.0     101.0     101.0   \n",
       "2085       59.0      59.0      59.0      59.0      59.0      59.0      59.0   \n",
       "4571       11.0      11.0      11.0      11.0      11.0      11.0      11.0   \n",
       "16762      88.0      88.0      88.0      88.0      88.0      88.0      88.0   \n",
       "...         ...       ...       ...       ...       ...       ...       ...   \n",
       "18639      22.0      22.0      22.0      22.0      22.0      22.0      22.0   \n",
       "9656     2665.0      89.0      89.0      89.0      89.0      89.0      89.0   \n",
       "4930       14.0      14.0      14.0      14.0      14.0      14.0      14.0   \n",
       "14147      34.0      34.0      34.0      34.0      34.0      34.0      34.0   \n",
       "561        93.0      93.0      93.0      93.0      93.0      93.0      93.0   \n",
       "\n",
       "       target_10  target_11  target_12  target_13  target_14  target_15  \n",
       "32558       44.0       44.0       44.0       44.0       44.0       44.0  \n",
       "17734      101.0      101.0      101.0      101.0      101.0      101.0  \n",
       "2085        59.0       59.0       59.0       59.0       59.0       59.0  \n",
       "4571        11.0       11.0       11.0       11.0       11.0       11.0  \n",
       "16762       88.0       88.0       88.0       88.0       88.0       88.0  \n",
       "...          ...        ...        ...        ...        ...        ...  \n",
       "18639       22.0       22.0       22.0       22.0       22.0       22.0  \n",
       "9656        89.0       89.0       89.0       89.0       89.0       89.0  \n",
       "4930        14.0       14.0       14.0       14.0       14.0       14.0  \n",
       "14147       34.0       34.0       34.0       34.0       34.0       34.0  \n",
       "561         93.0       93.0       93.0       93.0       93.0       93.0  \n",
       "\n",
       "[29178 rows x 20 columns]"
      ]
     },
     "execution_count": 193,
     "metadata": {},
     "output_type": "execute_result"
    }
   ],
   "source": [
    "x_train"
   ]
  },
  {
   "cell_type": "code",
   "execution_count": 203,
   "id": "afaef959",
   "metadata": {},
   "outputs": [
    {
     "data": {
      "text/plain": [
       "<matplotlib.legend.Legend at 0x26a898d7c70>"
      ]
     },
     "execution_count": 203,
     "metadata": {},
     "output_type": "execute_result"
    },
    {
     "data": {
      "image/png": "[encoded data removed]",
      "text/plain": [
       "<Figure size 1080x288 with 3 Axes>"
      ]
     },
     "metadata": {
      "needs_background": "light"
     },
     "output_type": "display_data"
    }
   ],
   "source": [
    "fig, axes = plt.subplots(1, 3, figsize=(15, 4))\n",
    "# create 1,000 data points, evenly spaced between -3 and 3\n",
    "line = np.linspace(-3, 3, 7295).reshape(-1, 1)\n",
    "for n_neighbors, ax in zip([1, 5, 7], axes):\n",
    "    # make predictions using 1, 3, or 9 neighbors\n",
    "    reg = KNeighborsRegressor(n_neighbors=n_neighbors)\n",
    "    reg.fit(x_train, y_train)\n",
    "    ax.plot(line, reg.predict(x_test))\n",
    "    ax.plot(x_train, y_train, '^', c=mglearn.cm2(0),   markersize=8)\n",
    "    ax.plot(x_test, y_test, 'v', c=mglearn.cm2(1), markersize=8)\n",
    "    ax.set_title(\"{} neighbor(s)\\n train score: {:.2f} test score: {:.2f}\".format(n_neighbors,reg.score(x_train, y_train),reg.score(x_test, y_test)))\n",
    "    ax.set_xlabel(\"Feature\")\n",
    "    ax.set_ylabel(\"Target\")\n",
    "axes[0].legend([\"Model predictions\", \"Training data/target\",\"Test   data/target\"], loc=\"best\")"
   ]
  },
  {
   "cell_type": "markdown",
   "id": "5d07ac68",
   "metadata": {},
   "source": [
    "__Prediction Submission__\n",
    "* Will be used later for competition"
   ]
  }
 ],
 "metadata": {
  "kernelspec": {
   "display_name": "GPU_ACC",
   "language": "python",
   "name": "gpu_acc"
  },
  "language_info": {
   "codemirror_mode": {
    "name": "ipython",
    "version": 3
   },
   "file_extension": ".py",
   "mimetype": "text/x-python",
   "name": "python",
   "nbconvert_exporter": "python",
   "pygments_lexer": "ipython3",
   "version": "3.8.12"
  }
 },
 "nbformat": 4,
 "nbformat_minor": 5
}
