{
 "cells": [
  {
   "cell_type": "markdown",
   "id": "3f244056",
   "metadata": {},
   "source": [
    "__Imports__"
   ]
  },
  {
   "cell_type": "code",
   "execution_count": 1,
   "id": "ee4d1375",
   "metadata": {},
   "outputs": [],
   "source": [
    "import pandas as pd\n",
    "import numpy as np\n",
    "import seaborn as sns\n",
    "from collections import defaultdict\n",
    "import matplotlib.pyplot as plt"
   ]
  },
  {
   "cell_type": "markdown",
   "id": "77085394",
   "metadata": {},
   "source": [
    "__Read in Data__"
   ]
  },
  {
   "cell_type": "code",
   "execution_count": 2,
   "id": "b83cc2e9",
   "metadata": {},
   "outputs": [
    {
     "data": {
      "text/html": [
       "<div>\n",
       "<style scoped>\n",
       "    .dataframe tbody tr th:only-of-type {\n",
       "        vertical-align: middle;\n",
       "    }\n",
       "\n",
       "    .dataframe tbody tr th {\n",
       "        vertical-align: top;\n",
       "    }\n",
       "\n",
       "    .dataframe thead th {\n",
       "        text-align: right;\n",
       "    }\n",
       "</style>\n",
       "<table border=\"1\" class=\"dataframe\">\n",
       "  <thead>\n",
       "    <tr style=\"text-align: right;\">\n",
       "      <th></th>\n",
       "      <th>id</th>\n",
       "      <th>anchor</th>\n",
       "      <th>target</th>\n",
       "      <th>context</th>\n",
       "      <th>score</th>\n",
       "      <th>anchor_len</th>\n",
       "      <th>target_len</th>\n",
       "      <th>section</th>\n",
       "      <th>classes</th>\n",
       "      <th>context_desc</th>\n",
       "      <th>...</th>\n",
       "      <th>spacy_total</th>\n",
       "      <th>spacy_avg_at</th>\n",
       "      <th>spacy_avg_c</th>\n",
       "      <th>fuzzy_at_score</th>\n",
       "      <th>fuzzy_ac_score</th>\n",
       "      <th>fuzzy_tc_score</th>\n",
       "      <th>fuzzy_c_score</th>\n",
       "      <th>fuzzy_total</th>\n",
       "      <th>fuzzy_avg_at</th>\n",
       "      <th>fuzzy_avg_c</th>\n",
       "    </tr>\n",
       "  </thead>\n",
       "  <tbody>\n",
       "    <tr>\n",
       "      <th>0</th>\n",
       "      <td>37d61fd2272659b1</td>\n",
       "      <td>44</td>\n",
       "      <td>46</td>\n",
       "      <td>A47</td>\n",
       "      <td>0.50</td>\n",
       "      <td>1</td>\n",
       "      <td>2</td>\n",
       "      <td>36</td>\n",
       "      <td>47</td>\n",
       "      <td>10103</td>\n",
       "      <td>...</td>\n",
       "      <td>0.000000</td>\n",
       "      <td>NaN</td>\n",
       "      <td>NaN</td>\n",
       "      <td>53</td>\n",
       "      <td>6</td>\n",
       "      <td>13</td>\n",
       "      <td>19</td>\n",
       "      <td>72</td>\n",
       "      <td>0.736111</td>\n",
       "      <td>0.263889</td>\n",
       "    </tr>\n",
       "    <tr>\n",
       "      <th>1</th>\n",
       "      <td>7b9652b17b68b7a4</td>\n",
       "      <td>44</td>\n",
       "      <td>257</td>\n",
       "      <td>A47</td>\n",
       "      <td>0.75</td>\n",
       "      <td>1</td>\n",
       "      <td>2</td>\n",
       "      <td>36</td>\n",
       "      <td>47</td>\n",
       "      <td>10103</td>\n",
       "      <td>...</td>\n",
       "      <td>0.388094</td>\n",
       "      <td>0.0</td>\n",
       "      <td>1.0</td>\n",
       "      <td>67</td>\n",
       "      <td>6</td>\n",
       "      <td>8</td>\n",
       "      <td>14</td>\n",
       "      <td>81</td>\n",
       "      <td>0.827160</td>\n",
       "      <td>0.172840</td>\n",
       "    </tr>\n",
       "    <tr>\n",
       "      <th>2</th>\n",
       "      <td>36d72442aefd8232</td>\n",
       "      <td>44</td>\n",
       "      <td>276</td>\n",
       "      <td>A47</td>\n",
       "      <td>0.25</td>\n",
       "      <td>1</td>\n",
       "      <td>2</td>\n",
       "      <td>36</td>\n",
       "      <td>47</td>\n",
       "      <td>10103</td>\n",
       "      <td>...</td>\n",
       "      <td>0.085102</td>\n",
       "      <td>0.0</td>\n",
       "      <td>1.0</td>\n",
       "      <td>33</td>\n",
       "      <td>6</td>\n",
       "      <td>16</td>\n",
       "      <td>22</td>\n",
       "      <td>55</td>\n",
       "      <td>0.600000</td>\n",
       "      <td>0.400000</td>\n",
       "    </tr>\n",
       "    <tr>\n",
       "      <th>3</th>\n",
       "      <td>5296b0c19e1ce60e</td>\n",
       "      <td>44</td>\n",
       "      <td>8048</td>\n",
       "      <td>A47</td>\n",
       "      <td>0.50</td>\n",
       "      <td>1</td>\n",
       "      <td>2</td>\n",
       "      <td>36</td>\n",
       "      <td>47</td>\n",
       "      <td>10103</td>\n",
       "      <td>...</td>\n",
       "      <td>0.427271</td>\n",
       "      <td>0.0</td>\n",
       "      <td>1.0</td>\n",
       "      <td>0</td>\n",
       "      <td>6</td>\n",
       "      <td>14</td>\n",
       "      <td>20</td>\n",
       "      <td>20</td>\n",
       "      <td>0.000000</td>\n",
       "      <td>1.000000</td>\n",
       "    </tr>\n",
       "    <tr>\n",
       "      <th>4</th>\n",
       "      <td>54c1e3b9184cb5b6</td>\n",
       "      <td>44</td>\n",
       "      <td>9734</td>\n",
       "      <td>A47</td>\n",
       "      <td>0.00</td>\n",
       "      <td>1</td>\n",
       "      <td>2</td>\n",
       "      <td>36</td>\n",
       "      <td>47</td>\n",
       "      <td>10103</td>\n",
       "      <td>...</td>\n",
       "      <td>0.415349</td>\n",
       "      <td>0.0</td>\n",
       "      <td>1.0</td>\n",
       "      <td>12</td>\n",
       "      <td>6</td>\n",
       "      <td>20</td>\n",
       "      <td>26</td>\n",
       "      <td>38</td>\n",
       "      <td>0.315789</td>\n",
       "      <td>0.684211</td>\n",
       "    </tr>\n",
       "  </tbody>\n",
       "</table>\n",
       "<p>5 rows × 40 columns</p>\n",
       "</div>"
      ],
      "text/plain": [
       "                 id  anchor  target context  score  anchor_len  target_len  \\\n",
       "0  37d61fd2272659b1      44      46     A47   0.50           1           2   \n",
       "1  7b9652b17b68b7a4      44     257     A47   0.75           1           2   \n",
       "2  36d72442aefd8232      44     276     A47   0.25           1           2   \n",
       "3  5296b0c19e1ce60e      44    8048     A47   0.50           1           2   \n",
       "4  54c1e3b9184cb5b6      44    9734     A47   0.00           1           2   \n",
       "\n",
       "   section  classes  context_desc  ...  spacy_total  spacy_avg_at  \\\n",
       "0       36       47         10103  ...     0.000000           NaN   \n",
       "1       36       47         10103  ...     0.388094           0.0   \n",
       "2       36       47         10103  ...     0.085102           0.0   \n",
       "3       36       47         10103  ...     0.427271           0.0   \n",
       "4       36       47         10103  ...     0.415349           0.0   \n",
       "\n",
       "   spacy_avg_c  fuzzy_at_score  fuzzy_ac_score  fuzzy_tc_score  fuzzy_c_score  \\\n",
       "0          NaN              53               6              13             19   \n",
       "1          1.0              67               6               8             14   \n",
       "2          1.0              33               6              16             22   \n",
       "3          1.0               0               6              14             20   \n",
       "4          1.0              12               6              20             26   \n",
       "\n",
       "   fuzzy_total  fuzzy_avg_at  fuzzy_avg_c  \n",
       "0           72      0.736111     0.263889  \n",
       "1           81      0.827160     0.172840  \n",
       "2           55      0.600000     0.400000  \n",
       "3           20      0.000000     1.000000  \n",
       "4           38      0.315789     0.684211  \n",
       "\n",
       "[5 rows x 40 columns]"
      ]
     },
     "execution_count": 2,
     "metadata": {},
     "output_type": "execute_result"
    }
   ],
   "source": [
    "df = pd.read_csv(\"final_data_file_with_encoding.csv\")\n",
    "df.head()"
   ]
  },
  {
   "cell_type": "markdown",
   "id": "3d052cc8",
   "metadata": {},
   "source": [
    "__Fill in Null values__"
   ]
  },
  {
   "cell_type": "code",
   "execution_count": 3,
   "id": "22c5c114",
   "metadata": {},
   "outputs": [],
   "source": [
    "df.fillna(0,inplace=True)"
   ]
  },
  {
   "cell_type": "markdown",
   "id": "17376a38",
   "metadata": {},
   "source": [
    "__Correlation Check Among features only__"
   ]
  },
  {
   "cell_type": "code",
   "execution_count": 4,
   "id": "79d1a427",
   "metadata": {},
   "outputs": [
    {
     "name": "stderr",
     "output_type": "stream",
     "text": [
      "/var/folders/13/5qrysg6938s14gxnpjdn6b540000gn/T/ipykernel_12737/3226852571.py:5: DeprecationWarning: `np.bool` is a deprecated alias for the builtin `bool`. To silence this warning, use `bool` by itself. Doing this will not modify any behavior and is safe. If you specifically wanted the numpy scalar type, use `np.bool_` here.\n",
      "Deprecated in NumPy 1.20; for more details and guidance: https://numpy.org/devdocs/release/1.20.0-notes.html#deprecations\n",
      "  upper = corr_matrix.where(np.triu(np.ones(corr_matrix.shape), k=1).astype(np.bool))\n"
     ]
    }
   ],
   "source": [
    "features = df.drop('score',axis=1)\n",
    "# Create correlation matrix\n",
    "corr_matrix = features.corr().abs()\n",
    "# Select upper triangle of correlation matrix\n",
    "upper = corr_matrix.where(np.triu(np.ones(corr_matrix.shape), k=1).astype(np.bool))\n",
    "\n",
    "# Find features with correlation greater than 0.95\n",
    "to_drop = [column for column in upper.columns if any(upper[column] > 0.8)]\n",
    "\n",
    "# Drop features \n",
    "features.drop(to_drop, axis=1, inplace=True)"
   ]
  },
  {
   "cell_type": "code",
   "execution_count": 5,
   "id": "7df5db21",
   "metadata": {},
   "outputs": [],
   "source": [
    "df_2 = features\n",
    "df_2['score'] = df['score']"
   ]
  },
  {
   "cell_type": "code",
   "execution_count": 6,
   "id": "e75efbd5",
   "metadata": {},
   "outputs": [
    {
     "data": {
      "text/plain": [
       "<AxesSubplot:>"
      ]
     },
     "execution_count": 6,
     "metadata": {},
     "output_type": "execute_result"
    },
    {
     "data": {
      "image/png": "[encoded data removed]",
      "text/plain": [
       "<Figure size 1440x1440 with 2 Axes>"
      ]
     },
     "metadata": {
      "needs_background": "light"
     },
     "output_type": "display_data"
    }
   ],
   "source": [
    "correlation_matrix = df_2.corr(method='spearman')\n",
    "mask = np.triu(np.ones_like(correlation_matrix, dtype=bool))\n",
    "f, ax = plt.subplots(figsize=(20, 20))\n",
    "cmap = sns.diverging_palette(230, 20, as_cmap=True)\n",
    "sns.heatmap(correlation_matrix, mask=mask, cmap=cmap, vmax=.5, center=0, square=True, linewidths=.5, cbar_kws={\"shrink\": .5})\n"
   ]
  },
  {
   "cell_type": "markdown",
   "id": "506ea0c8",
   "metadata": {},
   "source": [
    "__Get the features that have a positive correlation with score__"
   ]
  },
  {
   "cell_type": "code",
   "execution_count": 7,
   "id": "4d168d23",
   "metadata": {},
   "outputs": [
    {
     "data": {
      "text/plain": [
       "anchor            0.012513\n",
       "target            0.005400\n",
       "anchor_len        0.043443\n",
       "target_len        0.179157\n",
       "section           0.012529\n",
       "num_target        0.047326\n",
       "score_at_sent     0.267441\n",
       "score_ac_sent     0.012725\n",
       "score_tc_sent     0.046938\n",
       "bert_at           0.353972\n",
       "bert_ac           0.008446\n",
       "bert_avg_at       0.177569\n",
       "spacy_ac          0.017530\n",
       "spacy_tc          0.054077\n",
       "spacy_avg_at      0.246161\n",
       "fuzzy_at_score    0.403842\n",
       "fuzzy_ac_score    0.010377\n",
       "fuzzy_tc_score    0.069892\n",
       "fuzzy_avg_at      0.294686\n",
       "Name: score, dtype: float64"
      ]
     },
     "execution_count": 7,
     "metadata": {},
     "output_type": "execute_result"
    }
   ],
   "source": [
    "indecies_pos = np.where(correlation_matrix['score'] > 0)\n",
    "improved_features_pos = correlation_matrix.iloc[indecies_pos].drop('score')\n",
    "improved_features_pos['score']"
   ]
  },
  {
   "cell_type": "markdown",
   "id": "7683ef2b",
   "metadata": {},
   "source": [
    "__Features to be used in model__"
   ]
  },
  {
   "cell_type": "code",
   "execution_count": 8,
   "id": "5d789e71",
   "metadata": {},
   "outputs": [],
   "source": [
    "feats = list(improved_features_pos.index)"
   ]
  },
  {
   "cell_type": "markdown",
   "id": "bf65f81b",
   "metadata": {},
   "source": [
    "### Model Evaluation"
   ]
  },
  {
   "cell_type": "code",
   "execution_count": 9,
   "id": "0e575f2a",
   "metadata": {},
   "outputs": [],
   "source": [
    "x = df[feats].values\n",
    "y = df['score'].values"
   ]
  },
  {
   "cell_type": "markdown",
   "id": "ba586157",
   "metadata": {},
   "source": [
    "__Random Forest__"
   ]
  },
  {
   "cell_type": "code",
   "execution_count": null,
   "id": "ec03ace7",
   "metadata": {
    "scrolled": false
   },
   "outputs": [
    {
     "name": "stdout",
     "output_type": "stream",
     "text": [
      "KFold(n_splits=5, random_state=141, shuffle=True)\n",
      "TRAIN: [    0     2     3 ... 36470 36471 36472] TEST: [    1     4     9 ... 36449 36453 36457]\n",
      "Mean Square Error: 0.04332968134597487 \n",
      "Root Mean Squared Error: 0.2081578279718898 \n",
      "Mean Absolute Error: 0.15871597383981748 \n",
      "R-Squared: 0.3469226373696688 \n",
      "TRAIN: [    1     2     3 ... 36470 36471 36472] TEST: [    0     6    10 ... 36455 36456 36467]\n",
      "Mean Square Error: 0.0434745273703186 \n",
      "Root Mean Squared Error: 0.20850546124818553 \n",
      "Mean Absolute Error: 0.15964243865029965 \n",
      "R-Squared: 0.35877208883904155 \n",
      "TRAIN: [    0     1     2 ... 36468 36471 36472] TEST: [    5    12    23 ... 36464 36469 36470]\n",
      "Mean Square Error: 0.04374850360668626 \n",
      "Root Mean Squared Error: 0.20916142953873273 \n",
      "Mean Absolute Error: 0.16070461523204702 \n",
      "R-Squared: 0.33720499704293905 \n",
      "TRAIN: [    0     1     3 ... 36469 36470 36472] TEST: [    2     7     8 ... 36465 36466 36471]\n",
      "Mean Square Error: 0.04400460535992982 \n",
      "Root Mean Squared Error: 0.20977274694280432 \n",
      "Mean Absolute Error: 0.16211050193945112 \n",
      "R-Squared: 0.3274363132542043 \n",
      "TRAIN: [    0     1     2 ... 36469 36470 36471] TEST: [    3    24    27 ... 36462 36468 36472]\n"
     ]
    }
   ],
   "source": [
    "from sklearn.model_selection import KFold\n",
    "kf = KFold(n_splits=5,shuffle=True,random_state=141)\n",
    "kf.get_n_splits(x)\n",
    "print(kf)\n",
    "mse_arr = []\n",
    "mape_arr = []\n",
    "rmse_arr = []\n",
    "mae_arr = []\n",
    "for train_index, test_index in kf.split(x):\n",
    "    print(\"TRAIN:\", train_index, \"TEST:\", test_index)\n",
    "    x_train, x_test = x[train_index], x[test_index]\n",
    "    y_train, y_test = y[train_index], y[test_index]\n",
    "    from sklearn.ensemble import RandomForestRegressor\n",
    "    clf = RandomForestRegressor(random_state=141,n_estimators = 1000,\n",
    "                                min_samples_split= 10,\n",
    "                                min_samples_leaf= 2,\n",
    "                                max_features= 'sqrt',\n",
    "                                max_depth= 10,\n",
    "                                bootstrap= True)\n",
    "    clf.fit(x_train,y_train)\n",
    "    from sklearn.metrics import r2_score, mean_absolute_error, mean_squared_error\n",
    "    y_pred = clf.predict(x_test)\n",
    "    #y_pred = [x_round(i) for i in y_pred]\n",
    "    mse = mean_squared_error(y_test, y_pred)\n",
    "    mape = r2_score(y_test,y_pred)\n",
    "    rmse = mean_squared_error(y_test, y_pred,squared=False)\n",
    "    mae = mean_absolute_error(y_test,y_pred)\n",
    "    print(\"Mean Square Error: {} \\nRoot Mean Squared Error: {} \\nMean Absolute Error: {} \\nR-Squared: {} \".format(mse,rmse,mae,mape))\n",
    "    mse_arr.append(mse)\n",
    "    mape_arr.append(mape)\n",
    "    rmse_arr.append(rmse)\n",
    "    mae_arr.append(mae)\n",
    "\n",
    "\n"
   ]
  },
  {
   "cell_type": "code",
   "execution_count": null,
   "id": "fb61a535",
   "metadata": {},
   "outputs": [],
   "source": [
    "print(\"Mean Square Error: {} \\nRoot Mean Squared Error: {} \\nMean Absolute Error: {} \\nR-Squared: {} \".format(np.mean(mse_arr),np.mean(rmse_arr),np.mean(mae_arr), np.mean(mape_arr)))\n",
    "                                                           "
   ]
  },
  {
   "cell_type": "code",
   "execution_count": null,
   "id": "bf5754f7",
   "metadata": {},
   "outputs": [],
   "source": [
    "import shap\n",
    "shap_values = shap.TreeExplainer(clf).shap_values(x_train[:100])\n",
    "shap.summary_plot(shap_values, x_train[:100], plot_type=\"bar\",feature_names=feats)"
   ]
  },
  {
   "cell_type": "code",
   "execution_count": null,
   "id": "cef0c680",
   "metadata": {},
   "outputs": [],
   "source": [
    "shap.summary_plot(shap_values, x_train[:100],feature_names=feats)"
   ]
  },
  {
   "cell_type": "code",
   "execution_count": null,
   "id": "2caf735f",
   "metadata": {},
   "outputs": [],
   "source": [
    "from sklearn.tree import export_graphviz\n",
    "# Export as dot file\n",
    "export_graphviz(clf.estimators_[1], out_file='tree.dot', \n",
    "                feature_names = feats,\n",
    "                max_depth = 3,\n",
    "                rounded = True, proportion = False, \n",
    "                precision = 2, filled = True)\n",
    "\n",
    "# Convert to png using system command (requires Graphviz)\n",
    "from subprocess import call\n",
    "call(['dot', '-Tpng', 'tree.dot', '-o', 'tree.png', '-Gdpi=600'])\n",
    "\n",
    "# Display in jupyter notebook\n",
    "from IPython.display import Image\n",
    "Image(filename = 'tree.png')"
   ]
  },
  {
   "cell_type": "markdown",
   "id": "3d5de421",
   "metadata": {},
   "source": [
    "__CatBoostRegressor__"
   ]
  },
  {
   "cell_type": "code",
   "execution_count": null,
   "id": "fb44dacf",
   "metadata": {},
   "outputs": [],
   "source": [
    "from sklearn.model_selection import KFold\n",
    "kf = KFold(n_splits=5,shuffle=True,random_state=141)\n",
    "kf.get_n_splits(x)\n",
    "print(kf)\n",
    "mse_arr = []\n",
    "mape_arr = []\n",
    "rmse_arr = []\n",
    "mae_arr = []\n",
    "for train_index, test_index in kf.split(x):\n",
    "    print(\"TRAIN:\", train_index, \"TEST:\", test_index)\n",
    "    x_train, x_test = x[train_index], x[test_index]\n",
    "    y_train, y_test = y[train_index], y[test_index]\n",
    "    from catboost import CatBoostRegressor\n",
    "    cat_base = CatBoostRegressor(\n",
    "        eval_metric='MAE'\n",
    "    )\n",
    "    cbf = cat_base.fit(x_train, y_train, silent=True)\n",
    "    from sklearn.metrics import r2_score, mean_absolute_error, mean_squared_error\n",
    "    y_pred = cbf.predict(x_test)\n",
    "    mse = mean_squared_error(y_test, y_pred)\n",
    "    mape = r2_score(y_test,y_pred)\n",
    "    rmse = mean_squared_error(y_test, y_pred,squared=False)\n",
    "    mae = mean_absolute_error(y_test,y_pred)\n",
    "    mse_arr.append(mse)\n",
    "    mape_arr.append(mape)\n",
    "    rmse_arr.append(rmse)\n",
    "    mae_arr.append(mae)\n",
    "    print(\"Mean Square Error: {} \\nRoot Mean Squared Error: {} \\nMean Absolute Error: {} \\nR-Squared: {} \".format(mse,rmse,mae,mape))"
   ]
  },
  {
   "cell_type": "code",
   "execution_count": null,
   "id": "c2f3c65e",
   "metadata": {},
   "outputs": [],
   "source": [
    "print(\"Mean Square Error: {} \\nRoot Mean Squared Error: {} \\nMean Absolute Error: {} \\nR-Squared: {} \".format(np.mean(mse_arr),np.mean(rmse_arr),np.mean(mae_arr), np.mean(mape_arr)))\n",
    "                                                           "
   ]
  },
  {
   "cell_type": "code",
   "execution_count": null,
   "id": "9175dd78",
   "metadata": {},
   "outputs": [],
   "source": [
    "import shap\n",
    "shap_values = shap.TreeExplainer(cbf).shap_values(x_train[:100])\n",
    "shap.summary_plot(shap_values, x_train[:100], plot_type=\"bar\",feature_names=feats)"
   ]
  },
  {
   "cell_type": "code",
   "execution_count": null,
   "id": "eede4076",
   "metadata": {},
   "outputs": [],
   "source": [
    "shap.summary_plot(shap_values, x_train[:100],feature_names=feats)"
   ]
  },
  {
   "cell_type": "code",
   "execution_count": null,
   "id": "27161cef",
   "metadata": {},
   "outputs": [],
   "source": [
    "from xgboost import plot_tree"
   ]
  },
  {
   "cell_type": "code",
   "execution_count": null,
   "id": "943da342",
   "metadata": {},
   "outputs": [],
   "source": [
    "import matplotlib.pyplot as plt\n",
    "import catboost\n",
    "from catboost import CatBoostRegressor, Pool\n",
    "pool = Pool(x_train, y_train,feature_names=feats)"
   ]
  },
  {
   "cell_type": "code",
   "execution_count": null,
   "id": "9e43edb7",
   "metadata": {},
   "outputs": [],
   "source": [
    "cbf.plot_tree(tree_idx=0,pool=pool)"
   ]
  },
  {
   "cell_type": "code",
   "execution_count": null,
   "id": "f9a9675a",
   "metadata": {},
   "outputs": [],
   "source": []
  }
 ],
 "metadata": {
  "kernelspec": {
   "display_name": "Python 3 (ipykernel)",
   "language": "python",
   "name": "python3"
  },
  "language_info": {
   "codemirror_mode": {
    "name": "ipython",
    "version": 3
   },
   "file_extension": ".py",
   "mimetype": "text/x-python",
   "name": "python",
   "nbconvert_exporter": "python",
   "pygments_lexer": "ipython3",
   "version": "3.8.13"
  }
 },
 "nbformat": 4,
 "nbformat_minor": 5
}
