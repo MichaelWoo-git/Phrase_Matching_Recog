{
 "cells": [
  {
   "cell_type": "markdown",
   "id": "86232535",
   "metadata": {},
   "source": [
    "## Todo 04/12/2022\n",
    "\n",
    "1. Need to figure out a way to account for words that have never been seen before\n",
    "    * So we need to figure out a way to bin words that are similar to each other\n",
    "    * here is what we can do: https://www.analyticsvidhya.com/blog/2020/05/what-is-tokenization-nlp/\n",
    "    * https://neptune.ai/blog/wasserstein-distance-and-textual-similarity\n",
    "    * Remove stop words (preprocessing)\n",
    "    * "
   ]
  },
  {
   "cell_type": "markdown",
   "id": "ea4d9b4a",
   "metadata": {},
   "source": [
    "__Imports__"
   ]
  },
  {
   "cell_type": "code",
   "execution_count": 230,
   "id": "3af5ed51",
   "metadata": {},
   "outputs": [],
   "source": [
    "import pandas as pd\n",
    "import numpy as np\n",
    "from sklearn.preprocessing import LabelEncoder\n",
    "from sklearn.model_selection import train_test_split\n",
    "import nltk\n",
    "from nltk.tokenize import word_tokenize\n",
    "#nltk.download()"
   ]
  },
  {
   "cell_type": "markdown",
   "id": "b6b0ce0b",
   "metadata": {},
   "source": [
    "__Read in Data__"
   ]
  },
  {
   "cell_type": "code",
   "execution_count": 231,
   "id": "eca625d9",
   "metadata": {
    "scrolled": true
   },
   "outputs": [
    {
     "data": {
      "text/html": [
       "<div>\n",
       "<style scoped>\n",
       "    .dataframe tbody tr th:only-of-type {\n",
       "        vertical-align: middle;\n",
       "    }\n",
       "\n",
       "    .dataframe tbody tr th {\n",
       "        vertical-align: top;\n",
       "    }\n",
       "\n",
       "    .dataframe thead th {\n",
       "        text-align: right;\n",
       "    }\n",
       "</style>\n",
       "<table border=\"1\" class=\"dataframe\">\n",
       "  <thead>\n",
       "    <tr style=\"text-align: right;\">\n",
       "      <th></th>\n",
       "      <th>id</th>\n",
       "      <th>anchor</th>\n",
       "      <th>target</th>\n",
       "      <th>context</th>\n",
       "      <th>score</th>\n",
       "    </tr>\n",
       "  </thead>\n",
       "  <tbody>\n",
       "    <tr>\n",
       "      <th>0</th>\n",
       "      <td>37d61fd2272659b1</td>\n",
       "      <td>abatement</td>\n",
       "      <td>abatement of pollution</td>\n",
       "      <td>A47</td>\n",
       "      <td>0.50</td>\n",
       "    </tr>\n",
       "    <tr>\n",
       "      <th>1</th>\n",
       "      <td>7b9652b17b68b7a4</td>\n",
       "      <td>abatement</td>\n",
       "      <td>act of abating</td>\n",
       "      <td>A47</td>\n",
       "      <td>0.75</td>\n",
       "    </tr>\n",
       "    <tr>\n",
       "      <th>2</th>\n",
       "      <td>36d72442aefd8232</td>\n",
       "      <td>abatement</td>\n",
       "      <td>active catalyst</td>\n",
       "      <td>A47</td>\n",
       "      <td>0.25</td>\n",
       "    </tr>\n",
       "    <tr>\n",
       "      <th>3</th>\n",
       "      <td>5296b0c19e1ce60e</td>\n",
       "      <td>abatement</td>\n",
       "      <td>eliminating process</td>\n",
       "      <td>A47</td>\n",
       "      <td>0.50</td>\n",
       "    </tr>\n",
       "    <tr>\n",
       "      <th>4</th>\n",
       "      <td>54c1e3b9184cb5b6</td>\n",
       "      <td>abatement</td>\n",
       "      <td>forest region</td>\n",
       "      <td>A47</td>\n",
       "      <td>0.00</td>\n",
       "    </tr>\n",
       "  </tbody>\n",
       "</table>\n",
       "</div>"
      ],
      "text/plain": [
       "                 id     anchor                  target context  score\n",
       "0  37d61fd2272659b1  abatement  abatement of pollution     A47   0.50\n",
       "1  7b9652b17b68b7a4  abatement          act of abating     A47   0.75\n",
       "2  36d72442aefd8232  abatement         active catalyst     A47   0.25\n",
       "3  5296b0c19e1ce60e  abatement     eliminating process     A47   0.50\n",
       "4  54c1e3b9184cb5b6  abatement           forest region     A47   0.00"
      ]
     },
     "execution_count": 231,
     "metadata": {},
     "output_type": "execute_result"
    }
   ],
   "source": [
    "df_1 = pd.read_csv(\"data/train.csv\")\n",
    "df_1.head()"
   ]
  },
  {
   "cell_type": "code",
   "execution_count": 232,
   "id": "4378a096",
   "metadata": {
    "scrolled": true
   },
   "outputs": [
    {
     "data": {
      "text/html": [
       "<div>\n",
       "<style scoped>\n",
       "    .dataframe tbody tr th:only-of-type {\n",
       "        vertical-align: middle;\n",
       "    }\n",
       "\n",
       "    .dataframe tbody tr th {\n",
       "        vertical-align: top;\n",
       "    }\n",
       "\n",
       "    .dataframe thead th {\n",
       "        text-align: right;\n",
       "    }\n",
       "</style>\n",
       "<table border=\"1\" class=\"dataframe\">\n",
       "  <thead>\n",
       "    <tr style=\"text-align: right;\">\n",
       "      <th></th>\n",
       "      <th>score</th>\n",
       "    </tr>\n",
       "  </thead>\n",
       "  <tbody>\n",
       "    <tr>\n",
       "      <th>count</th>\n",
       "      <td>36473.000000</td>\n",
       "    </tr>\n",
       "    <tr>\n",
       "      <th>mean</th>\n",
       "      <td>0.362062</td>\n",
       "    </tr>\n",
       "    <tr>\n",
       "      <th>std</th>\n",
       "      <td>0.258335</td>\n",
       "    </tr>\n",
       "    <tr>\n",
       "      <th>min</th>\n",
       "      <td>0.000000</td>\n",
       "    </tr>\n",
       "    <tr>\n",
       "      <th>25%</th>\n",
       "      <td>0.250000</td>\n",
       "    </tr>\n",
       "    <tr>\n",
       "      <th>50%</th>\n",
       "      <td>0.250000</td>\n",
       "    </tr>\n",
       "    <tr>\n",
       "      <th>75%</th>\n",
       "      <td>0.500000</td>\n",
       "    </tr>\n",
       "    <tr>\n",
       "      <th>max</th>\n",
       "      <td>1.000000</td>\n",
       "    </tr>\n",
       "  </tbody>\n",
       "</table>\n",
       "</div>"
      ],
      "text/plain": [
       "              score\n",
       "count  36473.000000\n",
       "mean       0.362062\n",
       "std        0.258335\n",
       "min        0.000000\n",
       "25%        0.250000\n",
       "50%        0.250000\n",
       "75%        0.500000\n",
       "max        1.000000"
      ]
     },
     "execution_count": 232,
     "metadata": {},
     "output_type": "execute_result"
    }
   ],
   "source": [
    "df_1.describe()"
   ]
  },
  {
   "cell_type": "code",
   "execution_count": 233,
   "id": "42f5c48c",
   "metadata": {},
   "outputs": [
    {
     "data": {
      "text/plain": [
       "id         False\n",
       "anchor     False\n",
       "target     False\n",
       "context    False\n",
       "score      False\n",
       "dtype: bool"
      ]
     },
     "execution_count": 233,
     "metadata": {},
     "output_type": "execute_result"
    }
   ],
   "source": [
    "df_1.isnull().any()"
   ]
  },
  {
   "cell_type": "markdown",
   "id": "4c7cbe60",
   "metadata": {},
   "source": [
    "__This is the amount of words in each row with respect to the column__\n",
    "* Must be applied to anchor and target"
   ]
  },
  {
   "cell_type": "markdown",
   "id": "048d6522",
   "metadata": {},
   "source": [
    "These are the unique amount of words in __anchor__ column"
   ]
  },
  {
   "cell_type": "code",
   "execution_count": 234,
   "id": "cd2e5c25",
   "metadata": {},
   "outputs": [
    {
     "data": {
      "text/plain": [
       "array([1, 2, 3, 4, 5], dtype=int64)"
      ]
     },
     "execution_count": 234,
     "metadata": {},
     "output_type": "execute_result"
    }
   ],
   "source": [
    "np.unique(np.array(df_1['anchor'].apply(lambda x : len(x.split()))))"
   ]
  },
  {
   "cell_type": "markdown",
   "id": "6dce49f8",
   "metadata": {},
   "source": [
    "These are the unique amount of words in __target__ column"
   ]
  },
  {
   "cell_type": "code",
   "execution_count": 235,
   "id": "6d8b2611",
   "metadata": {},
   "outputs": [
    {
     "data": {
      "text/plain": [
       "array([ 1,  2,  3,  4,  5,  6,  7,  8,  9, 10, 11, 12, 13, 15],\n",
       "      dtype=int64)"
      ]
     },
     "execution_count": 235,
     "metadata": {},
     "output_type": "execute_result"
    }
   ],
   "source": [
    "np.unique(np.array(df_1['target'].apply(lambda x : len(x.split()))))"
   ]
  },
  {
   "cell_type": "markdown",
   "id": "5192cb1b",
   "metadata": {},
   "source": [
    "We can probably drop __context__ because its a label"
   ]
  },
  {
   "cell_type": "code",
   "execution_count": 236,
   "id": "d6f2bb70",
   "metadata": {
    "scrolled": true
   },
   "outputs": [
    {
     "data": {
      "text/plain": [
       "array([1], dtype=int64)"
      ]
     },
     "execution_count": 236,
     "metadata": {},
     "output_type": "execute_result"
    }
   ],
   "source": [
    "np.unique(np.array(df_1['context'].apply(lambda x : len(x.split()))))"
   ]
  },
  {
   "cell_type": "markdown",
   "id": "e59c8e8a",
   "metadata": {},
   "source": [
    "__Tokenization__"
   ]
  },
  {
   "cell_type": "code",
   "execution_count": 237,
   "id": "3466058d",
   "metadata": {},
   "outputs": [],
   "source": [
    "from nltk.tokenize import word_tokenize\n",
    "df_1['target'] = df_1['target'].apply(lambda x : word_tokenize(x))\n",
    "df_1['anchor'] = df_1['anchor'].apply(lambda x : word_tokenize(x))"
   ]
  },
  {
   "cell_type": "code",
   "execution_count": 238,
   "id": "2424d836",
   "metadata": {},
   "outputs": [
    {
     "data": {
      "text/html": [
       "<div>\n",
       "<style scoped>\n",
       "    .dataframe tbody tr th:only-of-type {\n",
       "        vertical-align: middle;\n",
       "    }\n",
       "\n",
       "    .dataframe tbody tr th {\n",
       "        vertical-align: top;\n",
       "    }\n",
       "\n",
       "    .dataframe thead th {\n",
       "        text-align: right;\n",
       "    }\n",
       "</style>\n",
       "<table border=\"1\" class=\"dataframe\">\n",
       "  <thead>\n",
       "    <tr style=\"text-align: right;\">\n",
       "      <th></th>\n",
       "      <th>id</th>\n",
       "      <th>anchor</th>\n",
       "      <th>target</th>\n",
       "      <th>context</th>\n",
       "      <th>score</th>\n",
       "    </tr>\n",
       "  </thead>\n",
       "  <tbody>\n",
       "    <tr>\n",
       "      <th>0</th>\n",
       "      <td>37d61fd2272659b1</td>\n",
       "      <td>[abatement]</td>\n",
       "      <td>[abatement, of, pollution]</td>\n",
       "      <td>A47</td>\n",
       "      <td>0.50</td>\n",
       "    </tr>\n",
       "    <tr>\n",
       "      <th>1</th>\n",
       "      <td>7b9652b17b68b7a4</td>\n",
       "      <td>[abatement]</td>\n",
       "      <td>[act, of, abating]</td>\n",
       "      <td>A47</td>\n",
       "      <td>0.75</td>\n",
       "    </tr>\n",
       "    <tr>\n",
       "      <th>2</th>\n",
       "      <td>36d72442aefd8232</td>\n",
       "      <td>[abatement]</td>\n",
       "      <td>[active, catalyst]</td>\n",
       "      <td>A47</td>\n",
       "      <td>0.25</td>\n",
       "    </tr>\n",
       "    <tr>\n",
       "      <th>3</th>\n",
       "      <td>5296b0c19e1ce60e</td>\n",
       "      <td>[abatement]</td>\n",
       "      <td>[eliminating, process]</td>\n",
       "      <td>A47</td>\n",
       "      <td>0.50</td>\n",
       "    </tr>\n",
       "    <tr>\n",
       "      <th>4</th>\n",
       "      <td>54c1e3b9184cb5b6</td>\n",
       "      <td>[abatement]</td>\n",
       "      <td>[forest, region]</td>\n",
       "      <td>A47</td>\n",
       "      <td>0.00</td>\n",
       "    </tr>\n",
       "  </tbody>\n",
       "</table>\n",
       "</div>"
      ],
      "text/plain": [
       "                 id       anchor                      target context  score\n",
       "0  37d61fd2272659b1  [abatement]  [abatement, of, pollution]     A47   0.50\n",
       "1  7b9652b17b68b7a4  [abatement]          [act, of, abating]     A47   0.75\n",
       "2  36d72442aefd8232  [abatement]          [active, catalyst]     A47   0.25\n",
       "3  5296b0c19e1ce60e  [abatement]      [eliminating, process]     A47   0.50\n",
       "4  54c1e3b9184cb5b6  [abatement]            [forest, region]     A47   0.00"
      ]
     },
     "execution_count": 238,
     "metadata": {},
     "output_type": "execute_result"
    }
   ],
   "source": [
    "df_1.head()"
   ]
  },
  {
   "cell_type": "markdown",
   "id": "99099c08",
   "metadata": {},
   "source": [
    "__Stopwords Removal__"
   ]
  },
  {
   "cell_type": "code",
   "execution_count": 239,
   "id": "65e47800",
   "metadata": {},
   "outputs": [],
   "source": [
    "from nltk.corpus import stopwords\n",
    "stop_words = set(stopwords.words('english'))\n",
    "df_1['target'] = df_1['target'].apply(lambda x : [w for w in x if not w in stop_words])\n",
    "df_1['anchor'] = df_1['anchor'].apply(lambda x : [w for w in x if not w in stop_words])"
   ]
  },
  {
   "cell_type": "code",
   "execution_count": 240,
   "id": "756f8d9e",
   "metadata": {},
   "outputs": [
    {
     "data": {
      "text/html": [
       "<div>\n",
       "<style scoped>\n",
       "    .dataframe tbody tr th:only-of-type {\n",
       "        vertical-align: middle;\n",
       "    }\n",
       "\n",
       "    .dataframe tbody tr th {\n",
       "        vertical-align: top;\n",
       "    }\n",
       "\n",
       "    .dataframe thead th {\n",
       "        text-align: right;\n",
       "    }\n",
       "</style>\n",
       "<table border=\"1\" class=\"dataframe\">\n",
       "  <thead>\n",
       "    <tr style=\"text-align: right;\">\n",
       "      <th></th>\n",
       "      <th>id</th>\n",
       "      <th>anchor</th>\n",
       "      <th>target</th>\n",
       "      <th>context</th>\n",
       "      <th>score</th>\n",
       "    </tr>\n",
       "  </thead>\n",
       "  <tbody>\n",
       "    <tr>\n",
       "      <th>0</th>\n",
       "      <td>37d61fd2272659b1</td>\n",
       "      <td>[abatement]</td>\n",
       "      <td>[abatement, pollution]</td>\n",
       "      <td>A47</td>\n",
       "      <td>0.50</td>\n",
       "    </tr>\n",
       "    <tr>\n",
       "      <th>1</th>\n",
       "      <td>7b9652b17b68b7a4</td>\n",
       "      <td>[abatement]</td>\n",
       "      <td>[act, abating]</td>\n",
       "      <td>A47</td>\n",
       "      <td>0.75</td>\n",
       "    </tr>\n",
       "    <tr>\n",
       "      <th>2</th>\n",
       "      <td>36d72442aefd8232</td>\n",
       "      <td>[abatement]</td>\n",
       "      <td>[active, catalyst]</td>\n",
       "      <td>A47</td>\n",
       "      <td>0.25</td>\n",
       "    </tr>\n",
       "    <tr>\n",
       "      <th>3</th>\n",
       "      <td>5296b0c19e1ce60e</td>\n",
       "      <td>[abatement]</td>\n",
       "      <td>[eliminating, process]</td>\n",
       "      <td>A47</td>\n",
       "      <td>0.50</td>\n",
       "    </tr>\n",
       "    <tr>\n",
       "      <th>4</th>\n",
       "      <td>54c1e3b9184cb5b6</td>\n",
       "      <td>[abatement]</td>\n",
       "      <td>[forest, region]</td>\n",
       "      <td>A47</td>\n",
       "      <td>0.00</td>\n",
       "    </tr>\n",
       "  </tbody>\n",
       "</table>\n",
       "</div>"
      ],
      "text/plain": [
       "                 id       anchor                  target context  score\n",
       "0  37d61fd2272659b1  [abatement]  [abatement, pollution]     A47   0.50\n",
       "1  7b9652b17b68b7a4  [abatement]          [act, abating]     A47   0.75\n",
       "2  36d72442aefd8232  [abatement]      [active, catalyst]     A47   0.25\n",
       "3  5296b0c19e1ce60e  [abatement]  [eliminating, process]     A47   0.50\n",
       "4  54c1e3b9184cb5b6  [abatement]        [forest, region]     A47   0.00"
      ]
     },
     "execution_count": 240,
     "metadata": {},
     "output_type": "execute_result"
    }
   ],
   "source": [
    "df_1.head()"
   ]
  },
  {
   "cell_type": "markdown",
   "id": "a0ba7445",
   "metadata": {},
   "source": [
    "__Stemming__"
   ]
  },
  {
   "cell_type": "code",
   "execution_count": 241,
   "id": "9dad7a01",
   "metadata": {},
   "outputs": [],
   "source": [
    "from nltk.stem.snowball import SnowballStemmer\n",
    "snowBallStemmer = SnowballStemmer(\"english\")\n",
    "df_1['target'] = df_1['target'].apply(lambda x : [snowBallStemmer.stem(word) for word in x])\n",
    "df_1['anchor'] = df_1['anchor'].apply(lambda x: [snowBallStemmer.stem(word) for word in x])"
   ]
  },
  {
   "cell_type": "code",
   "execution_count": 242,
   "id": "5eb4af99",
   "metadata": {},
   "outputs": [
    {
     "data": {
      "text/html": [
       "<div>\n",
       "<style scoped>\n",
       "    .dataframe tbody tr th:only-of-type {\n",
       "        vertical-align: middle;\n",
       "    }\n",
       "\n",
       "    .dataframe tbody tr th {\n",
       "        vertical-align: top;\n",
       "    }\n",
       "\n",
       "    .dataframe thead th {\n",
       "        text-align: right;\n",
       "    }\n",
       "</style>\n",
       "<table border=\"1\" class=\"dataframe\">\n",
       "  <thead>\n",
       "    <tr style=\"text-align: right;\">\n",
       "      <th></th>\n",
       "      <th>id</th>\n",
       "      <th>anchor</th>\n",
       "      <th>target</th>\n",
       "      <th>context</th>\n",
       "      <th>score</th>\n",
       "    </tr>\n",
       "  </thead>\n",
       "  <tbody>\n",
       "    <tr>\n",
       "      <th>0</th>\n",
       "      <td>37d61fd2272659b1</td>\n",
       "      <td>[abat]</td>\n",
       "      <td>[abat, pollut]</td>\n",
       "      <td>A47</td>\n",
       "      <td>0.50</td>\n",
       "    </tr>\n",
       "    <tr>\n",
       "      <th>1</th>\n",
       "      <td>7b9652b17b68b7a4</td>\n",
       "      <td>[abat]</td>\n",
       "      <td>[act, abat]</td>\n",
       "      <td>A47</td>\n",
       "      <td>0.75</td>\n",
       "    </tr>\n",
       "    <tr>\n",
       "      <th>2</th>\n",
       "      <td>36d72442aefd8232</td>\n",
       "      <td>[abat]</td>\n",
       "      <td>[activ, catalyst]</td>\n",
       "      <td>A47</td>\n",
       "      <td>0.25</td>\n",
       "    </tr>\n",
       "    <tr>\n",
       "      <th>3</th>\n",
       "      <td>5296b0c19e1ce60e</td>\n",
       "      <td>[abat]</td>\n",
       "      <td>[elimin, process]</td>\n",
       "      <td>A47</td>\n",
       "      <td>0.50</td>\n",
       "    </tr>\n",
       "    <tr>\n",
       "      <th>4</th>\n",
       "      <td>54c1e3b9184cb5b6</td>\n",
       "      <td>[abat]</td>\n",
       "      <td>[forest, region]</td>\n",
       "      <td>A47</td>\n",
       "      <td>0.00</td>\n",
       "    </tr>\n",
       "  </tbody>\n",
       "</table>\n",
       "</div>"
      ],
      "text/plain": [
       "                 id  anchor             target context  score\n",
       "0  37d61fd2272659b1  [abat]     [abat, pollut]     A47   0.50\n",
       "1  7b9652b17b68b7a4  [abat]        [act, abat]     A47   0.75\n",
       "2  36d72442aefd8232  [abat]  [activ, catalyst]     A47   0.25\n",
       "3  5296b0c19e1ce60e  [abat]  [elimin, process]     A47   0.50\n",
       "4  54c1e3b9184cb5b6  [abat]   [forest, region]     A47   0.00"
      ]
     },
     "execution_count": 242,
     "metadata": {},
     "output_type": "execute_result"
    }
   ],
   "source": [
    "df_1.head()"
   ]
  },
  {
   "cell_type": "markdown",
   "id": "149808d5",
   "metadata": {},
   "source": [
    "__Need to convert array to just strings__"
   ]
  },
  {
   "cell_type": "code",
   "execution_count": 243,
   "id": "3478312b",
   "metadata": {},
   "outputs": [],
   "source": [
    "df_1['anchor'] = df_1['anchor'].apply(lambda x : ','.join(map(str,x)))\n",
    "df_1['target'] = df_1['target'].apply(lambda x : ','.join(map(str,x)))"
   ]
  },
  {
   "cell_type": "code",
   "execution_count": 244,
   "id": "35e5a075",
   "metadata": {
    "scrolled": true
   },
   "outputs": [
    {
     "data": {
      "text/html": [
       "<div>\n",
       "<style scoped>\n",
       "    .dataframe tbody tr th:only-of-type {\n",
       "        vertical-align: middle;\n",
       "    }\n",
       "\n",
       "    .dataframe tbody tr th {\n",
       "        vertical-align: top;\n",
       "    }\n",
       "\n",
       "    .dataframe thead th {\n",
       "        text-align: right;\n",
       "    }\n",
       "</style>\n",
       "<table border=\"1\" class=\"dataframe\">\n",
       "  <thead>\n",
       "    <tr style=\"text-align: right;\">\n",
       "      <th></th>\n",
       "      <th>id</th>\n",
       "      <th>anchor</th>\n",
       "      <th>target</th>\n",
       "      <th>context</th>\n",
       "      <th>score</th>\n",
       "    </tr>\n",
       "  </thead>\n",
       "  <tbody>\n",
       "    <tr>\n",
       "      <th>0</th>\n",
       "      <td>37d61fd2272659b1</td>\n",
       "      <td>abat</td>\n",
       "      <td>abat,pollut</td>\n",
       "      <td>A47</td>\n",
       "      <td>0.50</td>\n",
       "    </tr>\n",
       "    <tr>\n",
       "      <th>1</th>\n",
       "      <td>7b9652b17b68b7a4</td>\n",
       "      <td>abat</td>\n",
       "      <td>act,abat</td>\n",
       "      <td>A47</td>\n",
       "      <td>0.75</td>\n",
       "    </tr>\n",
       "    <tr>\n",
       "      <th>2</th>\n",
       "      <td>36d72442aefd8232</td>\n",
       "      <td>abat</td>\n",
       "      <td>activ,catalyst</td>\n",
       "      <td>A47</td>\n",
       "      <td>0.25</td>\n",
       "    </tr>\n",
       "    <tr>\n",
       "      <th>3</th>\n",
       "      <td>5296b0c19e1ce60e</td>\n",
       "      <td>abat</td>\n",
       "      <td>elimin,process</td>\n",
       "      <td>A47</td>\n",
       "      <td>0.50</td>\n",
       "    </tr>\n",
       "    <tr>\n",
       "      <th>4</th>\n",
       "      <td>54c1e3b9184cb5b6</td>\n",
       "      <td>abat</td>\n",
       "      <td>forest,region</td>\n",
       "      <td>A47</td>\n",
       "      <td>0.00</td>\n",
       "    </tr>\n",
       "  </tbody>\n",
       "</table>\n",
       "</div>"
      ],
      "text/plain": [
       "                 id anchor          target context  score\n",
       "0  37d61fd2272659b1   abat     abat,pollut     A47   0.50\n",
       "1  7b9652b17b68b7a4   abat        act,abat     A47   0.75\n",
       "2  36d72442aefd8232   abat  activ,catalyst     A47   0.25\n",
       "3  5296b0c19e1ce60e   abat  elimin,process     A47   0.50\n",
       "4  54c1e3b9184cb5b6   abat   forest,region     A47   0.00"
      ]
     },
     "execution_count": 244,
     "metadata": {},
     "output_type": "execute_result"
    }
   ],
   "source": [
    "df_1.head()"
   ]
  },
  {
   "cell_type": "markdown",
   "id": "72726f38",
   "metadata": {},
   "source": [
    "These the the unique words in the __anchor__ column 10 are shown below"
   ]
  },
  {
   "cell_type": "code",
   "execution_count": 245,
   "id": "0cb12006",
   "metadata": {},
   "outputs": [
    {
     "data": {
      "text/plain": [
       "array(['abat', 'abnorm,posit', 'absorb,properti', 'acan', 'accept,inform',\n",
       "       'achiev,authent', 'acid,absorpt', 'ack', 'acoustoopt,modul',\n",
       "       'acryl,group'], dtype=object)"
      ]
     },
     "execution_count": 245,
     "metadata": {},
     "output_type": "execute_result"
    }
   ],
   "source": [
    "np.unique(np.array(df_1['anchor']))[:10]"
   ]
  },
  {
   "cell_type": "markdown",
   "id": "4d5e10db",
   "metadata": {},
   "source": [
    "These the the unique words in the __target__ column 10 are shown below"
   ]
  },
  {
   "cell_type": "code",
   "execution_count": 246,
   "id": "80e78484",
   "metadata": {
    "scrolled": true
   },
   "outputs": [
    {
     "data": {
      "text/plain": [
       "array(['', '1,amino,2,methoxyethan', '1,azabicyclo', '1,bromopropan',\n",
       "       '1,methoxi,2,aminoethan', '10,bit,dac',\n",
       "       '111444,hexafluoro,2,buten', '12,dibromopropan',\n",
       "       '120,degre,interv', '12cao7al2o3'], dtype=object)"
      ]
     },
     "execution_count": 246,
     "metadata": {},
     "output_type": "execute_result"
    }
   ],
   "source": [
    "np.unique(np.array(df_1['target']))[:10]"
   ]
  },
  {
   "cell_type": "markdown",
   "id": "5a1b7602",
   "metadata": {},
   "source": [
    "We need to seperate the lengths"
   ]
  },
  {
   "cell_type": "code",
   "execution_count": 256,
   "id": "a13a3fe7",
   "metadata": {},
   "outputs": [],
   "source": [
    "anchor_set = set()"
   ]
  },
  {
   "cell_type": "code",
   "execution_count": 253,
   "id": "e3909539",
   "metadata": {},
   "outputs": [
    {
     "data": {
      "text/plain": [
       "'wood'"
      ]
     },
     "execution_count": 253,
     "metadata": {},
     "output_type": "execute_result"
    }
   ],
   "source": [
    "def separator(arr):\n",
    "    for i in arr:\n",
    "        anchor_set.add\n",
    "        return i\n",
    "    \n",
    "    "
   ]
  },
  {
   "cell_type": "code",
   "execution_count": 247,
   "id": "7ccde1ba",
   "metadata": {},
   "outputs": [],
   "source": [
    "df_1['anchor'] = df_1['anchor'].apply(lambda x: x.split(','))"
   ]
  },
  {
   "cell_type": "code",
   "execution_count": 255,
   "id": "16d985dc",
   "metadata": {},
   "outputs": [
    {
     "data": {
      "text/plain": [
       "0        abat\n",
       "1        abat\n",
       "2        abat\n",
       "3        abat\n",
       "4        abat\n",
       "         ... \n",
       "36468    wood\n",
       "36469    wood\n",
       "36470    wood\n",
       "36471    wood\n",
       "36472    wood\n",
       "Name: anchor, Length: 36473, dtype: object"
      ]
     },
     "execution_count": 255,
     "metadata": {},
     "output_type": "execute_result"
    }
   ],
   "source": [
    "df_1['anchor'].apply(lambda x: separator(x))"
   ]
  },
  {
   "cell_type": "code",
   "execution_count": 224,
   "id": "49799d5c",
   "metadata": {},
   "outputs": [
    {
     "data": {
      "text/plain": [
       "0         4\n",
       "1         4\n",
       "2         4\n",
       "3         4\n",
       "4         4\n",
       "         ..\n",
       "36468    11\n",
       "36469    11\n",
       "36470    11\n",
       "36471    11\n",
       "36472    11\n",
       "Name: anchor, Length: 36473, dtype: int64"
      ]
     },
     "execution_count": 224,
     "metadata": {},
     "output_type": "execute_result"
    }
   ],
   "source": [
    "df_1['anchor'].apply(lambda x: len(x))"
   ]
  },
  {
   "cell_type": "markdown",
   "id": "54e27569",
   "metadata": {},
   "source": [
    "__Label Encoding__"
   ]
  },
  {
   "cell_type": "code",
   "execution_count": 205,
   "id": "6df99e0c",
   "metadata": {},
   "outputs": [
    {
     "data": {
      "text/plain": [
       "LabelEncoder()"
      ]
     },
     "execution_count": 205,
     "metadata": {},
     "output_type": "execute_result"
    }
   ],
   "source": [
    "labelencoder_anchor = LabelEncoder()\n",
    "labelencoder_anchor.fit(np.unique(np.array(df_1['anchor'])))\n",
    "# df_1['anchor'] = labelencoder_anchor.transform(np.array(df_1['anchor']))"
   ]
  },
  {
   "cell_type": "code",
   "execution_count": 206,
   "id": "3cacb654",
   "metadata": {},
   "outputs": [
    {
     "data": {
      "text/plain": [
       "array(['abat', 'abnorm,posit', 'absorb,properti', 'acan', 'accept,inform',\n",
       "       'achiev,authent', 'acid,absorpt', 'ack', 'acoustoopt,modul',\n",
       "       'acryl,group', 'activ,posit', 'acyl,acid', 'adapt,learn',\n",
       "       'adapt,linear', 'addit,element', 'adhes,mount', 'adjac,later',\n",
       "       'adjust,gas,flow', 'adjust,multipl', 'aesthet,effect', 'agit,mean',\n",
       "       'air,flow,line', 'air,vent,open', 'align,input,shaft',\n",
       "       'alpha,gypsum', 'alphat', 'aluminium,compound', 'alumino,silic',\n",
       "       'ammonia,recoveri', 'androgen,receptor,modul',\n",
       "       'angular,contact,bear', 'anim,fat', 'annular,end', 'annular,neck',\n",
       "       'antiatherosclerot', 'antidiuret', 'antigen,composit',\n",
       "       'apart,elong', 'appli,anod,electrod', 'appli,muscl',\n",
       "       'appli,request', 'appli,tube', 'applic,messag', 'appropri,adjust',\n",
       "       'aralkynyl', 'arc,type', 'arcad', 'arcuat,mean', 'arm,design',\n",
       "       'arm,roller', 'arrang,fashion', 'associ,log', 'automat,coffe',\n",
       "       'auxiliari,water', 'averag,impact', 'averag,pore,size',\n",
       "       'averag,power,ratio,reduct', 'axial,extens', 'axl,box',\n",
       "       'azabicyclo', 'bandedg', 'base,fuel', 'base,interpol',\n",
       "       'base,method', 'base,propel', 'base,write', 'batteri,cell,assembl',\n",
       "       'batteri,heater', 'batteri,monitor,circuit', 'beam,travel,direct',\n",
       "       'belt,shift', 'biocytin', 'biomimet', 'block,select,signal',\n",
       "       'bloom,drain', 'board,id', 'board,manufactur',\n",
       "       'boom,hydraul,cylind', 'brake,arm', 'breech,mechan',\n",
       "       'broadband,inform', 'browser', 'brush,guard',\n",
       "       'buck,convert,circuit', 'buffer,strip', 'cabl,secur',\n",
       "       'cach,segment', 'calibr,status', 'call,card', 'cap,compon',\n",
       "       'carbur', 'carpet,tile', 'carri,platform', 'carrier,transport',\n",
       "       'catalyst,past', 'catch,surfac', 'cathet,distal,end',\n",
       "       'cathod,layer', 'cement,composit', 'central,communic,unit',\n",
       "       'central,flow,path', 'central,nucleus', 'cervic,support',\n",
       "       'chaga,diseas', 'channel,vector', 'chemic,activ',\n",
       "       'chemic,modifi,polym', 'chip,form', 'chirp,optic', 'churn',\n",
       "       'circumferenti,clamp', 'cleaner,system', 'clear,buffer',\n",
       "       'clock,input', 'clock,storag', 'clod', 'close,gate',\n",
       "       'coat,conduct,layer', 'coaxial,cabl,transmiss', 'cochin',\n",
       "       'cold,state', 'collat', 'color,differ,signal', 'combin,function',\n",
       "       'combin,optic,element', 'combust,element', 'come,relat', 'comfort',\n",
       "       'committe', 'communic,caviti', 'compon,composit,coat',\n",
       "       'compon,control', 'composit,slurri', 'composit,tile',\n",
       "       'compress,loss', 'compris,refin', 'conduct,cabl',\n",
       "       'conduct,conduct,materi', 'conduct,posit', 'conductor,particl',\n",
       "       'congruenc', 'conh2', 'conic,path', 'connect,common,conductor',\n",
       "       'connect,conduit', 'connect,electrod,structur', 'connect,line',\n",
       "       'connect,mean', 'connect,speed', 'consist,oxal,acid',\n",
       "       'consist,select', 'contact,cabl', 'contain,bacteri,cell',\n",
       "       'contain,base,resin', 'contain,elastom', 'contain,open',\n",
       "       'contain,section', 'contain,sulfur,compound', 'content,analysi',\n",
       "       'control,step', 'cool,reaction', 'correspond,tooth', 'coupl,arm',\n",
       "       'coupl,factor', 'crank', 'crystal,thin', 'cure,resin,composit',\n",
       "       'cut,stack', 'cyanoacryl,polym', 'cyclic,alcohol', 'dac,system',\n",
       "       'data,output,circuit', 'data,tree', 'decompressor',\n",
       "       'decoy,oligonucleotid', 'decreas,power', 'defin,memori',\n",
       "       'defin,panel', 'deflect,light', 'demodul', 'dental,align',\n",
       "       'deriv,class', 'descript,term', 'deterior', 'determin,analysi',\n",
       "       'dici', 'diesel,fuel,tank', 'differ,circumferenti,posit',\n",
       "       'differ,conduct', 'diffus,substrat', 'digit,multimet',\n",
       "       'dihalo,compound', 'dimension,locat', 'dimpl,arrang',\n",
       "       'direct,receiv,light', 'disk,type,record,medium',\n",
       "       'dispers,plastic,materi', 'dispers,powder', 'displac,mechan',\n",
       "       'display,differ,pictur', 'display,object', 'dissolv',\n",
       "       'dissolv,addit', 'dissolv,glycol', 'dissolv,solvent,system',\n",
       "       'distributor,pipe', 'dna,strand', 'donor,plasmid',\n",
       "       'doubl,planetari,gear', 'drainag', 'dri,coat,composition1',\n",
       "       'dri,corn', 'drive,ball', 'dual,clutch', 'duplex,devic', 'ecn',\n",
       "       'effect,storag', 'el,display', 'elast,assembl', 'elast,repuls',\n",
       "       'electr,current,distribut', 'electr,field,intens',\n",
       "       'electr,starter', 'electromagnet,input',\n",
       "       'electromagnet,radiat,sourc', 'elev,view', 'embed,groov',\n",
       "       'emboss,portion', 'encapsul,pigment', 'enclos,open', 'encod,form',\n",
       "       'end,bar', 'end,pin', 'energi,storag,spring', 'engag,clamp',\n",
       "       'engag,guid,slot', 'equip,block', 'equip,unit', 'equival,molar',\n",
       "       'estim,amount', 'exclus,limit', 'exhibit,symmetri',\n",
       "       'exit,electrod', 'expand,intralumin', 'expand,scaffold',\n",
       "       'extend,area', 'extend,arrang', 'extend,groov,bottom',\n",
       "       'extern,boundari', 'extract,locat', 'extract,process',\n",
       "       'fall,low,valu', 'fan', 'fan,rotat,speed', 'faucet,assembl', 'fdi',\n",
       "       'feed,control,valv', 'fenc,post', 'fiber,slack', 'fidel',\n",
       "       'fill,interior', 'final,roll', 'finger,actuat', 'fire,cartridg',\n",
       "       'fire,ring', 'fit,within,perimet', 'flexibl,belt',\n",
       "       'flexibl,glass,substrat', 'flexibl,membran', 'flexibl,shunt',\n",
       "       'flow,open', 'fluid,flow,sourc', 'fluorin,olefin', 'flux,regul',\n",
       "       'foot,side', 'form,bodi', 'form,cutter', 'form,direct',\n",
       "       'form,electroform', 'form,rivet', 'form,tabl', 'form,trench,isol',\n",
       "       'fountain,head', 'fraction,portion', 'frame,handl', 'free,diamet',\n",
       "       'free,fatti,acid', 'friction,lock', 'ftir,spectromet',\n",
       "       'fuse,layer', 'gas,leak', 'gasolin,blend', 'gate,insul,film',\n",
       "       'gate,locat', 'general,anesthesia', 'generat,control,signal',\n",
       "       'generat,electr,power', 'generat,layer', 'glass,part', 'glycitin',\n",
       "       'gnd', 'gold,alloy', 'grip,layer', 'guid,element',\n",
       "       'guid,projectil', 'gutter', 'gutter,hanger', 'halocarbyl',\n",
       "       'hang,ring', 'hardwar,block', 'hear,aid,paramet', 'heart,pacemak',\n",
       "       'heighth', 'helicas,activ', 'her2,target', 'herp', 'hexahydro',\n",
       "       'high,frequenc,weld', 'high,gradient,magnet,separ', 'hing,mechan',\n",
       "       'hot,heat,transfer', 'hrb', 'hybrid,bear', 'hybrid,system',\n",
       "       'hydrocarbyl,substitut,succin', 'idl,mixtur', 'illumin,condit',\n",
       "       'imag,axi', 'imag,signal,generat', 'imidazo', 'implant,pellet',\n",
       "       'implement,plural', 'includ,contact,switch', 'includ,displac',\n",
       "       'includ,retain,element', 'increas,hard', 'index,locat',\n",
       "       'indoor,room', 'inflow,channel', 'ingress,buffer', 'inner,close',\n",
       "       'inner,contact', 'inner,fluid,conduit', 'inner,peripher',\n",
       "       'inorgan,hybrid', 'insert,loss', 'insert,nucleic,acid',\n",
       "       'insert,trachea', 'instruct,process', 'insul,sleev',\n",
       "       'interconnect,lever', 'interconnect,site', 'interlock,section',\n",
       "       'intermedi,connect', 'intermedi,speed', 'intrud,detect',\n",
       "       'invertebr', 'involv,etherif', 'inward,travel', 'issu,patent',\n",
       "       'kalancho,plant', 'key,arm', 'key,recess', 'kill', 'kraft,cook',\n",
       "       'label,ligand', 'lamin,method', 'lamin,wall', 'laser,beam,optic',\n",
       "       'later,power', 'length,light', 'level', 'life,test',\n",
       "       'lift,element', 'lift,finger', 'lift,load',\n",
       "       'light,sensit,composit', 'ligninas', 'linear,chang',\n",
       "       'linear,system', 'liquid,reservoir', 'load,distribut,system',\n",
       "       'lock,format', 'loudspeak,array', 'low,soc', 'lower,stretch',\n",
       "       'lower,trunnion', 'machin,end', 'magnet,actuat', 'main,lane',\n",
       "       'main,linear', 'main,puls,laser', 'maintain,oxygen,level',\n",
       "       'make,high,densiti,polyethylen', 'make,slab',\n",
       "       'maleic,anhydrid,graft', 'map,display,system', 'mat,form',\n",
       "       'mat,section', 'materi,format', 'materi,item', 'materi,less',\n",
       "       'mayenit', 'measur,probe', 'measur,surfac,temperatur',\n",
       "       'medic,product', 'melanocyt', 'melodi', 'melt,coat',\n",
       "       'membran,vesicl', 'mention,conveyor', 'metal,binder',\n",
       "       'metal,cartridg', 'metal,phase', 'metastat,bone,diseas',\n",
       "       'metatars,bone', 'methoxyethylamin', 'microchamb', 'modifi,use',\n",
       "       'moistur,absorpt,rate', 'moistur,proof,film',\n",
       "       'monocrystallin,semiconductor', 'morpholin', 'mount,cylind',\n",
       "       'move,rang', 'move,toward,left', 'movement,direct',\n",
       "       'multiplex,data', 'nail,strip', 'negat,collector',\n",
       "       'network,load,inform', 'neural,stimul', 'new,freeli,flower',\n",
       "       'non,lamellar', 'non,polar,carrier', 'noncollinear', 'normal,base',\n",
       "       'notch,base', 'nozzl,receptacl', 'nvm,array', 'obstacl,cours',\n",
       "       'obtain,fraction', 'offset,tabl', 'oil,tanker', 'olefin,product',\n",
       "       'opaqu,wall', 'opc,drum', 'open,assembl', 'oper,channel',\n",
       "       'oper,height', 'oper,identif,inform', 'oper,intern,combust,engin',\n",
       "       'oper,vacuum', 'oppos,wall', 'optic,glass', 'optim,quantiti',\n",
       "       'organ,alkalin', 'organ,start', 'orthogon,acceler', 'outer,bar',\n",
       "       'outer,cylindr,electrod', 'output,center', 'oven,batteri',\n",
       "       'overal,condit', 'overal,weight', 'overflow,compart',\n",
       "       'overflow,devic', 'oxid,enzym', 'oxygen,carrier', 'oxygen,lean',\n",
       "       'oxygen,valu', 'packag,member', 'page,file', 'panel,frame',\n",
       "       'paraboloid', 'parallel,forc', 'parallel,orient', 'partial,ellipt',\n",
       "       'particular,oper', 'pen,base,comput', 'pendent',\n",
       "       'peptid,precursor', 'perfluoroalkyl,group', 'perform,desir,action',\n",
       "       'perform,work,oper', 'peripher,nervous,system,stimul', 'personag',\n",
       "       'photocleav,linker', 'photodefin', 'physic,transport,medium',\n",
       "       'pick,element', 'pictori,imag', 'pillar', 'pipe,box', 'place,set',\n",
       "       'planar,gear,set', 'pli,tire', 'plug,nozzl', 'pneumat,logic',\n",
       "       'poll', 'polyglycol,acid', 'polymer,ester',\n",
       "       'portabl,radio,communic', 'posit,enclosur', 'posit,sheet',\n",
       "       'post,hole,digger', 'power,convers,control',\n",
       "       'pre,establish,paramet', 'pre,trip', 'predetermin,acceler',\n",
       "       'predetermin,relat', 'preliminari,dispers', 'preregistr',\n",
       "       'press,state', 'pressur,detect', 'pressur,failur',\n",
       "       'pressur,signal', 'presynapt', 'prevent,accident,separ',\n",
       "       'previous,batch', 'previous,captur,imag',\n",
       "       'produc,liquid,hydrocarbon', 'produc,pump',\n",
       "       'produc,recombin,dna,technolog', 'produc,thin,layer',\n",
       "       'project,method', 'project,onto,surfac', 'prolog', 'prolong,span',\n",
       "       'proper,order', 'propyl,bromid', 'protocol,compon', 'protograph',\n",
       "       'provid,acknowledg', 'provid,amount', 'provid,car',\n",
       "       'provid,network', 'provid,restor,forc', 'provid,termin',\n",
       "       'provid,tune', 'psd,function', 'pulp,apparatus', 'puls,plasma',\n",
       "       'puls,width,modul,control', 'pulverul,materi', 'punch,face',\n",
       "       'push,pin', 'radio,wave,transmiss', 'rear,adjust',\n",
       "       'receiv,acceler', 'receiv,shaft', 'receiv,via,surfac',\n",
       "       'recov,reaction,product', 'reduct,factor',\n",
       "       'reflect,reflect,mirror', 'reflect,type,liquid,crystal,display',\n",
       "       'regener,agent', 'regist,digit,convert', 'registr,hole',\n",
       "       'relat,formula', 'remain,leg', 'remain,threshold,valu',\n",
       "       'renew,power', 'request,buffer', 'resili,metal',\n",
       "       'resili,spring,clip', 'respect,emitt', 'retain,bolt',\n",
       "       'retain,insert', 'retin,tissu', 'retort,process',\n",
       "       'return,structur', 'rhodium,carbonyl', 'rizatriptan', 'rna,seq',\n",
       "       'rocker,lever', 'roll,workpiec', 'rotari,electr', 'rotari,section',\n",
       "       'rotat,chamber', 'rotat,longitudin,axi', 'rotat,protrus',\n",
       "       'rotor,stage', 'run,interv', 'run,talli', 'salina', 'sand,format',\n",
       "       'satur,felt', 'saw,sensor', 'sawtooth,wave', 'scorch',\n",
       "       'scratch,coat', 'seal,member', 'seal,teeth', 'sealabl,adhes',\n",
       "       'search,indic', 'section,layer', 'secur,guard', 'seed',\n",
       "       'select,box', 'select,logic', 'select,oper', 'select,predetermin',\n",
       "       'select,unit', 'self,reson,frequenc', 'send,control,node',\n",
       "       'sensit,photograph', 'sequenc,conserv', 'servic,process,unit',\n",
       "       'shannon', 'shape,engag', 'shape,like,tail', 'shape,substrat',\n",
       "       'sheet,suppli,roller', 'shield,conductor', 'shift,link',\n",
       "       'show,chemic,formula', 'shunt,reactor', 'signal,generat,compound',\n",
       "       'signal,sender', 'silicid,format', 'siloxan,base',\n",
       "       'similar,absorb', 'singl,pump,chamber', 'sleev,upper',\n",
       "       'slip,segment', 'slot,open', 'smooth,outer,surfac', 'soft,polymer',\n",
       "       'solder,member', 'sourc,channel', 'sourc,voltag',\n",
       "       'speed,control,mean', 'speed,impel', 'sphygmomanomet',\n",
       "       'split,flow', 'spoke,wheel', 'spray', 'spreader,bodi',\n",
       "       'squar,lattic', 'stabil,function', 'stabil,member',\n",
       "       'starch,compon', 'stationari,rod', 'steer,matric', 'step,pin',\n",
       "       'storag,lid', 'strand,conveyor', 'substanti,axial',\n",
       "       'substitut,carboxyl', 'sulfid,sulfur', 'summit', 'sun,member',\n",
       "       'superior,abras', 'support,groov', 'surfac,alter,agent',\n",
       "       'surgic,glove', 'sustain,deliveri', 'switch,swm', 'synthet,train',\n",
       "       'tap,portion', 'target,pointer', 'terephthal,polyest', 'tetracen',\n",
       "       'therapeut,applic', 'therapeut,immun', 'time,digit,signal',\n",
       "       'time,domain,equal', 'toolpath', 'tooth,space',\n",
       "       'top,surfac,member', 'track,temperatur', 'transfer,onto,substrat',\n",
       "       'transistor,m6', 'transit,member', 'transmit,alarm',\n",
       "       'transmit,interfac', 'transmit,platform',\n",
       "       'transpar,liquid,crystal,display', 'transport,layer',\n",
       "       'travel,direct', 'treatment,program', 'triethylammonium,salt',\n",
       "       'trommel,screen', 'tsr', 'tubular,billet', 'tubular,latch',\n",
       "       'tunnel,capacitor', 'turbin,machin', 'type,paramet', 'undul',\n",
       "       'unit,inlet', 'updat,test,case', 'upper,clamp,arm', 'upper,seri',\n",
       "       'use,balanc', 'use,cool,fluid', 'use,metal',\n",
       "       'use,physic,unclon,function', 'use,posit', 'use,solid,materi',\n",
       "       'use,voltag,convert', 'vacuum,cup', 'val,ile', 'vco,circuit',\n",
       "       'vegfr2', 'verifi', 'vertic,chute', 'vertic,comb',\n",
       "       'vibratori,actuat', 'video,light', 'video,line', 'voltag,pattern',\n",
       "       'voltag,valu', 'wafer,inspect,system', 'wake,procedur', 'walk,aid',\n",
       "       'walnut,oil', 'water,infiltr', 'water,intak', 'water,product',\n",
       "       'water,propel', 'water,propuls,devic', 'wave,generat', 'wearabl',\n",
       "       'web,transfer', 'wedg,devic', 'weldabl', 'well,pump',\n",
       "       'whose,ident', 'wire,grid,polar', 'wire,trough', 'wood,articl'],\n",
       "      dtype=object)"
      ]
     },
     "execution_count": 206,
     "metadata": {},
     "output_type": "execute_result"
    }
   ],
   "source": [
    "np.unique(np.array(df_1['anchor']))"
   ]
  },
  {
   "cell_type": "code",
   "execution_count": 209,
   "id": "57ffaa5d",
   "metadata": {},
   "outputs": [
    {
     "data": {
      "text/html": [
       "<div>\n",
       "<style scoped>\n",
       "    .dataframe tbody tr th:only-of-type {\n",
       "        vertical-align: middle;\n",
       "    }\n",
       "\n",
       "    .dataframe tbody tr th {\n",
       "        vertical-align: top;\n",
       "    }\n",
       "\n",
       "    .dataframe thead th {\n",
       "        text-align: right;\n",
       "    }\n",
       "</style>\n",
       "<table border=\"1\" class=\"dataframe\">\n",
       "  <thead>\n",
       "    <tr style=\"text-align: right;\">\n",
       "      <th></th>\n",
       "      <th>id</th>\n",
       "      <th>anchor</th>\n",
       "      <th>target</th>\n",
       "      <th>context</th>\n",
       "      <th>score</th>\n",
       "    </tr>\n",
       "  </thead>\n",
       "  <tbody>\n",
       "    <tr>\n",
       "      <th>0</th>\n",
       "      <td>37d61fd2272659b1</td>\n",
       "      <td>abat</td>\n",
       "      <td>abat,pollut</td>\n",
       "      <td>A47</td>\n",
       "      <td>0.50</td>\n",
       "    </tr>\n",
       "    <tr>\n",
       "      <th>1</th>\n",
       "      <td>7b9652b17b68b7a4</td>\n",
       "      <td>abat</td>\n",
       "      <td>act,abat</td>\n",
       "      <td>A47</td>\n",
       "      <td>0.75</td>\n",
       "    </tr>\n",
       "    <tr>\n",
       "      <th>2</th>\n",
       "      <td>36d72442aefd8232</td>\n",
       "      <td>abat</td>\n",
       "      <td>activ,catalyst</td>\n",
       "      <td>A47</td>\n",
       "      <td>0.25</td>\n",
       "    </tr>\n",
       "    <tr>\n",
       "      <th>3</th>\n",
       "      <td>5296b0c19e1ce60e</td>\n",
       "      <td>abat</td>\n",
       "      <td>elimin,process</td>\n",
       "      <td>A47</td>\n",
       "      <td>0.50</td>\n",
       "    </tr>\n",
       "    <tr>\n",
       "      <th>4</th>\n",
       "      <td>54c1e3b9184cb5b6</td>\n",
       "      <td>abat</td>\n",
       "      <td>forest,region</td>\n",
       "      <td>A47</td>\n",
       "      <td>0.00</td>\n",
       "    </tr>\n",
       "  </tbody>\n",
       "</table>\n",
       "</div>"
      ],
      "text/plain": [
       "                 id anchor          target context  score\n",
       "0  37d61fd2272659b1   abat     abat,pollut     A47   0.50\n",
       "1  7b9652b17b68b7a4   abat        act,abat     A47   0.75\n",
       "2  36d72442aefd8232   abat  activ,catalyst     A47   0.25\n",
       "3  5296b0c19e1ce60e   abat  elimin,process     A47   0.50\n",
       "4  54c1e3b9184cb5b6   abat   forest,region     A47   0.00"
      ]
     },
     "execution_count": 209,
     "metadata": {},
     "output_type": "execute_result"
    }
   ],
   "source": [
    "df_1.head()"
   ]
  },
  {
   "cell_type": "code",
   "execution_count": 152,
   "id": "4ce20a43",
   "metadata": {
    "scrolled": true
   },
   "outputs": [],
   "source": [
    "# df_1['anchor'] = df_1['anchor'].apply(lambda x: [i for i in x] )"
   ]
  },
  {
   "cell_type": "code",
   "execution_count": 153,
   "id": "ecdecea2",
   "metadata": {},
   "outputs": [
    {
     "data": {
      "text/html": [
       "<div>\n",
       "<style scoped>\n",
       "    .dataframe tbody tr th:only-of-type {\n",
       "        vertical-align: middle;\n",
       "    }\n",
       "\n",
       "    .dataframe tbody tr th {\n",
       "        vertical-align: top;\n",
       "    }\n",
       "\n",
       "    .dataframe thead th {\n",
       "        text-align: right;\n",
       "    }\n",
       "</style>\n",
       "<table border=\"1\" class=\"dataframe\">\n",
       "  <thead>\n",
       "    <tr style=\"text-align: right;\">\n",
       "      <th></th>\n",
       "      <th>id</th>\n",
       "      <th>anchor</th>\n",
       "      <th>target</th>\n",
       "      <th>context</th>\n",
       "      <th>score</th>\n",
       "    </tr>\n",
       "  </thead>\n",
       "  <tbody>\n",
       "    <tr>\n",
       "      <th>0</th>\n",
       "      <td>37d61fd2272659b1</td>\n",
       "      <td>[[abat]]</td>\n",
       "      <td>abat,pollut</td>\n",
       "      <td>A47</td>\n",
       "      <td>0.50</td>\n",
       "    </tr>\n",
       "    <tr>\n",
       "      <th>1</th>\n",
       "      <td>7b9652b17b68b7a4</td>\n",
       "      <td>[[abat]]</td>\n",
       "      <td>act,abat</td>\n",
       "      <td>A47</td>\n",
       "      <td>0.75</td>\n",
       "    </tr>\n",
       "    <tr>\n",
       "      <th>2</th>\n",
       "      <td>36d72442aefd8232</td>\n",
       "      <td>[[abat]]</td>\n",
       "      <td>activ,catalyst</td>\n",
       "      <td>A47</td>\n",
       "      <td>0.25</td>\n",
       "    </tr>\n",
       "    <tr>\n",
       "      <th>3</th>\n",
       "      <td>5296b0c19e1ce60e</td>\n",
       "      <td>[[abat]]</td>\n",
       "      <td>elimin,process</td>\n",
       "      <td>A47</td>\n",
       "      <td>0.50</td>\n",
       "    </tr>\n",
       "    <tr>\n",
       "      <th>4</th>\n",
       "      <td>54c1e3b9184cb5b6</td>\n",
       "      <td>[[abat]]</td>\n",
       "      <td>forest,region</td>\n",
       "      <td>A47</td>\n",
       "      <td>0.00</td>\n",
       "    </tr>\n",
       "  </tbody>\n",
       "</table>\n",
       "</div>"
      ],
      "text/plain": [
       "                 id    anchor          target context  score\n",
       "0  37d61fd2272659b1  [[abat]]     abat,pollut     A47   0.50\n",
       "1  7b9652b17b68b7a4  [[abat]]        act,abat     A47   0.75\n",
       "2  36d72442aefd8232  [[abat]]  activ,catalyst     A47   0.25\n",
       "3  5296b0c19e1ce60e  [[abat]]  elimin,process     A47   0.50\n",
       "4  54c1e3b9184cb5b6  [[abat]]   forest,region     A47   0.00"
      ]
     },
     "execution_count": 153,
     "metadata": {},
     "output_type": "execute_result"
    }
   ],
   "source": [
    "# df_1.head()"
   ]
  },
  {
   "cell_type": "code",
   "execution_count": 211,
   "id": "f72e9f47",
   "metadata": {},
   "outputs": [
    {
     "data": {
      "text/plain": [
       "'abat'"
      ]
     },
     "execution_count": 211,
     "metadata": {},
     "output_type": "execute_result"
    }
   ],
   "source": [
    "np.array(df_1['anchor'])[0]"
   ]
  },
  {
   "cell_type": "code",
   "execution_count": 213,
   "id": "7f8fae1a",
   "metadata": {},
   "outputs": [
    {
     "data": {
      "text/plain": [
       "0               abat\n",
       "1               abat\n",
       "2               abat\n",
       "3               abat\n",
       "4               abat\n",
       "            ...     \n",
       "36468    wood,articl\n",
       "36469    wood,articl\n",
       "36470    wood,articl\n",
       "36471    wood,articl\n",
       "36472    wood,articl\n",
       "Name: anchor, Length: 36473, dtype: object"
      ]
     },
     "execution_count": 213,
     "metadata": {},
     "output_type": "execute_result"
    }
   ],
   "source": [
    "df_1['anchor'].apply(lambda x: x)"
   ]
  },
  {
   "cell_type": "code",
   "execution_count": 220,
   "id": "41e9af7c",
   "metadata": {},
   "outputs": [
    {
     "ename": "ValueError",
     "evalue": "y contains previously unseen labels: 'wood'",
     "output_type": "error",
     "traceback": [
      "\u001b[1;31m---------------------------------------------------------------------------\u001b[0m",
      "\u001b[1;31mKeyError\u001b[0m                                  Traceback (most recent call last)",
      "File \u001b[1;32m~\\miniconda3\\envs\\py3_base\\lib\\site-packages\\sklearn\\utils\\_encode.py:182\u001b[0m, in \u001b[0;36m_encode\u001b[1;34m(values, uniques, check_unknown)\u001b[0m\n\u001b[0;32m    181\u001b[0m \u001b[38;5;28;01mtry\u001b[39;00m:\n\u001b[1;32m--> 182\u001b[0m     \u001b[38;5;28;01mreturn\u001b[39;00m \u001b[43m_map_to_integer\u001b[49m\u001b[43m(\u001b[49m\u001b[43mvalues\u001b[49m\u001b[43m,\u001b[49m\u001b[43m \u001b[49m\u001b[43muniques\u001b[49m\u001b[43m)\u001b[49m\n\u001b[0;32m    183\u001b[0m \u001b[38;5;28;01mexcept\u001b[39;00m \u001b[38;5;167;01mKeyError\u001b[39;00m \u001b[38;5;28;01mas\u001b[39;00m e:\n",
      "File \u001b[1;32m~\\miniconda3\\envs\\py3_base\\lib\\site-packages\\sklearn\\utils\\_encode.py:126\u001b[0m, in \u001b[0;36m_map_to_integer\u001b[1;34m(values, uniques)\u001b[0m\n\u001b[0;32m    125\u001b[0m table \u001b[38;5;241m=\u001b[39m _nandict({val: i \u001b[38;5;28;01mfor\u001b[39;00m i, val \u001b[38;5;129;01min\u001b[39;00m \u001b[38;5;28menumerate\u001b[39m(uniques)})\n\u001b[1;32m--> 126\u001b[0m \u001b[38;5;28;01mreturn\u001b[39;00m np\u001b[38;5;241m.\u001b[39marray([table[v] \u001b[38;5;28;01mfor\u001b[39;00m v \u001b[38;5;129;01min\u001b[39;00m values])\n",
      "File \u001b[1;32m~\\miniconda3\\envs\\py3_base\\lib\\site-packages\\sklearn\\utils\\_encode.py:126\u001b[0m, in \u001b[0;36m<listcomp>\u001b[1;34m(.0)\u001b[0m\n\u001b[0;32m    125\u001b[0m table \u001b[38;5;241m=\u001b[39m _nandict({val: i \u001b[38;5;28;01mfor\u001b[39;00m i, val \u001b[38;5;129;01min\u001b[39;00m \u001b[38;5;28menumerate\u001b[39m(uniques)})\n\u001b[1;32m--> 126\u001b[0m \u001b[38;5;28;01mreturn\u001b[39;00m np\u001b[38;5;241m.\u001b[39marray([\u001b[43mtable\u001b[49m\u001b[43m[\u001b[49m\u001b[43mv\u001b[49m\u001b[43m]\u001b[49m \u001b[38;5;28;01mfor\u001b[39;00m v \u001b[38;5;129;01min\u001b[39;00m values])\n",
      "File \u001b[1;32m~\\miniconda3\\envs\\py3_base\\lib\\site-packages\\sklearn\\utils\\_encode.py:120\u001b[0m, in \u001b[0;36m_nandict.__missing__\u001b[1;34m(self, key)\u001b[0m\n\u001b[0;32m    119\u001b[0m     \u001b[38;5;28;01mreturn\u001b[39;00m \u001b[38;5;28mself\u001b[39m\u001b[38;5;241m.\u001b[39mnan_value\n\u001b[1;32m--> 120\u001b[0m \u001b[38;5;28;01mraise\u001b[39;00m \u001b[38;5;167;01mKeyError\u001b[39;00m(key)\n",
      "\u001b[1;31mKeyError\u001b[0m: 'wood'",
      "\nDuring handling of the above exception, another exception occurred:\n",
      "\u001b[1;31mValueError\u001b[0m                                Traceback (most recent call last)",
      "Input \u001b[1;32mIn [220]\u001b[0m, in \u001b[0;36m<cell line: 8>\u001b[1;34m()\u001b[0m\n\u001b[0;32m      5\u001b[0m         \u001b[38;5;28mprint\u001b[39m(labelencoder_anchor\u001b[38;5;241m.\u001b[39mtransform(i))\n\u001b[0;32m      6\u001b[0m     \u001b[38;5;28;01mreturn\u001b[39;00m arr\n\u001b[1;32m----> 8\u001b[0m \u001b[43mlabeler\u001b[49m\u001b[43m(\u001b[49m\u001b[38;5;124;43m'\u001b[39;49m\u001b[38;5;124;43mwood,articl\u001b[39;49m\u001b[38;5;124;43m'\u001b[39;49m\u001b[43m)\u001b[49m\n",
      "Input \u001b[1;32mIn [220]\u001b[0m, in \u001b[0;36mlabeler\u001b[1;34m(arr)\u001b[0m\n\u001b[0;32m      3\u001b[0m temp \u001b[38;5;241m=\u001b[39m [temp]\n\u001b[0;32m      4\u001b[0m \u001b[38;5;28;01mfor\u001b[39;00m i \u001b[38;5;129;01min\u001b[39;00m temp:\n\u001b[1;32m----> 5\u001b[0m     \u001b[38;5;28mprint\u001b[39m(\u001b[43mlabelencoder_anchor\u001b[49m\u001b[38;5;241;43m.\u001b[39;49m\u001b[43mtransform\u001b[49m\u001b[43m(\u001b[49m\u001b[43mi\u001b[49m\u001b[43m)\u001b[49m)\n\u001b[0;32m      6\u001b[0m \u001b[38;5;28;01mreturn\u001b[39;00m arr\n",
      "File \u001b[1;32m~\\miniconda3\\envs\\py3_base\\lib\\site-packages\\sklearn\\preprocessing\\_label.py:138\u001b[0m, in \u001b[0;36mLabelEncoder.transform\u001b[1;34m(self, y)\u001b[0m\n\u001b[0;32m    135\u001b[0m \u001b[38;5;28;01mif\u001b[39;00m _num_samples(y) \u001b[38;5;241m==\u001b[39m \u001b[38;5;241m0\u001b[39m:\n\u001b[0;32m    136\u001b[0m     \u001b[38;5;28;01mreturn\u001b[39;00m np\u001b[38;5;241m.\u001b[39marray([])\n\u001b[1;32m--> 138\u001b[0m \u001b[38;5;28;01mreturn\u001b[39;00m \u001b[43m_encode\u001b[49m\u001b[43m(\u001b[49m\u001b[43my\u001b[49m\u001b[43m,\u001b[49m\u001b[43m \u001b[49m\u001b[43muniques\u001b[49m\u001b[38;5;241;43m=\u001b[39;49m\u001b[38;5;28;43mself\u001b[39;49m\u001b[38;5;241;43m.\u001b[39;49m\u001b[43mclasses_\u001b[49m\u001b[43m)\u001b[49m\n",
      "File \u001b[1;32m~\\miniconda3\\envs\\py3_base\\lib\\site-packages\\sklearn\\utils\\_encode.py:184\u001b[0m, in \u001b[0;36m_encode\u001b[1;34m(values, uniques, check_unknown)\u001b[0m\n\u001b[0;32m    182\u001b[0m         \u001b[38;5;28;01mreturn\u001b[39;00m _map_to_integer(values, uniques)\n\u001b[0;32m    183\u001b[0m     \u001b[38;5;28;01mexcept\u001b[39;00m \u001b[38;5;167;01mKeyError\u001b[39;00m \u001b[38;5;28;01mas\u001b[39;00m e:\n\u001b[1;32m--> 184\u001b[0m         \u001b[38;5;28;01mraise\u001b[39;00m \u001b[38;5;167;01mValueError\u001b[39;00m(\u001b[38;5;124mf\u001b[39m\u001b[38;5;124m\"\u001b[39m\u001b[38;5;124my contains previously unseen labels: \u001b[39m\u001b[38;5;132;01m{\u001b[39;00m\u001b[38;5;28mstr\u001b[39m(e)\u001b[38;5;132;01m}\u001b[39;00m\u001b[38;5;124m\"\u001b[39m)\n\u001b[0;32m    185\u001b[0m \u001b[38;5;28;01melse\u001b[39;00m:\n\u001b[0;32m    186\u001b[0m     \u001b[38;5;28;01mif\u001b[39;00m check_unknown:\n",
      "\u001b[1;31mValueError\u001b[0m: y contains previously unseen labels: 'wood'"
     ]
    }
   ],
   "source": [
    "def labeler (arr):\n",
    "    temp = arr.split(\",\")\n",
    "    temp = [temp]\n",
    "    for i in temp:\n",
    "        print(labelencoder_anchor.transform(i))\n",
    "    return arr\n",
    "\n",
    "labeler('wood,articl')"
   ]
  },
  {
   "cell_type": "code",
   "execution_count": null,
   "id": "629ad710",
   "metadata": {},
   "outputs": [],
   "source": []
  },
  {
   "cell_type": "code",
   "execution_count": 155,
   "id": "13aeae98",
   "metadata": {},
   "outputs": [
    {
     "data": {
      "text/plain": [
       "0                [[abat]]\n",
       "1                [[abat]]\n",
       "2                [[abat]]\n",
       "3                [[abat]]\n",
       "4                [[abat]]\n",
       "               ...       \n",
       "36468    [[wood, articl]]\n",
       "36469    [[wood, articl]]\n",
       "36470    [[wood, articl]]\n",
       "36471    [[wood, articl]]\n",
       "36472    [[wood, articl]]\n",
       "Name: anchor, Length: 36473, dtype: object"
      ]
     },
     "execution_count": 155,
     "metadata": {},
     "output_type": "execute_result"
    }
   ],
   "source": [
    "df_1['anchor'].apply(lambda x: x)"
   ]
  },
  {
   "cell_type": "code",
   "execution_count": 35,
   "id": "8ad8dd26",
   "metadata": {},
   "outputs": [],
   "source": [
    "# count_vect = CountVectorizer(analyzer='word')\n",
    "# corpus =  np.array(df_1['target'])[0]\n",
    "# X_counts = count_vect.fit_transform(corpus)\n",
    "# df_1['target'].apply(lambda x: count_vect.fit_transform(x).toarray()[0])\n",
    "# print(X_counts.shape)\n",
    "# print(count_vect.get_feature_names())\n",
    "# print(X_counts.toarray()[0])\n",
    "# import pandas as pd\n",
    "# X_counts_df = pd.DataFrame(X_counts.toarray(), columns=count_vect.get_feature_names())\n",
    "# X_counts_df.head(10)"
   ]
  },
  {
   "cell_type": "markdown",
   "id": "315eaf9d",
   "metadata": {},
   "source": [
    "__Label Encoder__"
   ]
  },
  {
   "cell_type": "code",
   "execution_count": 36,
   "id": "16885290",
   "metadata": {},
   "outputs": [],
   "source": [
    "# labelencoder_anchor = LabelEncoder()\n",
    "# labelencoder_target = LabelEncoder()\n",
    "# labelencoder_context = LabelEncoder()\n",
    "# df_1['anchor'] = labelencoder_anchor.fit_transform(df_1['anchor'])\n",
    "# df_1['target'] = labelencoder_target.fit_transform(df_1['target'])\n",
    "# df_1['context'] = labelencoder_context.fit_transform(df_1['context'])"
   ]
  },
  {
   "cell_type": "markdown",
   "id": "251560f3",
   "metadata": {},
   "source": [
    "__Label Encoder Checkpoint__"
   ]
  },
  {
   "cell_type": "code",
   "execution_count": 37,
   "id": "1e9e5d1c",
   "metadata": {},
   "outputs": [],
   "source": [
    "# df_1.head()"
   ]
  },
  {
   "cell_type": "markdown",
   "id": "385e8bde",
   "metadata": {},
   "source": [
    "__Preparing test__\n",
    "* Will be used later for the competition"
   ]
  },
  {
   "cell_type": "code",
   "execution_count": 38,
   "id": "2c8afffb",
   "metadata": {},
   "outputs": [],
   "source": [
    "# test = pd.read_csv(\"test.csv\")\n",
    "# test['anchor'] = labelencoder_anchor.transform(test['anchor'])\n",
    "# test['target'] = labelencoder_target.transform(test['target'])\n",
    "# test['context'] = labelencoder_context.transform(test['context'])\n",
    "# test.head()\n",
    "# test_id = np.array(test['id'])\n",
    "# test.drop('id',axis=1,inplace=True)\n",
    "# x_test = test"
   ]
  },
  {
   "cell_type": "code",
   "execution_count": 197,
   "id": "b3c187be",
   "metadata": {},
   "outputs": [],
   "source": [
    "df_1['merger'] = df_1['anchor'] + \",\"+ df_1['target']"
   ]
  },
  {
   "cell_type": "markdown",
   "id": "7425d052",
   "metadata": {},
   "source": [
    "__Spliting (70/30)__\n",
    "* Here we test/evaluate our models"
   ]
  },
  {
   "cell_type": "code",
   "execution_count": 198,
   "id": "26a82cdf",
   "metadata": {},
   "outputs": [],
   "source": [
    "# x = df_1.drop(['id','score'],axis=1).values\n",
    "x = df_1['merger']\n",
    "y = df_1['score']"
   ]
  },
  {
   "cell_type": "code",
   "execution_count": 199,
   "id": "0be17aec",
   "metadata": {
    "scrolled": true
   },
   "outputs": [],
   "source": [
    "x_train, x_test, y_train, y_test = train_test_split(x, y, test_size=0.30, random_state=141)"
   ]
  },
  {
   "cell_type": "code",
   "execution_count": 200,
   "id": "6274fee9",
   "metadata": {},
   "outputs": [],
   "source": [
    "from sklearn.feature_extraction.text import CountVectorizer\n",
    "from sklearn.feature_extraction.text import TfidfTransformer\n",
    "count_vect = CountVectorizer()\n",
    "tf_transformer = TfidfTransformer(use_idf=False)\n",
    "x_train_counts = count_vect.fit_transform(x_train)\n",
    "x_train_tf = tf_transformer.fit_transform(x_train_counts)\n",
    "#df_1['target'] = df_1['target'].apply(lambda x: [\"\".join(tokens) for tokens in x ])\n",
    "\n",
    "#X_counts = count_vect.fit_transform(corpus)\n",
    "# print(X_counts.shape)\n",
    "# print(count_vect.get_feature_names())\n",
    "# print(X_counts.toarray())"
   ]
  },
  {
   "cell_type": "markdown",
   "id": "71f54947",
   "metadata": {},
   "source": [
    "__Random Forest Regressor__"
   ]
  },
  {
   "cell_type": "code",
   "execution_count": 201,
   "id": "204f4a34",
   "metadata": {},
   "outputs": [
    {
     "ename": "KeyboardInterrupt",
     "evalue": "",
     "output_type": "error",
     "traceback": [
      "\u001b[0;31m---------------------------------------------------------------------------\u001b[0m",
      "\u001b[0;31mKeyboardInterrupt\u001b[0m                         Traceback (most recent call last)",
      "Input \u001b[0;32mIn [201]\u001b[0m, in \u001b[0;36m<module>\u001b[0;34m\u001b[0m\n\u001b[1;32m      1\u001b[0m \u001b[38;5;28;01mfrom\u001b[39;00m \u001b[38;5;21;01msklearn\u001b[39;00m\u001b[38;5;21;01m.\u001b[39;00m\u001b[38;5;21;01mensemble\u001b[39;00m \u001b[38;5;28;01mimport\u001b[39;00m RandomForestRegressor\n\u001b[1;32m      2\u001b[0m regr \u001b[38;5;241m=\u001b[39m RandomForestRegressor(random_state\u001b[38;5;241m=\u001b[39m\u001b[38;5;241m141\u001b[39m)\n\u001b[0;32m----> 3\u001b[0m \u001b[43mregr\u001b[49m\u001b[38;5;241;43m.\u001b[39;49m\u001b[43mfit\u001b[49m\u001b[43m(\u001b[49m\u001b[43mx_train_tf\u001b[49m\u001b[43m,\u001b[49m\u001b[43m \u001b[49m\u001b[43my_train\u001b[49m\u001b[43m)\u001b[49m\n\u001b[1;32m      4\u001b[0m x_pre_counts \u001b[38;5;241m=\u001b[39m count_vect\u001b[38;5;241m.\u001b[39mtransform(x_test)\n\u001b[1;32m      5\u001b[0m x_pre_tf \u001b[38;5;241m=\u001b[39m tf_transformer\u001b[38;5;241m.\u001b[39mtransform(x_pre_counts)\n",
      "File \u001b[0;32m/opt/homebrew/Caskroom/miniforge/base/envs/py3_base/lib/python3.8/site-packages/sklearn/ensemble/_forest.py:450\u001b[0m, in \u001b[0;36mBaseForest.fit\u001b[0;34m(self, X, y, sample_weight)\u001b[0m\n\u001b[1;32m    439\u001b[0m trees \u001b[38;5;241m=\u001b[39m [\n\u001b[1;32m    440\u001b[0m     \u001b[38;5;28mself\u001b[39m\u001b[38;5;241m.\u001b[39m_make_estimator(append\u001b[38;5;241m=\u001b[39m\u001b[38;5;28;01mFalse\u001b[39;00m, random_state\u001b[38;5;241m=\u001b[39mrandom_state)\n\u001b[1;32m    441\u001b[0m     \u001b[38;5;28;01mfor\u001b[39;00m i \u001b[38;5;129;01min\u001b[39;00m \u001b[38;5;28mrange\u001b[39m(n_more_estimators)\n\u001b[1;32m    442\u001b[0m ]\n\u001b[1;32m    444\u001b[0m \u001b[38;5;66;03m# Parallel loop: we prefer the threading backend as the Cython code\u001b[39;00m\n\u001b[1;32m    445\u001b[0m \u001b[38;5;66;03m# for fitting the trees is internally releasing the Python GIL\u001b[39;00m\n\u001b[1;32m    446\u001b[0m \u001b[38;5;66;03m# making threading more efficient than multiprocessing in\u001b[39;00m\n\u001b[1;32m    447\u001b[0m \u001b[38;5;66;03m# that case. However, for joblib 0.12+ we respect any\u001b[39;00m\n\u001b[1;32m    448\u001b[0m \u001b[38;5;66;03m# parallel_backend contexts set at a higher level,\u001b[39;00m\n\u001b[1;32m    449\u001b[0m \u001b[38;5;66;03m# since correctness does not rely on using threads.\u001b[39;00m\n\u001b[0;32m--> 450\u001b[0m trees \u001b[38;5;241m=\u001b[39m \u001b[43mParallel\u001b[49m\u001b[43m(\u001b[49m\n\u001b[1;32m    451\u001b[0m \u001b[43m    \u001b[49m\u001b[43mn_jobs\u001b[49m\u001b[38;5;241;43m=\u001b[39;49m\u001b[38;5;28;43mself\u001b[39;49m\u001b[38;5;241;43m.\u001b[39;49m\u001b[43mn_jobs\u001b[49m\u001b[43m,\u001b[49m\n\u001b[1;32m    452\u001b[0m \u001b[43m    \u001b[49m\u001b[43mverbose\u001b[49m\u001b[38;5;241;43m=\u001b[39;49m\u001b[38;5;28;43mself\u001b[39;49m\u001b[38;5;241;43m.\u001b[39;49m\u001b[43mverbose\u001b[49m\u001b[43m,\u001b[49m\n\u001b[1;32m    453\u001b[0m \u001b[43m    \u001b[49m\u001b[38;5;241;43m*\u001b[39;49m\u001b[38;5;241;43m*\u001b[39;49m\u001b[43m_joblib_parallel_args\u001b[49m\u001b[43m(\u001b[49m\u001b[43mprefer\u001b[49m\u001b[38;5;241;43m=\u001b[39;49m\u001b[38;5;124;43m\"\u001b[39;49m\u001b[38;5;124;43mthreads\u001b[39;49m\u001b[38;5;124;43m\"\u001b[39;49m\u001b[43m)\u001b[49m\u001b[43m,\u001b[49m\n\u001b[1;32m    454\u001b[0m \u001b[43m\u001b[49m\u001b[43m)\u001b[49m\u001b[43m(\u001b[49m\n\u001b[1;32m    455\u001b[0m \u001b[43m    \u001b[49m\u001b[43mdelayed\u001b[49m\u001b[43m(\u001b[49m\u001b[43m_parallel_build_trees\u001b[49m\u001b[43m)\u001b[49m\u001b[43m(\u001b[49m\n\u001b[1;32m    456\u001b[0m \u001b[43m        \u001b[49m\u001b[43mt\u001b[49m\u001b[43m,\u001b[49m\n\u001b[1;32m    457\u001b[0m \u001b[43m        \u001b[49m\u001b[38;5;28;43mself\u001b[39;49m\u001b[43m,\u001b[49m\n\u001b[1;32m    458\u001b[0m \u001b[43m        \u001b[49m\u001b[43mX\u001b[49m\u001b[43m,\u001b[49m\n\u001b[1;32m    459\u001b[0m \u001b[43m        \u001b[49m\u001b[43my\u001b[49m\u001b[43m,\u001b[49m\n\u001b[1;32m    460\u001b[0m \u001b[43m        \u001b[49m\u001b[43msample_weight\u001b[49m\u001b[43m,\u001b[49m\n\u001b[1;32m    461\u001b[0m \u001b[43m        \u001b[49m\u001b[43mi\u001b[49m\u001b[43m,\u001b[49m\n\u001b[1;32m    462\u001b[0m \u001b[43m        \u001b[49m\u001b[38;5;28;43mlen\u001b[39;49m\u001b[43m(\u001b[49m\u001b[43mtrees\u001b[49m\u001b[43m)\u001b[49m\u001b[43m,\u001b[49m\n\u001b[1;32m    463\u001b[0m \u001b[43m        \u001b[49m\u001b[43mverbose\u001b[49m\u001b[38;5;241;43m=\u001b[39;49m\u001b[38;5;28;43mself\u001b[39;49m\u001b[38;5;241;43m.\u001b[39;49m\u001b[43mverbose\u001b[49m\u001b[43m,\u001b[49m\n\u001b[1;32m    464\u001b[0m \u001b[43m        \u001b[49m\u001b[43mclass_weight\u001b[49m\u001b[38;5;241;43m=\u001b[39;49m\u001b[38;5;28;43mself\u001b[39;49m\u001b[38;5;241;43m.\u001b[39;49m\u001b[43mclass_weight\u001b[49m\u001b[43m,\u001b[49m\n\u001b[1;32m    465\u001b[0m \u001b[43m        \u001b[49m\u001b[43mn_samples_bootstrap\u001b[49m\u001b[38;5;241;43m=\u001b[39;49m\u001b[43mn_samples_bootstrap\u001b[49m\u001b[43m,\u001b[49m\n\u001b[1;32m    466\u001b[0m \u001b[43m    \u001b[49m\u001b[43m)\u001b[49m\n\u001b[1;32m    467\u001b[0m \u001b[43m    \u001b[49m\u001b[38;5;28;43;01mfor\u001b[39;49;00m\u001b[43m \u001b[49m\u001b[43mi\u001b[49m\u001b[43m,\u001b[49m\u001b[43m \u001b[49m\u001b[43mt\u001b[49m\u001b[43m \u001b[49m\u001b[38;5;129;43;01min\u001b[39;49;00m\u001b[43m \u001b[49m\u001b[38;5;28;43menumerate\u001b[39;49m\u001b[43m(\u001b[49m\u001b[43mtrees\u001b[49m\u001b[43m)\u001b[49m\n\u001b[1;32m    468\u001b[0m \u001b[43m\u001b[49m\u001b[43m)\u001b[49m\n\u001b[1;32m    470\u001b[0m \u001b[38;5;66;03m# Collect newly grown trees\u001b[39;00m\n\u001b[1;32m    471\u001b[0m \u001b[38;5;28mself\u001b[39m\u001b[38;5;241m.\u001b[39mestimators_\u001b[38;5;241m.\u001b[39mextend(trees)\n",
      "File \u001b[0;32m/opt/homebrew/Caskroom/miniforge/base/envs/py3_base/lib/python3.8/site-packages/joblib/parallel.py:1046\u001b[0m, in \u001b[0;36mParallel.__call__\u001b[0;34m(self, iterable)\u001b[0m\n\u001b[1;32m   1043\u001b[0m \u001b[38;5;28;01mif\u001b[39;00m \u001b[38;5;28mself\u001b[39m\u001b[38;5;241m.\u001b[39mdispatch_one_batch(iterator):\n\u001b[1;32m   1044\u001b[0m     \u001b[38;5;28mself\u001b[39m\u001b[38;5;241m.\u001b[39m_iterating \u001b[38;5;241m=\u001b[39m \u001b[38;5;28mself\u001b[39m\u001b[38;5;241m.\u001b[39m_original_iterator \u001b[38;5;129;01mis\u001b[39;00m \u001b[38;5;129;01mnot\u001b[39;00m \u001b[38;5;28;01mNone\u001b[39;00m\n\u001b[0;32m-> 1046\u001b[0m \u001b[38;5;28;01mwhile\u001b[39;00m \u001b[38;5;28;43mself\u001b[39;49m\u001b[38;5;241;43m.\u001b[39;49m\u001b[43mdispatch_one_batch\u001b[49m\u001b[43m(\u001b[49m\u001b[43miterator\u001b[49m\u001b[43m)\u001b[49m:\n\u001b[1;32m   1047\u001b[0m     \u001b[38;5;28;01mpass\u001b[39;00m\n\u001b[1;32m   1049\u001b[0m \u001b[38;5;28;01mif\u001b[39;00m pre_dispatch \u001b[38;5;241m==\u001b[39m \u001b[38;5;124m\"\u001b[39m\u001b[38;5;124mall\u001b[39m\u001b[38;5;124m\"\u001b[39m \u001b[38;5;129;01mor\u001b[39;00m n_jobs \u001b[38;5;241m==\u001b[39m \u001b[38;5;241m1\u001b[39m:\n\u001b[1;32m   1050\u001b[0m     \u001b[38;5;66;03m# The iterable was consumed all at once by the above for loop.\u001b[39;00m\n\u001b[1;32m   1051\u001b[0m     \u001b[38;5;66;03m# No need to wait for async callbacks to trigger to\u001b[39;00m\n\u001b[1;32m   1052\u001b[0m     \u001b[38;5;66;03m# consumption.\u001b[39;00m\n",
      "File \u001b[0;32m/opt/homebrew/Caskroom/miniforge/base/envs/py3_base/lib/python3.8/site-packages/joblib/parallel.py:861\u001b[0m, in \u001b[0;36mParallel.dispatch_one_batch\u001b[0;34m(self, iterator)\u001b[0m\n\u001b[1;32m    859\u001b[0m     \u001b[38;5;28;01mreturn\u001b[39;00m \u001b[38;5;28;01mFalse\u001b[39;00m\n\u001b[1;32m    860\u001b[0m \u001b[38;5;28;01melse\u001b[39;00m:\n\u001b[0;32m--> 861\u001b[0m     \u001b[38;5;28;43mself\u001b[39;49m\u001b[38;5;241;43m.\u001b[39;49m\u001b[43m_dispatch\u001b[49m\u001b[43m(\u001b[49m\u001b[43mtasks\u001b[49m\u001b[43m)\u001b[49m\n\u001b[1;32m    862\u001b[0m     \u001b[38;5;28;01mreturn\u001b[39;00m \u001b[38;5;28;01mTrue\u001b[39;00m\n",
      "File \u001b[0;32m/opt/homebrew/Caskroom/miniforge/base/envs/py3_base/lib/python3.8/site-packages/joblib/parallel.py:779\u001b[0m, in \u001b[0;36mParallel._dispatch\u001b[0;34m(self, batch)\u001b[0m\n\u001b[1;32m    777\u001b[0m \u001b[38;5;28;01mwith\u001b[39;00m \u001b[38;5;28mself\u001b[39m\u001b[38;5;241m.\u001b[39m_lock:\n\u001b[1;32m    778\u001b[0m     job_idx \u001b[38;5;241m=\u001b[39m \u001b[38;5;28mlen\u001b[39m(\u001b[38;5;28mself\u001b[39m\u001b[38;5;241m.\u001b[39m_jobs)\n\u001b[0;32m--> 779\u001b[0m     job \u001b[38;5;241m=\u001b[39m \u001b[38;5;28;43mself\u001b[39;49m\u001b[38;5;241;43m.\u001b[39;49m\u001b[43m_backend\u001b[49m\u001b[38;5;241;43m.\u001b[39;49m\u001b[43mapply_async\u001b[49m\u001b[43m(\u001b[49m\u001b[43mbatch\u001b[49m\u001b[43m,\u001b[49m\u001b[43m \u001b[49m\u001b[43mcallback\u001b[49m\u001b[38;5;241;43m=\u001b[39;49m\u001b[43mcb\u001b[49m\u001b[43m)\u001b[49m\n\u001b[1;32m    780\u001b[0m     \u001b[38;5;66;03m# A job can complete so quickly than its callback is\u001b[39;00m\n\u001b[1;32m    781\u001b[0m     \u001b[38;5;66;03m# called before we get here, causing self._jobs to\u001b[39;00m\n\u001b[1;32m    782\u001b[0m     \u001b[38;5;66;03m# grow. To ensure correct results ordering, .insert is\u001b[39;00m\n\u001b[1;32m    783\u001b[0m     \u001b[38;5;66;03m# used (rather than .append) in the following line\u001b[39;00m\n\u001b[1;32m    784\u001b[0m     \u001b[38;5;28mself\u001b[39m\u001b[38;5;241m.\u001b[39m_jobs\u001b[38;5;241m.\u001b[39minsert(job_idx, job)\n",
      "File \u001b[0;32m/opt/homebrew/Caskroom/miniforge/base/envs/py3_base/lib/python3.8/site-packages/joblib/_parallel_backends.py:208\u001b[0m, in \u001b[0;36mSequentialBackend.apply_async\u001b[0;34m(self, func, callback)\u001b[0m\n\u001b[1;32m    206\u001b[0m \u001b[38;5;28;01mdef\u001b[39;00m \u001b[38;5;21mapply_async\u001b[39m(\u001b[38;5;28mself\u001b[39m, func, callback\u001b[38;5;241m=\u001b[39m\u001b[38;5;28;01mNone\u001b[39;00m):\n\u001b[1;32m    207\u001b[0m     \u001b[38;5;124;03m\"\"\"Schedule a func to be run\"\"\"\u001b[39;00m\n\u001b[0;32m--> 208\u001b[0m     result \u001b[38;5;241m=\u001b[39m \u001b[43mImmediateResult\u001b[49m\u001b[43m(\u001b[49m\u001b[43mfunc\u001b[49m\u001b[43m)\u001b[49m\n\u001b[1;32m    209\u001b[0m     \u001b[38;5;28;01mif\u001b[39;00m callback:\n\u001b[1;32m    210\u001b[0m         callback(result)\n",
      "File \u001b[0;32m/opt/homebrew/Caskroom/miniforge/base/envs/py3_base/lib/python3.8/site-packages/joblib/_parallel_backends.py:572\u001b[0m, in \u001b[0;36mImmediateResult.__init__\u001b[0;34m(self, batch)\u001b[0m\n\u001b[1;32m    569\u001b[0m \u001b[38;5;28;01mdef\u001b[39;00m \u001b[38;5;21m__init__\u001b[39m(\u001b[38;5;28mself\u001b[39m, batch):\n\u001b[1;32m    570\u001b[0m     \u001b[38;5;66;03m# Don't delay the application, to avoid keeping the input\u001b[39;00m\n\u001b[1;32m    571\u001b[0m     \u001b[38;5;66;03m# arguments in memory\u001b[39;00m\n\u001b[0;32m--> 572\u001b[0m     \u001b[38;5;28mself\u001b[39m\u001b[38;5;241m.\u001b[39mresults \u001b[38;5;241m=\u001b[39m \u001b[43mbatch\u001b[49m\u001b[43m(\u001b[49m\u001b[43m)\u001b[49m\n",
      "File \u001b[0;32m/opt/homebrew/Caskroom/miniforge/base/envs/py3_base/lib/python3.8/site-packages/joblib/parallel.py:262\u001b[0m, in \u001b[0;36mBatchedCalls.__call__\u001b[0;34m(self)\u001b[0m\n\u001b[1;32m    258\u001b[0m \u001b[38;5;28;01mdef\u001b[39;00m \u001b[38;5;21m__call__\u001b[39m(\u001b[38;5;28mself\u001b[39m):\n\u001b[1;32m    259\u001b[0m     \u001b[38;5;66;03m# Set the default nested backend to self._backend but do not set the\u001b[39;00m\n\u001b[1;32m    260\u001b[0m     \u001b[38;5;66;03m# change the default number of processes to -1\u001b[39;00m\n\u001b[1;32m    261\u001b[0m     \u001b[38;5;28;01mwith\u001b[39;00m parallel_backend(\u001b[38;5;28mself\u001b[39m\u001b[38;5;241m.\u001b[39m_backend, n_jobs\u001b[38;5;241m=\u001b[39m\u001b[38;5;28mself\u001b[39m\u001b[38;5;241m.\u001b[39m_n_jobs):\n\u001b[0;32m--> 262\u001b[0m         \u001b[38;5;28;01mreturn\u001b[39;00m [func(\u001b[38;5;241m*\u001b[39margs, \u001b[38;5;241m*\u001b[39m\u001b[38;5;241m*\u001b[39mkwargs)\n\u001b[1;32m    263\u001b[0m                 \u001b[38;5;28;01mfor\u001b[39;00m func, args, kwargs \u001b[38;5;129;01min\u001b[39;00m \u001b[38;5;28mself\u001b[39m\u001b[38;5;241m.\u001b[39mitems]\n",
      "File \u001b[0;32m/opt/homebrew/Caskroom/miniforge/base/envs/py3_base/lib/python3.8/site-packages/joblib/parallel.py:262\u001b[0m, in \u001b[0;36m<listcomp>\u001b[0;34m(.0)\u001b[0m\n\u001b[1;32m    258\u001b[0m \u001b[38;5;28;01mdef\u001b[39;00m \u001b[38;5;21m__call__\u001b[39m(\u001b[38;5;28mself\u001b[39m):\n\u001b[1;32m    259\u001b[0m     \u001b[38;5;66;03m# Set the default nested backend to self._backend but do not set the\u001b[39;00m\n\u001b[1;32m    260\u001b[0m     \u001b[38;5;66;03m# change the default number of processes to -1\u001b[39;00m\n\u001b[1;32m    261\u001b[0m     \u001b[38;5;28;01mwith\u001b[39;00m parallel_backend(\u001b[38;5;28mself\u001b[39m\u001b[38;5;241m.\u001b[39m_backend, n_jobs\u001b[38;5;241m=\u001b[39m\u001b[38;5;28mself\u001b[39m\u001b[38;5;241m.\u001b[39m_n_jobs):\n\u001b[0;32m--> 262\u001b[0m         \u001b[38;5;28;01mreturn\u001b[39;00m [\u001b[43mfunc\u001b[49m\u001b[43m(\u001b[49m\u001b[38;5;241;43m*\u001b[39;49m\u001b[43margs\u001b[49m\u001b[43m,\u001b[49m\u001b[43m \u001b[49m\u001b[38;5;241;43m*\u001b[39;49m\u001b[38;5;241;43m*\u001b[39;49m\u001b[43mkwargs\u001b[49m\u001b[43m)\u001b[49m\n\u001b[1;32m    263\u001b[0m                 \u001b[38;5;28;01mfor\u001b[39;00m func, args, kwargs \u001b[38;5;129;01min\u001b[39;00m \u001b[38;5;28mself\u001b[39m\u001b[38;5;241m.\u001b[39mitems]\n",
      "File \u001b[0;32m/opt/homebrew/Caskroom/miniforge/base/envs/py3_base/lib/python3.8/site-packages/sklearn/utils/fixes.py:216\u001b[0m, in \u001b[0;36m_FuncWrapper.__call__\u001b[0;34m(self, *args, **kwargs)\u001b[0m\n\u001b[1;32m    214\u001b[0m \u001b[38;5;28;01mdef\u001b[39;00m \u001b[38;5;21m__call__\u001b[39m(\u001b[38;5;28mself\u001b[39m, \u001b[38;5;241m*\u001b[39margs, \u001b[38;5;241m*\u001b[39m\u001b[38;5;241m*\u001b[39mkwargs):\n\u001b[1;32m    215\u001b[0m     \u001b[38;5;28;01mwith\u001b[39;00m config_context(\u001b[38;5;241m*\u001b[39m\u001b[38;5;241m*\u001b[39m\u001b[38;5;28mself\u001b[39m\u001b[38;5;241m.\u001b[39mconfig):\n\u001b[0;32m--> 216\u001b[0m         \u001b[38;5;28;01mreturn\u001b[39;00m \u001b[38;5;28;43mself\u001b[39;49m\u001b[38;5;241;43m.\u001b[39;49m\u001b[43mfunction\u001b[49m\u001b[43m(\u001b[49m\u001b[38;5;241;43m*\u001b[39;49m\u001b[43margs\u001b[49m\u001b[43m,\u001b[49m\u001b[43m \u001b[49m\u001b[38;5;241;43m*\u001b[39;49m\u001b[38;5;241;43m*\u001b[39;49m\u001b[43mkwargs\u001b[49m\u001b[43m)\u001b[49m\n",
      "File \u001b[0;32m/opt/homebrew/Caskroom/miniforge/base/envs/py3_base/lib/python3.8/site-packages/sklearn/ensemble/_forest.py:185\u001b[0m, in \u001b[0;36m_parallel_build_trees\u001b[0;34m(tree, forest, X, y, sample_weight, tree_idx, n_trees, verbose, class_weight, n_samples_bootstrap)\u001b[0m\n\u001b[1;32m    182\u001b[0m     \u001b[38;5;28;01melif\u001b[39;00m class_weight \u001b[38;5;241m==\u001b[39m \u001b[38;5;124m\"\u001b[39m\u001b[38;5;124mbalanced_subsample\u001b[39m\u001b[38;5;124m\"\u001b[39m:\n\u001b[1;32m    183\u001b[0m         curr_sample_weight \u001b[38;5;241m*\u001b[39m\u001b[38;5;241m=\u001b[39m compute_sample_weight(\u001b[38;5;124m\"\u001b[39m\u001b[38;5;124mbalanced\u001b[39m\u001b[38;5;124m\"\u001b[39m, y, indices\u001b[38;5;241m=\u001b[39mindices)\n\u001b[0;32m--> 185\u001b[0m     \u001b[43mtree\u001b[49m\u001b[38;5;241;43m.\u001b[39;49m\u001b[43mfit\u001b[49m\u001b[43m(\u001b[49m\u001b[43mX\u001b[49m\u001b[43m,\u001b[49m\u001b[43m \u001b[49m\u001b[43my\u001b[49m\u001b[43m,\u001b[49m\u001b[43m \u001b[49m\u001b[43msample_weight\u001b[49m\u001b[38;5;241;43m=\u001b[39;49m\u001b[43mcurr_sample_weight\u001b[49m\u001b[43m,\u001b[49m\u001b[43m \u001b[49m\u001b[43mcheck_input\u001b[49m\u001b[38;5;241;43m=\u001b[39;49m\u001b[38;5;28;43;01mFalse\u001b[39;49;00m\u001b[43m)\u001b[49m\n\u001b[1;32m    186\u001b[0m \u001b[38;5;28;01melse\u001b[39;00m:\n\u001b[1;32m    187\u001b[0m     tree\u001b[38;5;241m.\u001b[39mfit(X, y, sample_weight\u001b[38;5;241m=\u001b[39msample_weight, check_input\u001b[38;5;241m=\u001b[39m\u001b[38;5;28;01mFalse\u001b[39;00m)\n",
      "File \u001b[0;32m/opt/homebrew/Caskroom/miniforge/base/envs/py3_base/lib/python3.8/site-packages/sklearn/tree/_classes.py:1315\u001b[0m, in \u001b[0;36mDecisionTreeRegressor.fit\u001b[0;34m(self, X, y, sample_weight, check_input, X_idx_sorted)\u001b[0m\n\u001b[1;32m   1278\u001b[0m \u001b[38;5;28;01mdef\u001b[39;00m \u001b[38;5;21mfit\u001b[39m(\n\u001b[1;32m   1279\u001b[0m     \u001b[38;5;28mself\u001b[39m, X, y, sample_weight\u001b[38;5;241m=\u001b[39m\u001b[38;5;28;01mNone\u001b[39;00m, check_input\u001b[38;5;241m=\u001b[39m\u001b[38;5;28;01mTrue\u001b[39;00m, X_idx_sorted\u001b[38;5;241m=\u001b[39m\u001b[38;5;124m\"\u001b[39m\u001b[38;5;124mdeprecated\u001b[39m\u001b[38;5;124m\"\u001b[39m\n\u001b[1;32m   1280\u001b[0m ):\n\u001b[1;32m   1281\u001b[0m     \u001b[38;5;124;03m\"\"\"Build a decision tree regressor from the training set (X, y).\u001b[39;00m\n\u001b[1;32m   1282\u001b[0m \n\u001b[1;32m   1283\u001b[0m \u001b[38;5;124;03m    Parameters\u001b[39;00m\n\u001b[0;32m   (...)\u001b[0m\n\u001b[1;32m   1312\u001b[0m \u001b[38;5;124;03m        Fitted estimator.\u001b[39;00m\n\u001b[1;32m   1313\u001b[0m \u001b[38;5;124;03m    \"\"\"\u001b[39;00m\n\u001b[0;32m-> 1315\u001b[0m     \u001b[38;5;28;43msuper\u001b[39;49m\u001b[43m(\u001b[49m\u001b[43m)\u001b[49m\u001b[38;5;241;43m.\u001b[39;49m\u001b[43mfit\u001b[49m\u001b[43m(\u001b[49m\n\u001b[1;32m   1316\u001b[0m \u001b[43m        \u001b[49m\u001b[43mX\u001b[49m\u001b[43m,\u001b[49m\n\u001b[1;32m   1317\u001b[0m \u001b[43m        \u001b[49m\u001b[43my\u001b[49m\u001b[43m,\u001b[49m\n\u001b[1;32m   1318\u001b[0m \u001b[43m        \u001b[49m\u001b[43msample_weight\u001b[49m\u001b[38;5;241;43m=\u001b[39;49m\u001b[43msample_weight\u001b[49m\u001b[43m,\u001b[49m\n\u001b[1;32m   1319\u001b[0m \u001b[43m        \u001b[49m\u001b[43mcheck_input\u001b[49m\u001b[38;5;241;43m=\u001b[39;49m\u001b[43mcheck_input\u001b[49m\u001b[43m,\u001b[49m\n\u001b[1;32m   1320\u001b[0m \u001b[43m        \u001b[49m\u001b[43mX_idx_sorted\u001b[49m\u001b[38;5;241;43m=\u001b[39;49m\u001b[43mX_idx_sorted\u001b[49m\u001b[43m,\u001b[49m\n\u001b[1;32m   1321\u001b[0m \u001b[43m    \u001b[49m\u001b[43m)\u001b[49m\n\u001b[1;32m   1322\u001b[0m     \u001b[38;5;28;01mreturn\u001b[39;00m \u001b[38;5;28mself\u001b[39m\n",
      "File \u001b[0;32m/opt/homebrew/Caskroom/miniforge/base/envs/py3_base/lib/python3.8/site-packages/sklearn/tree/_classes.py:420\u001b[0m, in \u001b[0;36mBaseDecisionTree.fit\u001b[0;34m(self, X, y, sample_weight, check_input, X_idx_sorted)\u001b[0m\n\u001b[1;32m    409\u001b[0m \u001b[38;5;28;01melse\u001b[39;00m:\n\u001b[1;32m    410\u001b[0m     builder \u001b[38;5;241m=\u001b[39m BestFirstTreeBuilder(\n\u001b[1;32m    411\u001b[0m         splitter,\n\u001b[1;32m    412\u001b[0m         min_samples_split,\n\u001b[0;32m   (...)\u001b[0m\n\u001b[1;32m    417\u001b[0m         \u001b[38;5;28mself\u001b[39m\u001b[38;5;241m.\u001b[39mmin_impurity_decrease,\n\u001b[1;32m    418\u001b[0m     )\n\u001b[0;32m--> 420\u001b[0m \u001b[43mbuilder\u001b[49m\u001b[38;5;241;43m.\u001b[39;49m\u001b[43mbuild\u001b[49m\u001b[43m(\u001b[49m\u001b[38;5;28;43mself\u001b[39;49m\u001b[38;5;241;43m.\u001b[39;49m\u001b[43mtree_\u001b[49m\u001b[43m,\u001b[49m\u001b[43m \u001b[49m\u001b[43mX\u001b[49m\u001b[43m,\u001b[49m\u001b[43m \u001b[49m\u001b[43my\u001b[49m\u001b[43m,\u001b[49m\u001b[43m \u001b[49m\u001b[43msample_weight\u001b[49m\u001b[43m)\u001b[49m\n\u001b[1;32m    422\u001b[0m \u001b[38;5;28;01mif\u001b[39;00m \u001b[38;5;28mself\u001b[39m\u001b[38;5;241m.\u001b[39mn_outputs_ \u001b[38;5;241m==\u001b[39m \u001b[38;5;241m1\u001b[39m \u001b[38;5;129;01mand\u001b[39;00m is_classifier(\u001b[38;5;28mself\u001b[39m):\n\u001b[1;32m    423\u001b[0m     \u001b[38;5;28mself\u001b[39m\u001b[38;5;241m.\u001b[39mn_classes_ \u001b[38;5;241m=\u001b[39m \u001b[38;5;28mself\u001b[39m\u001b[38;5;241m.\u001b[39mn_classes_[\u001b[38;5;241m0\u001b[39m]\n",
      "\u001b[0;31mKeyboardInterrupt\u001b[0m: "
     ]
    }
   ],
   "source": [
    "from sklearn.ensemble import RandomForestRegressor\n",
    "regr = RandomForestRegressor(random_state=141)\n",
    "regr.fit(x_train_tf, y_train)\n",
    "x_pre_counts = count_vect.transform(x_test)\n",
    "x_pre_tf = tf_transformer.transform(x_pre_counts)\n",
    "y_pred = np.round(regr.predict(x_pre_tf),decimals=2)\n",
    "from sklearn.metrics import mean_squared_error, mean_absolute_error\n",
    "mse = mean_squared_error(y_test, y_pred)\n",
    "rmse = mean_squared_error(y_test, y_pred,squared=False)\n",
    "mae = mean_absolute_error(y_test,y_pred)\n",
    "print(\"Mean Square Error: {} \\nRoot Mean Squared Error: {} \\nMean Absolute Error: {} \".format(mse,rmse,mae))"
   ]
  },
  {
   "cell_type": "markdown",
   "id": "5f87645c",
   "metadata": {},
   "source": [
    "__Feature Importance__\n",
    "* This is based on the gini index from the random forest model"
   ]
  },
  {
   "cell_type": "code",
   "execution_count": null,
   "id": "0c2d9448",
   "metadata": {
    "scrolled": true
   },
   "outputs": [],
   "source": [
    "# features = [df_1.columns[i] for i in range(1,3)]\n",
    "# feature_importance_nums = regr.feature_importances_\n",
    "# feature_importance_df = pd.DataFrame(feature_importance_nums).transpose()\n",
    "# feature_importance_df.columns = features\n",
    "# feature_importance_df.head()"
   ]
  },
  {
   "cell_type": "markdown",
   "id": "86839a72",
   "metadata": {},
   "source": [
    "__Lasso Regression__"
   ]
  },
  {
   "cell_type": "code",
   "execution_count": 202,
   "id": "469d0933",
   "metadata": {},
   "outputs": [
    {
     "name": "stdout",
     "output_type": "stream",
     "text": [
      "Mean Square Error: 0.06716260281484189 \n",
      "Root Mean Squared Error: 0.2591574865112754 \n",
      "Mean Absolute Error: 0.21922683238895996 \n"
     ]
    }
   ],
   "source": [
    "from sklearn.linear_model import Lasso\n",
    "lr = Lasso(alpha=0.5)\n",
    "lr.fit(x_train_tf, y_train)\n",
    "x_pre_counts = count_vect.transform(x_test)\n",
    "x_pre_tf = tf_transformer.transform(x_pre_counts)\n",
    "y_pred = np.round(lr.predict(x_pre_tf),decimals=2)\n",
    "mse = mean_squared_error(y_test, y_pred)\n",
    "rmse = mean_squared_error(y_test, y_pred,squared=False)\n",
    "mae = mean_absolute_error(y_test,y_pred)\n",
    "print(\"Mean Square Error: {} \\nRoot Mean Squared Error: {} \\nMean Absolute Error: {} \".format(mse,rmse,mae))"
   ]
  },
  {
   "cell_type": "markdown",
   "id": "5d07ac68",
   "metadata": {},
   "source": [
    "__Prediction Submission__\n",
    "* Will be used later for competition"
   ]
  },
  {
   "cell_type": "code",
   "execution_count": null,
   "id": "4e3e1c54",
   "metadata": {},
   "outputs": [],
   "source": [
    "# pd.read_csv(\"sample_submission.csv\").head()\n",
    "\n",
    "# df_final.head()\n",
    "\n",
    "# df_final.to_csv(\"Michael_Woo_Submission.csv\",index=False)\n",
    "\n",
    "# pd.read_csv(\"Michael_Woo_Submission.csv\")"
   ]
  },
  {
   "cell_type": "code",
   "execution_count": null,
   "id": "639a3acf",
   "metadata": {},
   "outputs": [],
   "source": []
  }
 ],
 "metadata": {
  "kernelspec": {
   "display_name": "Python 3 (ipykernel)",
   "language": "python",
   "name": "python3"
  },
  "language_info": {
   "codemirror_mode": {
    "name": "ipython",
    "version": 3
   },
   "file_extension": ".py",
   "mimetype": "text/x-python",
   "name": "python",
   "nbconvert_exporter": "python",
   "pygments_lexer": "ipython3",
   "version": "3.8.12"
  }
 },
 "nbformat": 4,
 "nbformat_minor": 5
}
