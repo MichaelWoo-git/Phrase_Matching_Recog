{
 "cells": [
  {
   "cell_type": "markdown",
   "id": "86232535",
   "metadata": {},
   "source": [
    "## Todo 04/12/2022\n",
    "\n",
    "1. Need to figure out a way to account for words that have never been seen before\n",
    "    * So we need to figure out a way to bin words that are similar to each other\n",
    "    * here is what we can do: https://www.analyticsvidhya.com/blog/2020/05/what-is-tokenization-nlp/\n",
    "    * https://neptune.ai/blog/wasserstein-distance-and-textual-similarity\n",
    "    * Remove stop words (preprocessing)\n",
    "    * "
   ]
  },
  {
   "cell_type": "markdown",
   "id": "ea4d9b4a",
   "metadata": {},
   "source": [
    "__Imports__"
   ]
  },
  {
   "cell_type": "code",
   "execution_count": 202,
   "id": "3af5ed51",
   "metadata": {},
   "outputs": [],
   "source": [
    "import pandas as pd\n",
    "import numpy as np\n",
    "from sklearn.preprocessing import LabelEncoder\n",
    "from sklearn.model_selection import train_test_split\n",
    "import nltk\n",
    "from nltk.tokenize import word_tokenize\n",
    "#nltk.download()"
   ]
  },
  {
   "cell_type": "markdown",
   "id": "b6b0ce0b",
   "metadata": {},
   "source": [
    "__Read in Data__"
   ]
  },
  {
   "cell_type": "code",
   "execution_count": 203,
   "id": "eca625d9",
   "metadata": {
    "scrolled": true
   },
   "outputs": [
    {
     "name": "stdout",
     "output_type": "stream",
     "text": [
      "                 id     anchor                  target context  score\n",
      "0  37d61fd2272659b1  abatement  abatement of pollution     A47   0.50\n",
      "1  7b9652b17b68b7a4  abatement          act of abating     A47   0.75\n",
      "2  36d72442aefd8232  abatement         active catalyst     A47   0.25\n",
      "3  5296b0c19e1ce60e  abatement     eliminating process     A47   0.50\n",
      "4  54c1e3b9184cb5b6  abatement           forest region     A47   0.00\n"
     ]
    }
   ],
   "source": [
    "df_1 = pd.read_csv(\"data/train.csv\")\n",
    "print(df_1.head())"
   ]
  },
  {
   "cell_type": "code",
   "execution_count": 204,
   "id": "4378a096",
   "metadata": {
    "scrolled": true
   },
   "outputs": [
    {
     "name": "stdout",
     "output_type": "stream",
     "text": [
      "              score\n",
      "count  36473.000000\n",
      "mean       0.362062\n",
      "std        0.258335\n",
      "min        0.000000\n",
      "25%        0.250000\n",
      "50%        0.250000\n",
      "75%        0.500000\n",
      "max        1.000000\n"
     ]
    }
   ],
   "source": [
    "print(df_1.describe())"
   ]
  },
  {
   "cell_type": "code",
   "execution_count": 205,
   "id": "42f5c48c",
   "metadata": {},
   "outputs": [
    {
     "name": "stdout",
     "output_type": "stream",
     "text": [
      "id         False\n",
      "anchor     False\n",
      "target     False\n",
      "context    False\n",
      "score      False\n",
      "dtype: bool\n"
     ]
    }
   ],
   "source": [
    "print(df_1.isnull().any())"
   ]
  },
  {
   "cell_type": "markdown",
   "id": "4c7cbe60",
   "metadata": {},
   "source": [
    "__This is the amount of words in each row with respect to the column__\n",
    "* Must be applied to anchor and target"
   ]
  },
  {
   "cell_type": "markdown",
   "id": "3d4d6035",
   "metadata": {},
   "source": [
    "These are the unique amount of words in __anchor__ column"
   ]
  },
  {
   "cell_type": "code",
   "execution_count": 206,
   "id": "cd2e5c25",
   "metadata": {},
   "outputs": [
    {
     "name": "stdout",
     "output_type": "stream",
     "text": [
      "[1 2 3 4 5]\n"
     ]
    }
   ],
   "source": [
    "print(np.unique(np.array(df_1['anchor'].apply(lambda x : len(x.split())))))"
   ]
  },
  {
   "cell_type": "markdown",
   "id": "67c67db1",
   "metadata": {},
   "source": [
    "These are the unique amount of words in __target__ column"
   ]
  },
  {
   "cell_type": "code",
   "execution_count": 207,
   "id": "fa585e91",
   "metadata": {},
   "outputs": [
    {
     "name": "stdout",
     "output_type": "stream",
     "text": [
      "[ 1  2  3  4  5  6  7  8  9 10 11 12 13 15]\n"
     ]
    }
   ],
   "source": [
    "print(np.unique(np.array(df_1['target'].apply(lambda x : len(x.split())))))"
   ]
  },
  {
   "cell_type": "markdown",
   "id": "7e896b0a",
   "metadata": {},
   "source": [
    "We can probably drop __context__ because its a label"
   ]
  },
  {
   "cell_type": "code",
   "execution_count": 208,
   "id": "c0b90f4e",
   "metadata": {
    "scrolled": true
   },
   "outputs": [
    {
     "name": "stdout",
     "output_type": "stream",
     "text": [
      "[1]\n"
     ]
    }
   ],
   "source": [
    "print(np.unique(np.array(df_1['context'].apply(lambda x : len(x.split())))))"
   ]
  },
  {
   "cell_type": "markdown",
   "id": "e59c8e8a",
   "metadata": {},
   "source": [
    "__Tokenization__"
   ]
  },
  {
   "cell_type": "code",
   "execution_count": 209,
   "id": "3466058d",
   "metadata": {},
   "outputs": [],
   "source": [
    "from nltk.tokenize import word_tokenize\n",
    "df_1['target'] = df_1['target'].apply(lambda x : word_tokenize(x))\n",
    "df_1['anchor'] = df_1['anchor'].apply(lambda x : word_tokenize(x))"
   ]
  },
  {
   "cell_type": "code",
   "execution_count": 210,
   "id": "a75c77a1",
   "metadata": {},
   "outputs": [
    {
     "name": "stdout",
     "output_type": "stream",
     "text": [
      "                 id       anchor                      target context  score\n",
      "0  37d61fd2272659b1  [abatement]  [abatement, of, pollution]     A47   0.50\n",
      "1  7b9652b17b68b7a4  [abatement]          [act, of, abating]     A47   0.75\n",
      "2  36d72442aefd8232  [abatement]          [active, catalyst]     A47   0.25\n",
      "3  5296b0c19e1ce60e  [abatement]      [eliminating, process]     A47   0.50\n",
      "4  54c1e3b9184cb5b6  [abatement]            [forest, region]     A47   0.00\n"
     ]
    }
   ],
   "source": [
    "print(df_1.head())"
   ]
  },
  {
   "cell_type": "markdown",
   "id": "99099c08",
   "metadata": {},
   "source": [
    "__Stopwords Removal__"
   ]
  },
  {
   "cell_type": "code",
   "execution_count": 211,
   "id": "65e47800",
   "metadata": {},
   "outputs": [],
   "source": [
    "from nltk.corpus import stopwords\n",
    "stop_words = set(stopwords.words('english'))\n",
    "df_1['target'] = df_1['target'].apply(lambda x : [w for w in x if not w in stop_words])\n",
    "df_1['anchor'] = df_1['anchor'].apply(lambda x : [w for w in x if not w in stop_words])"
   ]
  },
  {
   "cell_type": "code",
   "execution_count": 212,
   "id": "756f8d9e",
   "metadata": {},
   "outputs": [
    {
     "name": "stdout",
     "output_type": "stream",
     "text": [
      "                 id       anchor                  target context  score\n",
      "0  37d61fd2272659b1  [abatement]  [abatement, pollution]     A47   0.50\n",
      "1  7b9652b17b68b7a4  [abatement]          [act, abating]     A47   0.75\n",
      "2  36d72442aefd8232  [abatement]      [active, catalyst]     A47   0.25\n",
      "3  5296b0c19e1ce60e  [abatement]  [eliminating, process]     A47   0.50\n",
      "4  54c1e3b9184cb5b6  [abatement]        [forest, region]     A47   0.00\n"
     ]
    }
   ],
   "source": [
    "print(df_1.head())"
   ]
  },
  {
   "cell_type": "markdown",
   "id": "a0ba7445",
   "metadata": {},
   "source": [
    "__Stemming__"
   ]
  },
  {
   "cell_type": "code",
   "execution_count": 213,
   "id": "9dad7a01",
   "metadata": {},
   "outputs": [],
   "source": [
    "from nltk.stem.snowball import SnowballStemmer\n",
    "snowBallStemmer = SnowballStemmer(\"english\")\n",
    "df_1['target'] = df_1['target'].apply(lambda x : [snowBallStemmer.stem(word) for word in x])\n",
    "df_1['anchor'] = df_1['anchor'].apply(lambda x: [snowBallStemmer.stem(word) for word in x])"
   ]
  },
  {
   "cell_type": "code",
   "execution_count": 214,
   "id": "5eb4af99",
   "metadata": {},
   "outputs": [
    {
     "name": "stdout",
     "output_type": "stream",
     "text": [
      "                 id  anchor             target context  score\n",
      "0  37d61fd2272659b1  [abat]     [abat, pollut]     A47   0.50\n",
      "1  7b9652b17b68b7a4  [abat]        [act, abat]     A47   0.75\n",
      "2  36d72442aefd8232  [abat]  [activ, catalyst]     A47   0.25\n",
      "3  5296b0c19e1ce60e  [abat]  [elimin, process]     A47   0.50\n",
      "4  54c1e3b9184cb5b6  [abat]   [forest, region]     A47   0.00\n"
     ]
    }
   ],
   "source": [
    "print(df_1.head())"
   ]
  },
  {
   "cell_type": "markdown",
   "id": "149808d5",
   "metadata": {},
   "source": [
    "__Need to convert array to just strings__"
   ]
  },
  {
   "cell_type": "code",
   "execution_count": 215,
   "id": "3478312b",
   "metadata": {},
   "outputs": [],
   "source": [
    "df_1['anchor'] = df_1['anchor'].apply(lambda x : ','.join(map(str,x)))\n",
    "df_1['target'] = df_1['target'].apply(lambda x : ','.join(map(str,x)))"
   ]
  },
  {
   "cell_type": "code",
   "execution_count": 216,
   "id": "35e5a075",
   "metadata": {
    "scrolled": true
   },
   "outputs": [
    {
     "name": "stdout",
     "output_type": "stream",
     "text": [
      "                 id anchor          target context  score\n",
      "0  37d61fd2272659b1   abat     abat,pollut     A47   0.50\n",
      "1  7b9652b17b68b7a4   abat        act,abat     A47   0.75\n",
      "2  36d72442aefd8232   abat  activ,catalyst     A47   0.25\n",
      "3  5296b0c19e1ce60e   abat  elimin,process     A47   0.50\n",
      "4  54c1e3b9184cb5b6   abat   forest,region     A47   0.00\n"
     ]
    }
   ],
   "source": [
    "print(df_1.head())"
   ]
  },
  {
   "cell_type": "markdown",
   "id": "db1f0f6f",
   "metadata": {},
   "source": [
    "These the the unique words in the __anchor__ column 10 are shown below"
   ]
  },
  {
   "cell_type": "code",
   "execution_count": 217,
   "id": "a7269653",
   "metadata": {},
   "outputs": [
    {
     "name": "stdout",
     "output_type": "stream",
     "text": [
      "['abat' 'abnorm,posit' 'absorb,properti' 'acan' 'accept,inform'\n",
      " 'achiev,authent' 'acid,absorpt' 'ack' 'acoustoopt,modul' 'acryl,group']\n"
     ]
    }
   ],
   "source": [
    "print(np.unique(np.array(df_1['anchor']))[:10])"
   ]
  },
  {
   "cell_type": "markdown",
   "id": "c5f640a4",
   "metadata": {},
   "source": [
    "These the the unique words in the __target__ column 10 are shown below"
   ]
  },
  {
   "cell_type": "code",
   "execution_count": 218,
   "id": "020f2734",
   "metadata": {
    "scrolled": true
   },
   "outputs": [
    {
     "name": "stdout",
     "output_type": "stream",
     "text": [
      "['' '1,amino,2,methoxyethan' '1,azabicyclo' '1,bromopropan'\n",
      " '1,methoxi,2,aminoethan' '10,bit,dac' '111444,hexafluoro,2,buten'\n",
      " '12,dibromopropan' '120,degre,interv' '12cao7al2o3']\n"
     ]
    }
   ],
   "source": [
    "print(np.unique(np.array(df_1['target']))[:10])"
   ]
  },
  {
   "cell_type": "markdown",
   "id": "94f4add5",
   "metadata": {},
   "source": [
    "We have the issue of words going together, we need to seperate these so we can\n",
    "we need to seperate the lengths"
   ]
  },
  {
   "cell_type": "code",
   "execution_count": 219,
   "id": "552ee9b8",
   "metadata": {},
   "outputs": [],
   "source": [
    "anchor_set = set()\n",
    "target_set = set()"
   ]
  },
  {
   "cell_type": "code",
   "execution_count": 220,
   "id": "8a440cdd",
   "metadata": {},
   "outputs": [],
   "source": [
    "def separator_anchor(arr):\n",
    "    for i in arr:\n",
    "        anchor_set.add(i)"
   ]
  },
  {
   "cell_type": "code",
   "execution_count": 221,
   "id": "0f6aaa72",
   "metadata": {},
   "outputs": [],
   "source": [
    "def separator_target(arr):\n",
    "    for i in arr:\n",
    "        target_set.add(i)"
   ]
  },
  {
   "cell_type": "code",
   "execution_count": 222,
   "id": "2aa15f7a",
   "metadata": {},
   "outputs": [],
   "source": [
    "df_1['anchor'] = df_1['anchor'].apply(lambda x: x.split(','))\n",
    "df_1['target'] = df_1['target'].apply(lambda x: x.split(','))"
   ]
  },
  {
   "cell_type": "code",
   "execution_count": 223,
   "id": "2a3d87bd",
   "metadata": {},
   "outputs": [
    {
     "data": {
      "text/plain": [
       "0        None\n",
       "1        None\n",
       "2        None\n",
       "3        None\n",
       "4        None\n",
       "         ... \n",
       "36468    None\n",
       "36469    None\n",
       "36470    None\n",
       "36471    None\n",
       "36472    None\n",
       "Name: target, Length: 36473, dtype: object"
      ]
     },
     "execution_count": 223,
     "metadata": {},
     "output_type": "execute_result"
    }
   ],
   "source": [
    "df_1['anchor'].apply(lambda x: separator_anchor(x))\n",
    "df_1['target'].apply(lambda x: separator_target(x))"
   ]
  },
  {
   "cell_type": "markdown",
   "id": "dc0ea4a3",
   "metadata": {},
   "source": [
    "__list comprehension__"
   ]
  },
  {
   "cell_type": "code",
   "execution_count": 224,
   "id": "009b642b",
   "metadata": {},
   "outputs": [],
   "source": [
    "anchor_arr = [i for i in anchor_set]\n",
    "target_arr = [i for i in target_set]"
   ]
  },
  {
   "cell_type": "markdown",
   "id": "28990339",
   "metadata": {},
   "source": [
    "__Label Encoding__"
   ]
  },
  {
   "cell_type": "code",
   "execution_count": 225,
   "id": "f2d5baa5",
   "metadata": {},
   "outputs": [
    {
     "data": {
      "text/plain": [
       "LabelEncoder()"
      ]
     },
     "execution_count": 225,
     "metadata": {},
     "output_type": "execute_result"
    }
   ],
   "source": [
    "labelencoder_anchor = LabelEncoder()\n",
    "labelencoder_anchor.fit(anchor_arr)\n",
    "labelencoder_target = LabelEncoder()\n",
    "labelencoder_target.fit(target_arr)"
   ]
  },
  {
   "cell_type": "code",
   "execution_count": 226,
   "id": "e1a853bc",
   "metadata": {},
   "outputs": [],
   "source": [
    "def encoding_anchor(arr):\n",
    "    temp = []\n",
    "    if len(arr) < 2:\n",
    "        for i in arr:\n",
    "            #print(labelencoder_anchor.transform([i]))\n",
    "            return labelencoder_anchor.transform([i])\n",
    "    if len(arr) > 1:\n",
    "        for i in arr:\n",
    "            #print(labelencoder_anchor.transform([i]))\n",
    "            temp.extend(labelencoder_anchor.transform([i]))\n",
    "        return temp"
   ]
  },
  {
   "cell_type": "code",
   "execution_count": 227,
   "id": "c6389f21",
   "metadata": {},
   "outputs": [],
   "source": [
    "def encoding_target(arr):\n",
    "    temp = []\n",
    "    if len(arr) < 2:\n",
    "        for i in arr:\n",
    "            #print(labelencoder_anchor.transform([i]))\n",
    "            return labelencoder_target.transform([i])\n",
    "    if len(arr) > 1:\n",
    "        for i in arr:\n",
    "            #print(labelencoder_anchor.transform([i]))\n",
    "            temp.extend(labelencoder_target.transform([i]))\n",
    "        return temp"
   ]
  },
  {
   "cell_type": "code",
   "execution_count": 228,
   "id": "2100e98e",
   "metadata": {},
   "outputs": [
    {
     "name": "stdout",
     "output_type": "stream",
     "text": [
      "encoding anchor\n"
     ]
    }
   ],
   "source": [
    "print(\"encoding anchor\")"
   ]
  },
  {
   "cell_type": "code",
   "execution_count": 229,
   "id": "f0af8d73",
   "metadata": {},
   "outputs": [],
   "source": [
    "df_1['anchor'] = df_1['anchor'].apply(lambda x: encoding_anchor(x))"
   ]
  },
  {
   "cell_type": "code",
   "execution_count": 230,
   "id": "a621ba16",
   "metadata": {},
   "outputs": [
    {
     "name": "stdout",
     "output_type": "stream",
     "text": [
      "encoding target\n"
     ]
    }
   ],
   "source": [
    "print(\"encoding target\")"
   ]
  },
  {
   "cell_type": "code",
   "execution_count": 231,
   "id": "4628a52b",
   "metadata": {},
   "outputs": [],
   "source": [
    "df_1['target'] = df_1['target'].apply(lambda x: encoding_target(x))"
   ]
  },
  {
   "cell_type": "code",
   "execution_count": 232,
   "id": "eda81097",
   "metadata": {},
   "outputs": [
    {
     "name": "stdout",
     "output_type": "stream",
     "text": [
      "                 id anchor        target context  score\n",
      "0  37d61fd2272659b1    [0]    [35, 4113]     A47   0.50\n",
      "1  7b9652b17b68b7a4    [0]      [84, 35]     A47   0.75\n",
      "2  36d72442aefd8232    [0]     [86, 852]     A47   0.25\n",
      "3  5296b0c19e1ce60e    [0]  [1798, 4260]     A47   0.50\n",
      "4  54c1e3b9184cb5b6    [0]  [2177, 4500]     A47   0.00\n"
     ]
    }
   ],
   "source": [
    "print(df_1.head())"
   ]
  },
  {
   "cell_type": "code",
   "execution_count": 233,
   "id": "b53e898f",
   "metadata": {},
   "outputs": [
    {
     "data": {
      "text/html": [
       "<div>\n",
       "<style scoped>\n",
       "    .dataframe tbody tr th:only-of-type {\n",
       "        vertical-align: middle;\n",
       "    }\n",
       "\n",
       "    .dataframe tbody tr th {\n",
       "        vertical-align: top;\n",
       "    }\n",
       "\n",
       "    .dataframe thead th {\n",
       "        text-align: right;\n",
       "    }\n",
       "</style>\n",
       "<table border=\"1\" class=\"dataframe\">\n",
       "  <thead>\n",
       "    <tr style=\"text-align: right;\">\n",
       "      <th></th>\n",
       "      <th>id</th>\n",
       "      <th>anchor</th>\n",
       "      <th>target</th>\n",
       "      <th>context</th>\n",
       "      <th>score</th>\n",
       "    </tr>\n",
       "  </thead>\n",
       "  <tbody>\n",
       "    <tr>\n",
       "      <th>0</th>\n",
       "      <td>37d61fd2272659b1</td>\n",
       "      <td>[0]</td>\n",
       "      <td>[35, 4113]</td>\n",
       "      <td>A47</td>\n",
       "      <td>0.50</td>\n",
       "    </tr>\n",
       "    <tr>\n",
       "      <th>1</th>\n",
       "      <td>7b9652b17b68b7a4</td>\n",
       "      <td>[0]</td>\n",
       "      <td>[84, 35]</td>\n",
       "      <td>A47</td>\n",
       "      <td>0.75</td>\n",
       "    </tr>\n",
       "    <tr>\n",
       "      <th>2</th>\n",
       "      <td>36d72442aefd8232</td>\n",
       "      <td>[0]</td>\n",
       "      <td>[86, 852]</td>\n",
       "      <td>A47</td>\n",
       "      <td>0.25</td>\n",
       "    </tr>\n",
       "    <tr>\n",
       "      <th>3</th>\n",
       "      <td>5296b0c19e1ce60e</td>\n",
       "      <td>[0]</td>\n",
       "      <td>[1798, 4260]</td>\n",
       "      <td>A47</td>\n",
       "      <td>0.50</td>\n",
       "    </tr>\n",
       "    <tr>\n",
       "      <th>4</th>\n",
       "      <td>54c1e3b9184cb5b6</td>\n",
       "      <td>[0]</td>\n",
       "      <td>[2177, 4500]</td>\n",
       "      <td>A47</td>\n",
       "      <td>0.00</td>\n",
       "    </tr>\n",
       "  </tbody>\n",
       "</table>\n",
       "</div>"
      ],
      "text/plain": [
       "                 id anchor        target context  score\n",
       "0  37d61fd2272659b1    [0]    [35, 4113]     A47   0.50\n",
       "1  7b9652b17b68b7a4    [0]      [84, 35]     A47   0.75\n",
       "2  36d72442aefd8232    [0]     [86, 852]     A47   0.25\n",
       "3  5296b0c19e1ce60e    [0]  [1798, 4260]     A47   0.50\n",
       "4  54c1e3b9184cb5b6    [0]  [2177, 4500]     A47   0.00"
      ]
     },
     "execution_count": 233,
     "metadata": {},
     "output_type": "execute_result"
    }
   ],
   "source": [
    "df_1.head()"
   ]
  },
  {
   "cell_type": "markdown",
   "id": "af6c825a",
   "metadata": {},
   "source": [
    "5 words max is anchor\n",
    "15 words max is target"
   ]
  },
  {
   "cell_type": "code",
   "execution_count": 343,
   "id": "0e082777",
   "metadata": {},
   "outputs": [],
   "source": [
    "l1 = []\n",
    "l2 = []\n",
    "l3 = []\n",
    "l4 = []\n",
    "l5 = []\n",
    "\n",
    "for i in np.array(df_1['anchor']):\n",
    "    if len(i) == 1:\n",
    "        l1.append(i[0])\n",
    "        l2.append(np.nan)\n",
    "        l3.append(np.nan)\n",
    "        l4.append(np.nan)\n",
    "        l5.append(np.nan)\n",
    "    if len(i) == 2:\n",
    "        l1.append(i[0])\n",
    "        l2.append(i[1])\n",
    "        l3.append(np.nan)\n",
    "        l4.append(np.nan)\n",
    "        l5.append(np.nan)\n",
    "    if len(i) == 3:\n",
    "        l1.append(i[0])\n",
    "        l2.append(i[1])\n",
    "        l3.append(i[2])\n",
    "        l4.append(np.nan)\n",
    "        l5.append(np.nan)\n",
    "    if len(i) == 4:\n",
    "        l1.append(i[0])\n",
    "        l2.append(i[1])\n",
    "        l3.append(i[2])\n",
    "        l4.append(i[3])\n",
    "        l5.append(np.nan)\n",
    "    if len(i) == 5:\n",
    "        l1.append(i[0])\n",
    "        l2.append(i[1])\n",
    "        l3.append(i[2])\n",
    "        l4.append(i[3])\n",
    "        l5.append(i[4])"
   ]
  },
  {
   "cell_type": "code",
   "execution_count": 348,
   "id": "706ef618",
   "metadata": {},
   "outputs": [],
   "source": [
    "df_1['anchor_1'] = np.array(l1)\n",
    "df_1['anchor_2'] = np.array(l2)\n",
    "df_1['anchor_3'] = np.array(l3)\n",
    "df_1['anchor_4'] = np.array(l4)\n",
    "df_1['anchor_5'] = np.array(l5)"
   ]
  },
  {
   "cell_type": "code",
   "execution_count": 349,
   "id": "ca1f866a",
   "metadata": {},
   "outputs": [
    {
     "data": {
      "text/html": [
       "<div>\n",
       "<style scoped>\n",
       "    .dataframe tbody tr th:only-of-type {\n",
       "        vertical-align: middle;\n",
       "    }\n",
       "\n",
       "    .dataframe tbody tr th {\n",
       "        vertical-align: top;\n",
       "    }\n",
       "\n",
       "    .dataframe thead th {\n",
       "        text-align: right;\n",
       "    }\n",
       "</style>\n",
       "<table border=\"1\" class=\"dataframe\">\n",
       "  <thead>\n",
       "    <tr style=\"text-align: right;\">\n",
       "      <th></th>\n",
       "      <th>id</th>\n",
       "      <th>anchor</th>\n",
       "      <th>target</th>\n",
       "      <th>context</th>\n",
       "      <th>score</th>\n",
       "      <th>anchor_1</th>\n",
       "      <th>anchor_2</th>\n",
       "      <th>anchor_3</th>\n",
       "      <th>anchor_4</th>\n",
       "      <th>anchor_5</th>\n",
       "    </tr>\n",
       "  </thead>\n",
       "  <tbody>\n",
       "    <tr>\n",
       "      <th>0</th>\n",
       "      <td>37d61fd2272659b1</td>\n",
       "      <td>[0]</td>\n",
       "      <td>[35, 4113]</td>\n",
       "      <td>A47</td>\n",
       "      <td>0.50</td>\n",
       "      <td>0</td>\n",
       "      <td>NaN</td>\n",
       "      <td>NaN</td>\n",
       "      <td>NaN</td>\n",
       "      <td>NaN</td>\n",
       "    </tr>\n",
       "    <tr>\n",
       "      <th>1</th>\n",
       "      <td>7b9652b17b68b7a4</td>\n",
       "      <td>[0]</td>\n",
       "      <td>[84, 35]</td>\n",
       "      <td>A47</td>\n",
       "      <td>0.75</td>\n",
       "      <td>0</td>\n",
       "      <td>NaN</td>\n",
       "      <td>NaN</td>\n",
       "      <td>NaN</td>\n",
       "      <td>NaN</td>\n",
       "    </tr>\n",
       "    <tr>\n",
       "      <th>2</th>\n",
       "      <td>36d72442aefd8232</td>\n",
       "      <td>[0]</td>\n",
       "      <td>[86, 852]</td>\n",
       "      <td>A47</td>\n",
       "      <td>0.25</td>\n",
       "      <td>0</td>\n",
       "      <td>NaN</td>\n",
       "      <td>NaN</td>\n",
       "      <td>NaN</td>\n",
       "      <td>NaN</td>\n",
       "    </tr>\n",
       "    <tr>\n",
       "      <th>3</th>\n",
       "      <td>5296b0c19e1ce60e</td>\n",
       "      <td>[0]</td>\n",
       "      <td>[1798, 4260]</td>\n",
       "      <td>A47</td>\n",
       "      <td>0.50</td>\n",
       "      <td>0</td>\n",
       "      <td>NaN</td>\n",
       "      <td>NaN</td>\n",
       "      <td>NaN</td>\n",
       "      <td>NaN</td>\n",
       "    </tr>\n",
       "    <tr>\n",
       "      <th>4</th>\n",
       "      <td>54c1e3b9184cb5b6</td>\n",
       "      <td>[0]</td>\n",
       "      <td>[2177, 4500]</td>\n",
       "      <td>A47</td>\n",
       "      <td>0.00</td>\n",
       "      <td>0</td>\n",
       "      <td>NaN</td>\n",
       "      <td>NaN</td>\n",
       "      <td>NaN</td>\n",
       "      <td>NaN</td>\n",
       "    </tr>\n",
       "    <tr>\n",
       "      <th>...</th>\n",
       "      <td>...</td>\n",
       "      <td>...</td>\n",
       "      <td>...</td>\n",
       "      <td>...</td>\n",
       "      <td>...</td>\n",
       "      <td>...</td>\n",
       "      <td>...</td>\n",
       "      <td>...</td>\n",
       "      <td>...</td>\n",
       "      <td>...</td>\n",
       "    </tr>\n",
       "    <tr>\n",
       "      <th>36468</th>\n",
       "      <td>8e1386cbefd7f245</td>\n",
       "      <td>[935, 65]</td>\n",
       "      <td>[6035, 352]</td>\n",
       "      <td>B44</td>\n",
       "      <td>1.00</td>\n",
       "      <td>935</td>\n",
       "      <td>65.0</td>\n",
       "      <td>NaN</td>\n",
       "      <td>NaN</td>\n",
       "      <td>NaN</td>\n",
       "    </tr>\n",
       "    <tr>\n",
       "      <th>36469</th>\n",
       "      <td>42d9e032d1cd3242</td>\n",
       "      <td>[935, 65]</td>\n",
       "      <td>[6035, 667]</td>\n",
       "      <td>B44</td>\n",
       "      <td>0.50</td>\n",
       "      <td>935</td>\n",
       "      <td>65.0</td>\n",
       "      <td>NaN</td>\n",
       "      <td>NaN</td>\n",
       "      <td>NaN</td>\n",
       "    </tr>\n",
       "    <tr>\n",
       "      <th>36470</th>\n",
       "      <td>208654ccb9e14fa3</td>\n",
       "      <td>[935, 65]</td>\n",
       "      <td>[6035, 2431]</td>\n",
       "      <td>B44</td>\n",
       "      <td>0.50</td>\n",
       "      <td>935</td>\n",
       "      <td>65.0</td>\n",
       "      <td>NaN</td>\n",
       "      <td>NaN</td>\n",
       "      <td>NaN</td>\n",
       "    </tr>\n",
       "    <tr>\n",
       "      <th>36471</th>\n",
       "      <td>756ec035e694722b</td>\n",
       "      <td>[935, 65]</td>\n",
       "      <td>[6035, 3259]</td>\n",
       "      <td>B44</td>\n",
       "      <td>0.75</td>\n",
       "      <td>935</td>\n",
       "      <td>65.0</td>\n",
       "      <td>NaN</td>\n",
       "      <td>NaN</td>\n",
       "      <td>NaN</td>\n",
       "    </tr>\n",
       "    <tr>\n",
       "      <th>36472</th>\n",
       "      <td>8d135da0b55b8c88</td>\n",
       "      <td>[935, 65]</td>\n",
       "      <td>[6035, 5253]</td>\n",
       "      <td>B44</td>\n",
       "      <td>0.50</td>\n",
       "      <td>935</td>\n",
       "      <td>65.0</td>\n",
       "      <td>NaN</td>\n",
       "      <td>NaN</td>\n",
       "      <td>NaN</td>\n",
       "    </tr>\n",
       "  </tbody>\n",
       "</table>\n",
       "<p>36473 rows × 10 columns</p>\n",
       "</div>"
      ],
      "text/plain": [
       "                     id     anchor        target context  score  anchor_1  \\\n",
       "0      37d61fd2272659b1        [0]    [35, 4113]     A47   0.50         0   \n",
       "1      7b9652b17b68b7a4        [0]      [84, 35]     A47   0.75         0   \n",
       "2      36d72442aefd8232        [0]     [86, 852]     A47   0.25         0   \n",
       "3      5296b0c19e1ce60e        [0]  [1798, 4260]     A47   0.50         0   \n",
       "4      54c1e3b9184cb5b6        [0]  [2177, 4500]     A47   0.00         0   \n",
       "...                 ...        ...           ...     ...    ...       ...   \n",
       "36468  8e1386cbefd7f245  [935, 65]   [6035, 352]     B44   1.00       935   \n",
       "36469  42d9e032d1cd3242  [935, 65]   [6035, 667]     B44   0.50       935   \n",
       "36470  208654ccb9e14fa3  [935, 65]  [6035, 2431]     B44   0.50       935   \n",
       "36471  756ec035e694722b  [935, 65]  [6035, 3259]     B44   0.75       935   \n",
       "36472  8d135da0b55b8c88  [935, 65]  [6035, 5253]     B44   0.50       935   \n",
       "\n",
       "       anchor_2  anchor_3  anchor_4  anchor_5  \n",
       "0           NaN       NaN       NaN       NaN  \n",
       "1           NaN       NaN       NaN       NaN  \n",
       "2           NaN       NaN       NaN       NaN  \n",
       "3           NaN       NaN       NaN       NaN  \n",
       "4           NaN       NaN       NaN       NaN  \n",
       "...         ...       ...       ...       ...  \n",
       "36468      65.0       NaN       NaN       NaN  \n",
       "36469      65.0       NaN       NaN       NaN  \n",
       "36470      65.0       NaN       NaN       NaN  \n",
       "36471      65.0       NaN       NaN       NaN  \n",
       "36472      65.0       NaN       NaN       NaN  \n",
       "\n",
       "[36473 rows x 10 columns]"
      ]
     },
     "execution_count": 349,
     "metadata": {},
     "output_type": "execute_result"
    }
   ],
   "source": [
    "df_1"
   ]
  },
  {
   "cell_type": "code",
   "execution_count": 350,
   "id": "c0e051b1",
   "metadata": {},
   "outputs": [],
   "source": [
    "# df_1.fillna(36473,inplace=True)"
   ]
  },
  {
   "cell_type": "code",
   "execution_count": 351,
   "id": "af632e0a",
   "metadata": {},
   "outputs": [],
   "source": [
    "# df_1[df_1['anchor_5']!=36473.0]"
   ]
  },
  {
   "cell_type": "code",
   "execution_count": 328,
   "id": "25e0aa4c",
   "metadata": {},
   "outputs": [],
   "source": [
    "# df_1.drop(df_1.columns[5:],axis=1,inplace=True)"
   ]
  },
  {
   "cell_type": "code",
   "execution_count": 352,
   "id": "f3c22e7c",
   "metadata": {},
   "outputs": [],
   "source": [
    "l1 = []\n",
    "l2 = []\n",
    "l3 = []\n",
    "l4 = []\n",
    "l5 = []\n",
    "l6 = []\n",
    "l7 = []\n",
    "l8 = []\n",
    "l9 = []\n",
    "l10 = []\n",
    "l11 = []\n",
    "l12 = []\n",
    "l13 = []\n",
    "l14 = []\n",
    "l15 = []\n",
    "for i in np.array(df_1['target']):\n",
    "    if len(i) == 1:\n",
    "        l1.append(i[0])\n",
    "        l2.append(np.nan)\n",
    "        l3.append(np.nan)\n",
    "        l4.append(np.nan)\n",
    "        l5.append(np.nan)\n",
    "        l6.append(np.nan)\n",
    "        l7.append(np.nan)\n",
    "        l8.append(np.nan)\n",
    "        l9.append(np.nan)\n",
    "        l10.append(np.nan)\n",
    "        l11.append(np.nan)\n",
    "        l12.append(np.nan)\n",
    "        l13.append(np.nan)\n",
    "        l14.append(np.nan)\n",
    "        l15.append(np.nan)\n",
    "        \n",
    "    if len(i) == 2:\n",
    "        l1.append(i[0])\n",
    "        l2.append(i[1])\n",
    "        l3.append(np.nan)\n",
    "        l4.append(np.nan)\n",
    "        l5.append(np.nan)\n",
    "        l6.append(np.nan)\n",
    "        l7.append(np.nan)\n",
    "        l8.append(np.nan)\n",
    "        l9.append(np.nan)\n",
    "        l10.append(np.nan)\n",
    "        l11.append(np.nan)\n",
    "        l12.append(np.nan)\n",
    "        l13.append(np.nan)\n",
    "        l14.append(np.nan)\n",
    "        l15.append(np.nan)\n",
    "    if len(i) == 3:\n",
    "        l1.append(i[0])\n",
    "        l2.append(i[1])\n",
    "        l3.append(i[2])\n",
    "        l4.append(np.nan)\n",
    "        l5.append(np.nan)\n",
    "        l6.append(np.nan)\n",
    "        l7.append(np.nan)\n",
    "        l8.append(np.nan)\n",
    "        l9.append(np.nan)\n",
    "        l10.append(np.nan)\n",
    "        l11.append(np.nan)\n",
    "        l12.append(np.nan)\n",
    "        l13.append(np.nan)\n",
    "        l14.append(np.nan)\n",
    "        l15.append(np.nan)\n",
    "    if len(i) == 4:\n",
    "        l1.append(i[0])\n",
    "        l2.append(i[1])\n",
    "        l3.append(i[2])\n",
    "        l4.append(i[3])\n",
    "        l5.append(np.nan)\n",
    "        l6.append(np.nan)\n",
    "        l7.append(np.nan)\n",
    "        l8.append(np.nan)\n",
    "        l9.append(np.nan)\n",
    "        l10.append(np.nan)\n",
    "        l11.append(np.nan)\n",
    "        l12.append(np.nan)\n",
    "        l13.append(np.nan)\n",
    "        l14.append(np.nan)\n",
    "        l15.append(np.nan)\n",
    "    if len(i) == 5:\n",
    "        l1.append(i[0])\n",
    "        l2.append(i[1])\n",
    "        l3.append(i[2])\n",
    "        l4.append(i[3])\n",
    "        l5.append(i[4])\n",
    "        l6.append(np.nan)\n",
    "        l7.append(np.nan)\n",
    "        l8.append(np.nan)\n",
    "        l9.append(np.nan)\n",
    "        l10.append(np.nan)\n",
    "        l11.append(np.nan)\n",
    "        l12.append(np.nan)\n",
    "        l13.append(np.nan)\n",
    "        l14.append(np.nan)\n",
    "        l15.append(np.nan)\n",
    "    if len(i) == 6:\n",
    "        l1.append(i[0])\n",
    "        l2.append(i[1])\n",
    "        l3.append(i[2])\n",
    "        l4.append(i[3])\n",
    "        l5.append(i[4])\n",
    "        l6.append(i[5])\n",
    "        l7.append(np.nan)\n",
    "        l8.append(np.nan)\n",
    "        l9.append(np.nan)\n",
    "        l10.append(np.nan)\n",
    "        l11.append(np.nan)\n",
    "        l12.append(np.nan)\n",
    "        l13.append(np.nan)\n",
    "        l14.append(np.nan)\n",
    "        l15.append(np.nan)\n",
    "    if len(i) == 7:\n",
    "        l1.append(i[0])\n",
    "        l2.append(i[1])\n",
    "        l3.append(i[2])\n",
    "        l4.append(i[3])\n",
    "        l5.append(i[4])\n",
    "        l6.append(i[5])\n",
    "        l7.append(i[6])\n",
    "        l8.append(np.nan)\n",
    "        l9.append(np.nan)\n",
    "        l10.append(np.nan)\n",
    "        l11.append(np.nan)\n",
    "        l12.append(np.nan)\n",
    "        l13.append(np.nan)\n",
    "        l14.append(np.nan)\n",
    "        l15.append(np.nan)\n",
    "    if len(i) == 8:\n",
    "        l1.append(i[0])\n",
    "        l2.append(i[1])\n",
    "        l3.append(i[2])\n",
    "        l4.append(i[3])\n",
    "        l5.append(i[4])\n",
    "        l6.append(i[5])\n",
    "        l7.append(i[6])\n",
    "        l8.append(i[7])\n",
    "        l9.append(np.nan)\n",
    "        l10.append(np.nan)\n",
    "        l11.append(np.nan)\n",
    "        l12.append(np.nan)\n",
    "        l13.append(np.nan)\n",
    "        l14.append(np.nan)\n",
    "        l15.append(np.nan)\n",
    "    if len(i) == 9:\n",
    "        l1.append(i[0])\n",
    "        l2.append(i[1])\n",
    "        l3.append(i[2])\n",
    "        l4.append(i[3])\n",
    "        l5.append(i[4])\n",
    "        l6.append(i[5])\n",
    "        l7.append(i[6])\n",
    "        l8.append(i[7])\n",
    "        l9.append(i[8])\n",
    "        l10.append(np.nan)\n",
    "        l11.append(np.nan)\n",
    "        l12.append(np.nan)\n",
    "        l13.append(np.nan)\n",
    "        l14.append(np.nan)\n",
    "        l15.append(np.nan)\n",
    "    if len(i) == 10:\n",
    "        l1.append(i[0])\n",
    "        l2.append(i[1])\n",
    "        l3.append(i[2])\n",
    "        l4.append(i[3])\n",
    "        l5.append(i[4])\n",
    "        l6.append(i[5])\n",
    "        l7.append(i[6])\n",
    "        l8.append(i[7])\n",
    "        l9.append(i[8])\n",
    "        l10.append(i[9])\n",
    "        l11.append(np.nan)\n",
    "        l12.append(np.nan)\n",
    "        l13.append(np.nan)\n",
    "        l14.append(np.nan)\n",
    "        l15.append(np.nan)\n",
    "    if len(i) == 11:\n",
    "        l1.append(i[0])\n",
    "        l2.append(i[1])\n",
    "        l3.append(i[2])\n",
    "        l4.append(i[3])\n",
    "        l5.append(i[4])\n",
    "        l6.append(i[5])\n",
    "        l7.append(i[6])\n",
    "        l8.append(i[7])\n",
    "        l9.append(i[8])\n",
    "        l10.append(i[9])\n",
    "        l11.append(i[10])\n",
    "        l12.append(np.nan)\n",
    "        l13.append(np.nan)\n",
    "        l14.append(np.nan)\n",
    "        l15.append(np.nan)\n",
    "    if len(i) == 12:\n",
    "        l1.append(i[0])\n",
    "        l2.append(i[1])\n",
    "        l3.append(i[2])\n",
    "        l4.append(i[3])\n",
    "        l5.append(i[4])\n",
    "        l6.append(i[5])\n",
    "        l7.append(i[6])\n",
    "        l8.append(i[7])\n",
    "        l9.append(i[8])\n",
    "        l10.append(i[9])\n",
    "        l11.append(i[10])\n",
    "        l12.append(i[11])\n",
    "        l13.append(np.nan)\n",
    "        l14.append(np.nan)\n",
    "        l15.append(np.nan)\n",
    "    if len(i) == 13:\n",
    "        l1.append(i[0])\n",
    "        l2.append(i[1])\n",
    "        l3.append(i[2])\n",
    "        l4.append(i[3])\n",
    "        l5.append(i[4])\n",
    "        l6.append(i[5])\n",
    "        l7.append(i[6])\n",
    "        l8.append(i[7])\n",
    "        l9.append(i[8])\n",
    "        l10.append(i[9])\n",
    "        l11.append(i[10])\n",
    "        l12.append(i[11])\n",
    "        l13.append(i[12])\n",
    "        l14.append(np.nan)\n",
    "        l15.append(np.nan)\n",
    "    if len(i) == 14:\n",
    "        l1.append(i[0])\n",
    "        l2.append(i[1])\n",
    "        l3.append(i[2])\n",
    "        l4.append(i[3])\n",
    "        l5.append(i[4])\n",
    "        l6.append(i[5])\n",
    "        l7.append(i[6])\n",
    "        l8.append(i[7])\n",
    "        l9.append(i[8])\n",
    "        l10.append(i[9])\n",
    "        l11.append(i[10])\n",
    "        l12.append(i[11])\n",
    "        l13.append(i[12])\n",
    "        l14.append(i[13])\n",
    "        l15.append(np.nan)\n",
    "    if len(i) == 15:\n",
    "        l1.append(i[0])\n",
    "        l2.append(i[1])\n",
    "        l3.append(i[2])\n",
    "        l4.append(i[3])\n",
    "        l5.append(i[4])\n",
    "        l6.append(i[5])\n",
    "        l7.append(i[6])\n",
    "        l8.append(i[7])\n",
    "        l9.append(i[8])\n",
    "        l10.append(i[9])\n",
    "        l11.append(i[10])\n",
    "        l12.append(i[11])\n",
    "        l13.append(i[12])\n",
    "        l14.append(i[13])\n",
    "        l15.append(i[14])"
   ]
  },
  {
   "cell_type": "code",
   "execution_count": 353,
   "id": "7008641b",
   "metadata": {},
   "outputs": [],
   "source": [
    "df_1['target_1'] = np.array(l1)\n",
    "df_1['target_2'] = np.array(l2)\n",
    "df_1['target_3'] = np.array(l3)\n",
    "df_1['target_4'] = np.array(l4)\n",
    "df_1['target_5'] = np.array(l5)\n",
    "df_1['target_6'] = np.array(l6)\n",
    "df_1['target_7'] = np.array(l7)\n",
    "df_1['target_8'] = np.array(l8)\n",
    "df_1['target_9'] = np.array(l9)\n",
    "df_1['target_10'] = np.array(l10)\n",
    "df_1['target_11'] = np.array(l11)\n",
    "df_1['target_12'] = np.array(l12)\n",
    "df_1['target_13'] = np.array(l13)\n",
    "df_1['target_14'] = np.array(l14)\n",
    "df_1['target_15'] = np.array(l15)"
   ]
  },
  {
   "cell_type": "code",
   "execution_count": 364,
   "id": "a1e31857",
   "metadata": {},
   "outputs": [],
   "source": [
    "df_1.fillna('10101010',inplace=True)"
   ]
  },
  {
   "cell_type": "markdown",
   "id": "7425d052",
   "metadata": {},
   "source": [
    "__Spliting (70/30)__\n",
    "* Here we test/evaluate our models"
   ]
  },
  {
   "cell_type": "code",
   "execution_count": 365,
   "id": "85b5d6bc",
   "metadata": {},
   "outputs": [
    {
     "data": {
      "text/plain": [
       "Index(['anchor_1', 'anchor_2', 'anchor_3', 'anchor_4', 'anchor_5', 'target_1',\n",
       "       'target_2', 'target_3', 'target_4', 'target_5', 'target_6', 'target_7',\n",
       "       'target_8', 'target_9', 'target_10', 'target_11', 'target_12',\n",
       "       'target_13', 'target_14', 'target_15'],\n",
       "      dtype='object')"
      ]
     },
     "execution_count": 365,
     "metadata": {},
     "output_type": "execute_result"
    }
   ],
   "source": [
    "df_1.columns[5:]"
   ]
  },
  {
   "cell_type": "code",
   "execution_count": 366,
   "id": "26a82cdf",
   "metadata": {},
   "outputs": [],
   "source": [
    "# x = df_1.drop(['id','score'],axis=1).values\n",
    "x = df_1[df_1.columns[5:]]\n",
    "y = df_1['score'].values"
   ]
  },
  {
   "cell_type": "code",
   "execution_count": 367,
   "id": "05c64207",
   "metadata": {},
   "outputs": [
    {
     "data": {
      "text/html": [
       "<div>\n",
       "<style scoped>\n",
       "    .dataframe tbody tr th:only-of-type {\n",
       "        vertical-align: middle;\n",
       "    }\n",
       "\n",
       "    .dataframe tbody tr th {\n",
       "        vertical-align: top;\n",
       "    }\n",
       "\n",
       "    .dataframe thead th {\n",
       "        text-align: right;\n",
       "    }\n",
       "</style>\n",
       "<table border=\"1\" class=\"dataframe\">\n",
       "  <thead>\n",
       "    <tr style=\"text-align: right;\">\n",
       "      <th></th>\n",
       "      <th>anchor_1</th>\n",
       "      <th>anchor_2</th>\n",
       "      <th>anchor_3</th>\n",
       "      <th>anchor_4</th>\n",
       "      <th>anchor_5</th>\n",
       "      <th>target_1</th>\n",
       "      <th>target_2</th>\n",
       "      <th>target_3</th>\n",
       "      <th>target_4</th>\n",
       "      <th>target_5</th>\n",
       "      <th>target_6</th>\n",
       "      <th>target_7</th>\n",
       "      <th>target_8</th>\n",
       "      <th>target_9</th>\n",
       "      <th>target_10</th>\n",
       "      <th>target_11</th>\n",
       "      <th>target_12</th>\n",
       "      <th>target_13</th>\n",
       "      <th>target_14</th>\n",
       "      <th>target_15</th>\n",
       "    </tr>\n",
       "  </thead>\n",
       "  <tbody>\n",
       "    <tr>\n",
       "      <th>0</th>\n",
       "      <td>0</td>\n",
       "      <td>10101010</td>\n",
       "      <td>10101010</td>\n",
       "      <td>10101010</td>\n",
       "      <td>10101010</td>\n",
       "      <td>35</td>\n",
       "      <td>4113.0</td>\n",
       "      <td>10101010</td>\n",
       "      <td>10101010</td>\n",
       "      <td>10101010</td>\n",
       "      <td>10101010</td>\n",
       "      <td>10101010</td>\n",
       "      <td>10101010</td>\n",
       "      <td>10101010</td>\n",
       "      <td>10101010</td>\n",
       "      <td>10101010</td>\n",
       "      <td>10101010</td>\n",
       "      <td>10101010</td>\n",
       "      <td>10101010</td>\n",
       "      <td>10101010</td>\n",
       "    </tr>\n",
       "    <tr>\n",
       "      <th>1</th>\n",
       "      <td>0</td>\n",
       "      <td>10101010</td>\n",
       "      <td>10101010</td>\n",
       "      <td>10101010</td>\n",
       "      <td>10101010</td>\n",
       "      <td>84</td>\n",
       "      <td>35.0</td>\n",
       "      <td>10101010</td>\n",
       "      <td>10101010</td>\n",
       "      <td>10101010</td>\n",
       "      <td>10101010</td>\n",
       "      <td>10101010</td>\n",
       "      <td>10101010</td>\n",
       "      <td>10101010</td>\n",
       "      <td>10101010</td>\n",
       "      <td>10101010</td>\n",
       "      <td>10101010</td>\n",
       "      <td>10101010</td>\n",
       "      <td>10101010</td>\n",
       "      <td>10101010</td>\n",
       "    </tr>\n",
       "    <tr>\n",
       "      <th>2</th>\n",
       "      <td>0</td>\n",
       "      <td>10101010</td>\n",
       "      <td>10101010</td>\n",
       "      <td>10101010</td>\n",
       "      <td>10101010</td>\n",
       "      <td>86</td>\n",
       "      <td>852.0</td>\n",
       "      <td>10101010</td>\n",
       "      <td>10101010</td>\n",
       "      <td>10101010</td>\n",
       "      <td>10101010</td>\n",
       "      <td>10101010</td>\n",
       "      <td>10101010</td>\n",
       "      <td>10101010</td>\n",
       "      <td>10101010</td>\n",
       "      <td>10101010</td>\n",
       "      <td>10101010</td>\n",
       "      <td>10101010</td>\n",
       "      <td>10101010</td>\n",
       "      <td>10101010</td>\n",
       "    </tr>\n",
       "    <tr>\n",
       "      <th>3</th>\n",
       "      <td>0</td>\n",
       "      <td>10101010</td>\n",
       "      <td>10101010</td>\n",
       "      <td>10101010</td>\n",
       "      <td>10101010</td>\n",
       "      <td>1798</td>\n",
       "      <td>4260.0</td>\n",
       "      <td>10101010</td>\n",
       "      <td>10101010</td>\n",
       "      <td>10101010</td>\n",
       "      <td>10101010</td>\n",
       "      <td>10101010</td>\n",
       "      <td>10101010</td>\n",
       "      <td>10101010</td>\n",
       "      <td>10101010</td>\n",
       "      <td>10101010</td>\n",
       "      <td>10101010</td>\n",
       "      <td>10101010</td>\n",
       "      <td>10101010</td>\n",
       "      <td>10101010</td>\n",
       "    </tr>\n",
       "    <tr>\n",
       "      <th>4</th>\n",
       "      <td>0</td>\n",
       "      <td>10101010</td>\n",
       "      <td>10101010</td>\n",
       "      <td>10101010</td>\n",
       "      <td>10101010</td>\n",
       "      <td>2177</td>\n",
       "      <td>4500.0</td>\n",
       "      <td>10101010</td>\n",
       "      <td>10101010</td>\n",
       "      <td>10101010</td>\n",
       "      <td>10101010</td>\n",
       "      <td>10101010</td>\n",
       "      <td>10101010</td>\n",
       "      <td>10101010</td>\n",
       "      <td>10101010</td>\n",
       "      <td>10101010</td>\n",
       "      <td>10101010</td>\n",
       "      <td>10101010</td>\n",
       "      <td>10101010</td>\n",
       "      <td>10101010</td>\n",
       "    </tr>\n",
       "    <tr>\n",
       "      <th>...</th>\n",
       "      <td>...</td>\n",
       "      <td>...</td>\n",
       "      <td>...</td>\n",
       "      <td>...</td>\n",
       "      <td>...</td>\n",
       "      <td>...</td>\n",
       "      <td>...</td>\n",
       "      <td>...</td>\n",
       "      <td>...</td>\n",
       "      <td>...</td>\n",
       "      <td>...</td>\n",
       "      <td>...</td>\n",
       "      <td>...</td>\n",
       "      <td>...</td>\n",
       "      <td>...</td>\n",
       "      <td>...</td>\n",
       "      <td>...</td>\n",
       "      <td>...</td>\n",
       "      <td>...</td>\n",
       "      <td>...</td>\n",
       "    </tr>\n",
       "    <tr>\n",
       "      <th>36468</th>\n",
       "      <td>935</td>\n",
       "      <td>65.0</td>\n",
       "      <td>10101010</td>\n",
       "      <td>10101010</td>\n",
       "      <td>10101010</td>\n",
       "      <td>6035</td>\n",
       "      <td>352.0</td>\n",
       "      <td>10101010</td>\n",
       "      <td>10101010</td>\n",
       "      <td>10101010</td>\n",
       "      <td>10101010</td>\n",
       "      <td>10101010</td>\n",
       "      <td>10101010</td>\n",
       "      <td>10101010</td>\n",
       "      <td>10101010</td>\n",
       "      <td>10101010</td>\n",
       "      <td>10101010</td>\n",
       "      <td>10101010</td>\n",
       "      <td>10101010</td>\n",
       "      <td>10101010</td>\n",
       "    </tr>\n",
       "    <tr>\n",
       "      <th>36469</th>\n",
       "      <td>935</td>\n",
       "      <td>65.0</td>\n",
       "      <td>10101010</td>\n",
       "      <td>10101010</td>\n",
       "      <td>10101010</td>\n",
       "      <td>6035</td>\n",
       "      <td>667.0</td>\n",
       "      <td>10101010</td>\n",
       "      <td>10101010</td>\n",
       "      <td>10101010</td>\n",
       "      <td>10101010</td>\n",
       "      <td>10101010</td>\n",
       "      <td>10101010</td>\n",
       "      <td>10101010</td>\n",
       "      <td>10101010</td>\n",
       "      <td>10101010</td>\n",
       "      <td>10101010</td>\n",
       "      <td>10101010</td>\n",
       "      <td>10101010</td>\n",
       "      <td>10101010</td>\n",
       "    </tr>\n",
       "    <tr>\n",
       "      <th>36470</th>\n",
       "      <td>935</td>\n",
       "      <td>65.0</td>\n",
       "      <td>10101010</td>\n",
       "      <td>10101010</td>\n",
       "      <td>10101010</td>\n",
       "      <td>6035</td>\n",
       "      <td>2431.0</td>\n",
       "      <td>10101010</td>\n",
       "      <td>10101010</td>\n",
       "      <td>10101010</td>\n",
       "      <td>10101010</td>\n",
       "      <td>10101010</td>\n",
       "      <td>10101010</td>\n",
       "      <td>10101010</td>\n",
       "      <td>10101010</td>\n",
       "      <td>10101010</td>\n",
       "      <td>10101010</td>\n",
       "      <td>10101010</td>\n",
       "      <td>10101010</td>\n",
       "      <td>10101010</td>\n",
       "    </tr>\n",
       "    <tr>\n",
       "      <th>36471</th>\n",
       "      <td>935</td>\n",
       "      <td>65.0</td>\n",
       "      <td>10101010</td>\n",
       "      <td>10101010</td>\n",
       "      <td>10101010</td>\n",
       "      <td>6035</td>\n",
       "      <td>3259.0</td>\n",
       "      <td>10101010</td>\n",
       "      <td>10101010</td>\n",
       "      <td>10101010</td>\n",
       "      <td>10101010</td>\n",
       "      <td>10101010</td>\n",
       "      <td>10101010</td>\n",
       "      <td>10101010</td>\n",
       "      <td>10101010</td>\n",
       "      <td>10101010</td>\n",
       "      <td>10101010</td>\n",
       "      <td>10101010</td>\n",
       "      <td>10101010</td>\n",
       "      <td>10101010</td>\n",
       "    </tr>\n",
       "    <tr>\n",
       "      <th>36472</th>\n",
       "      <td>935</td>\n",
       "      <td>65.0</td>\n",
       "      <td>10101010</td>\n",
       "      <td>10101010</td>\n",
       "      <td>10101010</td>\n",
       "      <td>6035</td>\n",
       "      <td>5253.0</td>\n",
       "      <td>10101010</td>\n",
       "      <td>10101010</td>\n",
       "      <td>10101010</td>\n",
       "      <td>10101010</td>\n",
       "      <td>10101010</td>\n",
       "      <td>10101010</td>\n",
       "      <td>10101010</td>\n",
       "      <td>10101010</td>\n",
       "      <td>10101010</td>\n",
       "      <td>10101010</td>\n",
       "      <td>10101010</td>\n",
       "      <td>10101010</td>\n",
       "      <td>10101010</td>\n",
       "    </tr>\n",
       "  </tbody>\n",
       "</table>\n",
       "<p>36473 rows × 20 columns</p>\n",
       "</div>"
      ],
      "text/plain": [
       "       anchor_1  anchor_2  anchor_3  anchor_4  anchor_5  target_1 target_2  \\\n",
       "0             0  10101010  10101010  10101010  10101010        35   4113.0   \n",
       "1             0  10101010  10101010  10101010  10101010        84     35.0   \n",
       "2             0  10101010  10101010  10101010  10101010        86    852.0   \n",
       "3             0  10101010  10101010  10101010  10101010      1798   4260.0   \n",
       "4             0  10101010  10101010  10101010  10101010      2177   4500.0   \n",
       "...         ...       ...       ...       ...       ...       ...      ...   \n",
       "36468       935      65.0  10101010  10101010  10101010      6035    352.0   \n",
       "36469       935      65.0  10101010  10101010  10101010      6035    667.0   \n",
       "36470       935      65.0  10101010  10101010  10101010      6035   2431.0   \n",
       "36471       935      65.0  10101010  10101010  10101010      6035   3259.0   \n",
       "36472       935      65.0  10101010  10101010  10101010      6035   5253.0   \n",
       "\n",
       "       target_3  target_4  target_5  target_6  target_7  target_8  target_9  \\\n",
       "0      10101010  10101010  10101010  10101010  10101010  10101010  10101010   \n",
       "1      10101010  10101010  10101010  10101010  10101010  10101010  10101010   \n",
       "2      10101010  10101010  10101010  10101010  10101010  10101010  10101010   \n",
       "3      10101010  10101010  10101010  10101010  10101010  10101010  10101010   \n",
       "4      10101010  10101010  10101010  10101010  10101010  10101010  10101010   \n",
       "...         ...       ...       ...       ...       ...       ...       ...   \n",
       "36468  10101010  10101010  10101010  10101010  10101010  10101010  10101010   \n",
       "36469  10101010  10101010  10101010  10101010  10101010  10101010  10101010   \n",
       "36470  10101010  10101010  10101010  10101010  10101010  10101010  10101010   \n",
       "36471  10101010  10101010  10101010  10101010  10101010  10101010  10101010   \n",
       "36472  10101010  10101010  10101010  10101010  10101010  10101010  10101010   \n",
       "\n",
       "      target_10 target_11 target_12 target_13 target_14 target_15  \n",
       "0      10101010  10101010  10101010  10101010  10101010  10101010  \n",
       "1      10101010  10101010  10101010  10101010  10101010  10101010  \n",
       "2      10101010  10101010  10101010  10101010  10101010  10101010  \n",
       "3      10101010  10101010  10101010  10101010  10101010  10101010  \n",
       "4      10101010  10101010  10101010  10101010  10101010  10101010  \n",
       "...         ...       ...       ...       ...       ...       ...  \n",
       "36468  10101010  10101010  10101010  10101010  10101010  10101010  \n",
       "36469  10101010  10101010  10101010  10101010  10101010  10101010  \n",
       "36470  10101010  10101010  10101010  10101010  10101010  10101010  \n",
       "36471  10101010  10101010  10101010  10101010  10101010  10101010  \n",
       "36472  10101010  10101010  10101010  10101010  10101010  10101010  \n",
       "\n",
       "[36473 rows x 20 columns]"
      ]
     },
     "execution_count": 367,
     "metadata": {},
     "output_type": "execute_result"
    }
   ],
   "source": [
    "x"
   ]
  },
  {
   "cell_type": "code",
   "execution_count": 368,
   "id": "0be17aec",
   "metadata": {
    "scrolled": true
   },
   "outputs": [],
   "source": [
    "x_train, x_test, y_train, y_test = train_test_split(x, y, test_size=0.30, random_state=141)"
   ]
  },
  {
   "cell_type": "code",
   "execution_count": 369,
   "id": "2ae00878",
   "metadata": {},
   "outputs": [
    {
     "name": "stdout",
     "output_type": "stream",
     "text": [
      "Random Forest\n"
     ]
    }
   ],
   "source": [
    "print(\"Random Forest\")"
   ]
  },
  {
   "cell_type": "markdown",
   "id": "71f54947",
   "metadata": {},
   "source": [
    "__Random Forest Regressor__"
   ]
  },
  {
   "cell_type": "code",
   "execution_count": 370,
   "id": "204f4a34",
   "metadata": {},
   "outputs": [
    {
     "name": "stdout",
     "output_type": "stream",
     "text": [
      "Mean Square Error: 0.04834529336501554 \n",
      "Root Mean Squared Error: 0.21987563158525672 \n",
      "Mean Absolute Error: 0.16693657466642298 \n"
     ]
    }
   ],
   "source": [
    "from sklearn.ensemble import RandomForestRegressor\n",
    "regr = RandomForestRegressor(random_state=141)\n",
    "regr.fit(x_train, y_train)\n",
    "y_pred = np.round(regr.predict(x_test),decimals=2)\n",
    "from sklearn.metrics import mean_squared_error, mean_absolute_error\n",
    "mse = mean_squared_error(y_test, y_pred)\n",
    "rmse = mean_squared_error(y_test, y_pred,squared=False)\n",
    "mae = mean_absolute_error(y_test,y_pred)\n",
    "print(\"Mean Square Error: {} \\nRoot Mean Squared Error: {} \\nMean Absolute Error: {} \".format(mse,rmse,mae))"
   ]
  },
  {
   "cell_type": "code",
   "execution_count": 371,
   "id": "b9841eb9",
   "metadata": {},
   "outputs": [
    {
     "name": "stdout",
     "output_type": "stream",
     "text": [
      "Lasso\n"
     ]
    }
   ],
   "source": [
    "print(\"Lasso\")"
   ]
  },
  {
   "cell_type": "markdown",
   "id": "86839a72",
   "metadata": {},
   "source": [
    "__Lasso Regression__"
   ]
  },
  {
   "cell_type": "code",
   "execution_count": 372,
   "id": "469d0933",
   "metadata": {},
   "outputs": [
    {
     "name": "stdout",
     "output_type": "stream",
     "text": [
      "Mean Square Error: 0.06468399744105283 \n",
      "Root Mean Squared Error: 0.2543304886187514 \n",
      "Mean Absolute Error: 0.20861177115700968 \n"
     ]
    }
   ],
   "source": [
    "from sklearn.linear_model import Lasso\n",
    "lr = Lasso(alpha=0.5)\n",
    "lr.fit(x_train, y_train)\n",
    "y_pred = np.round(lr.predict(x_test),decimals=2)\n",
    "mse = mean_squared_error(y_test, y_pred)\n",
    "rmse = mean_squared_error(y_test, y_pred,squared=False)\n",
    "mae = mean_absolute_error(y_test,y_pred)\n",
    "print(\"Mean Square Error: {} \\nRoot Mean Squared Error: {} \\nMean Absolute Error: {} \".format(mse,rmse,mae))"
   ]
  },
  {
   "cell_type": "markdown",
   "id": "5d07ac68",
   "metadata": {},
   "source": [
    "__Prediction Submission__\n",
    "* Will be used later for competition"
   ]
  }
 ],
 "metadata": {
  "kernelspec": {
   "display_name": "GPU_ACC",
   "language": "python",
   "name": "gpu_acc"
  },
  "language_info": {
   "codemirror_mode": {
    "name": "ipython",
    "version": 3
   },
   "file_extension": ".py",
   "mimetype": "text/x-python",
   "name": "python",
   "nbconvert_exporter": "python",
   "pygments_lexer": "ipython3",
   "version": "3.8.12"
  }
 },
 "nbformat": 4,
 "nbformat_minor": 5
}
